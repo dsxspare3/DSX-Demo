{
    "cells": [
        {
            "cell_type": "markdown", 
            "source": "\n# Access DB2 Warehouse on Cloud and explore the data with Python\n\nThis notebook shows how to access a DB2 data warehouse or DB2 database when using Python. The examples use a DB2 warehouse, but the instructions apply to both DB2 Warehouse and DB2.\n\n\n\n## Table of contents\n\n1. [Info](#Info)\n1. [Create Version](#Version)\n1. [Setup](#Setup) \n1. [Import the *ibmdbpy* Python library](#Import-the-ibmdbpy-Python-library)\n1. [Insert the database connection credentials](#Insert-the-database-connection-credentials)\n1. [Create the database connection](#Create-the-database-connection)\n1. [Use dataframe to read and manipulate tables](#Use-dataframe-to-read-and-manipulate-tables)\n1. [Use SQL](#Use-SQL)\n1. [Explore the trafficking data](#Explore-the-trafficking-data)\n1. [Close the database connection](#Close-the-database-connection)\n1. [Share the notebook](#Share)\n1. [Save to GitHub](#GitHub)\n1. [Help](#Help)\n1. [Summary](#Summary)\n\n<a id=\"Info\"></a>\n## Info\nSelect the Info icon to display general information about the notebook. <br>\n<img alt=\"IBM Bluemix.Get started now\" src=\"https://raw.githubusercontent.com/jpatter/DSX/master/Lab-1/images/info-button.png\" ><br>\nYou can change the notebook name or add a description here.  \n<img alt=\"IBM Bluemix.Get started now\" src=\"https://raw.githubusercontent.com/bleonardb3/DSX/master/Lab-1/images/Lab1Information.png\" >\n\n<a id=\"Version\"></a>\n## Create Version \n\nSave a version of the notebook by selecting File > Save Version \n<img alt=\"IBM Bluemix.Get started now\" src=\"https://raw.githubusercontent.com/jpatter/DSX/master/Lab-1/images/FileOptions.PNG\" > or by selecting the Versions icon. <img alt=\"IBM Bluemix.Get started now\" src=\"https://raw.githubusercontent.com/jpatter/DSX/master/Lab-1/images/versions-button.png\" ><br>\nYou can have up to ten (10) versions of a notebook.   Notebook versions are saved in a FIFO manner.\n\n<a id=\"Setup\"></a>\n## Setup\n\nBefore beginning you will need a *DB2 Warehouse on Cloud* instance. DB2 Warehouse is a fully managed cloud data warehouse, purpose-built for analytics. It offers massively parallel processing (MPP) scale and compatibility with a wide range of business intelligence (BI) tools.  \n\n1. __RIGHT-CLICK__ [this link](https://github.com/bleonardb3/DSX/raw/master/Lab-1/data/Female-human-trafficking.csv) and select __Save Link As...__ to save the `Female-human-trafficking.csv` file to your desktop.\n1. Download the [DB2 Warehouse setup instructions](https://github.com/bleonardb3/DSX/blob/master/Lab-1/DB2Warehouse_DSXPOT.pdf).  You need to download the PDF in order for the links to work.\n1. Open up the PDF file that you've just downloaded in the previous step and follow the instructions there to setup DB2 Warehouse, load the human trafficking data and create a DSX data connection.\n1. Click on the icon below to navigate to the DB2 Warehouse provisioning screen. \n\n<a class=\"ibm-tooltip\" href=\"https://console.ng.bluemix.net/catalog/services/dashdb\" target=\"_blank\" title=\"\" id=\"ibm-tooltip-0\">\n<img alt=\"IBM Bluemix.Get started now\" src=\"https://raw.githubusercontent.com/jpatter/DSX/master/Lab-1/images/DB2Warehouse.png\" >\n</a>\n\n<a id=\"Import-the-ibmdbpy-Python-library\"></a>\n## Import the *ibmdbpy* Python library\n\nPython support for DB Warehouse and DB2 is provided by the [ibmdbpy Python library](https://pypi.python.org/pypi/ibmdbpy). Connecting to DB2 Warehouse or DB2 is also enabled by a DB2 driver, libdb2.so.  The ibmdbpy project provides a Python interface for data manipulation and access to in-database algorithms in IBM DB2 Warehouse and IBM DB2. It accelerates Python analytics by seamlessly pushing operations written in Python into the underlying database for execution, thereby benefitting from in-database performance-enhancing features, such as columnar storage and parallel processing.\n\n### Setup a *JDBC* connection\nThe JDBC Connection is based on a Java virtual machine. From the ibmdbpy library you can use JDBC to connect to a remote DB2 Warehouse/DB2 instance. To be able to use JDBC to connect, we need to import the *JayDeBeApi* package and we need to add the DB2 Warehouse/DB2 data connector jar file to the java class path.\n\nTo run a cell, click on the cell and click the run button in the toolbar or press __SHIFT-ENTER__.\n\nRun the following commands to install and load the `JayDeBeApi` package and the `ibmdbpy` library into your notebook:", 
            "metadata": {}
        }, 
        {
            "cell_type": "code", 
            "execution_count": 1, 
            "metadata": {}, 
            "source": "import jaydebeapi\nfrom ibmdbpy import IdaDataBase\nfrom ibmdbpy import IdaDataFrame", 
            "outputs": []
        }, 
        {
            "cell_type": "code", 
            "execution_count": 2, 
            "metadata": {}, 
            "source": "import pixiedust", 
            "outputs": [
                {
                    "output_type": "stream", 
                    "text": "Pixiedust database opened successfully\nTable VERSION_TRACKER created successfully\n", 
                    "name": "stdout"
                }, 
                {
                    "output_type": "display_data", 
                    "metadata": {}, 
                    "data": {
                        "text/html": "\n        <div style=\"margin:10px\">\n            <a href=\"https://github.com/ibm-watson-data-lab/pixiedust\" target=\"_new\">\n                <img src=\"https://github.com/ibm-watson-data-lab/pixiedust/raw/master/docs/_static/pd_icon32.png\" style=\"float:left;margin-right:10px\"/>\n            </a>\n            <span>Pixiedust version 1.1.7</span>\n        </div>\n        ", 
                        "text/plain": "<IPython.core.display.HTML object>"
                    }
                }, 
                {
                    "output_type": "stream", 
                    "text": "Pixiedust runtime updated. Please restart kernel\nTable SPARK_PACKAGES created successfully\nTable USER_PREFERENCES created successfully\nTable service_connections created successfully\n", 
                    "name": "stdout"
                }, 
                {
                    "output_type": "display_data", 
                    "metadata": {}, 
                    "data": {
                        "text/html": "<div>Warning: You are not running the latest version of PixieDust. Current is 1.1.7, Latest is 1.1.7.1</div>", 
                        "text/plain": "<IPython.core.display.HTML object>"
                    }
                }, 
                {
                    "output_type": "display_data", 
                    "metadata": {}, 
                    "data": {
                        "text/html": "\n                <div>Please copy and run the following command in a new cell to upgrade: <span style=\"background-color:#ececec;font-family:monospace;padding:0 5px\">!pip install --user --upgrade pixiedust</span></div>\n            ", 
                        "text/plain": "<IPython.core.display.HTML object>"
                    }
                }, 
                {
                    "output_type": "display_data", 
                    "metadata": {}, 
                    "data": {
                        "text/html": "<div>Please restart kernel after upgrading.</div>", 
                        "text/plain": "<IPython.core.display.HTML object>"
                    }
                }
            ]
        }, 
        {
            "cell_type": "code", 
            "execution_count": 3, 
            "metadata": {}, 
            "source": "# connection jar for DB2 Warehouse on Cloud -- you may have to restart the kernel and re-run cells.   If you do, a warning will appear.\n\npixiedust.installPackage(\"file:///usr/local/src/data-connectors-1.4.1/db2jcc4-10.5.0.6.jar\")", 
            "outputs": [
                {
                    "output_type": "stream", 
                    "text": "Downloading package file:///usr/local/src/data-connectors-1.4.1/db2jcc4-10.5.0.6.jar to /gpfs/fs01/user/s990-a2ebccc61bb098-e9357aa3f018/data/libs/db2jcc4-10.5.0.6.jar\n", 
                    "name": "stdout"
                }, 
                {
                    "output_type": "display_data", 
                    "metadata": {}, 
                    "data": {
                        "text/html": "\n                <div>\n                    <span id=\"pm_labelc2a4ef11\">Starting download...</span>\n                    <progress id=\"pm_progressc2a4ef11\" max=\"100\" value=\"0\" style=\"width:200px\"></progress>\n                </div>", 
                        "text/plain": "<IPython.core.display.HTML object>"
                    }
                }, 
                {
                    "output_type": "display_data", 
                    "metadata": {}, 
                    "data": {
                        "application/javascript": "\n                    $(\"#pm_labelc2a4ef11\").text(\"Downloaded 8192 of 3411524 bytes\");\n                    $(\"#pm_progressc2a4ef11\").attr(\"value\", 0.24);\n                ", 
                        "text/plain": "<IPython.core.display.Javascript object>"
                    }
                }, 
                {
                    "output_type": "display_data", 
                    "metadata": {}, 
                    "data": {
                        "application/javascript": "\n                    $(\"#pm_labelc2a4ef11\").text(\"Downloaded 16384 of 3411524 bytes\");\n                    $(\"#pm_progressc2a4ef11\").attr(\"value\", 0.48);\n                ", 
                        "text/plain": "<IPython.core.display.Javascript object>"
                    }
                }, 
                {
                    "output_type": "display_data", 
                    "metadata": {}, 
                    "data": {
                        "application/javascript": "\n                    $(\"#pm_labelc2a4ef11\").text(\"Downloaded 24576 of 3411524 bytes\");\n                    $(\"#pm_progressc2a4ef11\").attr(\"value\", 0.72);\n                ", 
                        "text/plain": "<IPython.core.display.Javascript object>"
                    }
                }, 
                {
                    "output_type": "display_data", 
                    "metadata": {}, 
                    "data": {
                        "application/javascript": "\n                    $(\"#pm_labelc2a4ef11\").text(\"Downloaded 32768 of 3411524 bytes\");\n                    $(\"#pm_progressc2a4ef11\").attr(\"value\", 0.96);\n                ", 
                        "text/plain": "<IPython.core.display.Javascript object>"
                    }
                }, 
                {
                    "output_type": "display_data", 
                    "metadata": {}, 
                    "data": {
                        "application/javascript": "\n                    $(\"#pm_labelc2a4ef11\").text(\"Downloaded 40960 of 3411524 bytes\");\n                    $(\"#pm_progressc2a4ef11\").attr(\"value\", 1.2);\n                ", 
                        "text/plain": "<IPython.core.display.Javascript object>"
                    }
                }, 
                {
                    "output_type": "display_data", 
                    "metadata": {}, 
                    "data": {
                        "application/javascript": "\n                    $(\"#pm_labelc2a4ef11\").text(\"Downloaded 49152 of 3411524 bytes\");\n                    $(\"#pm_progressc2a4ef11\").attr(\"value\", 1.44);\n                ", 
                        "text/plain": "<IPython.core.display.Javascript object>"
                    }
                }, 
                {
                    "output_type": "display_data", 
                    "metadata": {}, 
                    "data": {
                        "application/javascript": "\n                    $(\"#pm_labelc2a4ef11\").text(\"Downloaded 57344 of 3411524 bytes\");\n                    $(\"#pm_progressc2a4ef11\").attr(\"value\", 1.68);\n                ", 
                        "text/plain": "<IPython.core.display.Javascript object>"
                    }
                }, 
                {
                    "output_type": "display_data", 
                    "metadata": {}, 
                    "data": {
                        "application/javascript": "\n                    $(\"#pm_labelc2a4ef11\").text(\"Downloaded 65536 of 3411524 bytes\");\n                    $(\"#pm_progressc2a4ef11\").attr(\"value\", 1.92);\n                ", 
                        "text/plain": "<IPython.core.display.Javascript object>"
                    }
                }, 
                {
                    "output_type": "display_data", 
                    "metadata": {}, 
                    "data": {
                        "application/javascript": "\n                    $(\"#pm_labelc2a4ef11\").text(\"Downloaded 73728 of 3411524 bytes\");\n                    $(\"#pm_progressc2a4ef11\").attr(\"value\", 2.16);\n                ", 
                        "text/plain": "<IPython.core.display.Javascript object>"
                    }
                }, 
                {
                    "output_type": "display_data", 
                    "metadata": {}, 
                    "data": {
                        "application/javascript": "\n                    $(\"#pm_labelc2a4ef11\").text(\"Downloaded 81920 of 3411524 bytes\");\n                    $(\"#pm_progressc2a4ef11\").attr(\"value\", 2.4);\n                ", 
                        "text/plain": "<IPython.core.display.Javascript object>"
                    }
                }, 
                {
                    "output_type": "display_data", 
                    "metadata": {}, 
                    "data": {
                        "application/javascript": "\n                    $(\"#pm_labelc2a4ef11\").text(\"Downloaded 90112 of 3411524 bytes\");\n                    $(\"#pm_progressc2a4ef11\").attr(\"value\", 2.64);\n                ", 
                        "text/plain": "<IPython.core.display.Javascript object>"
                    }
                }, 
                {
                    "output_type": "display_data", 
                    "metadata": {}, 
                    "data": {
                        "application/javascript": "\n                    $(\"#pm_labelc2a4ef11\").text(\"Downloaded 98304 of 3411524 bytes\");\n                    $(\"#pm_progressc2a4ef11\").attr(\"value\", 2.88);\n                ", 
                        "text/plain": "<IPython.core.display.Javascript object>"
                    }
                }, 
                {
                    "output_type": "display_data", 
                    "metadata": {}, 
                    "data": {
                        "application/javascript": "\n                    $(\"#pm_labelc2a4ef11\").text(\"Downloaded 106496 of 3411524 bytes\");\n                    $(\"#pm_progressc2a4ef11\").attr(\"value\", 3.12);\n                ", 
                        "text/plain": "<IPython.core.display.Javascript object>"
                    }
                }, 
                {
                    "output_type": "display_data", 
                    "metadata": {}, 
                    "data": {
                        "application/javascript": "\n                    $(\"#pm_labelc2a4ef11\").text(\"Downloaded 114688 of 3411524 bytes\");\n                    $(\"#pm_progressc2a4ef11\").attr(\"value\", 3.36);\n                ", 
                        "text/plain": "<IPython.core.display.Javascript object>"
                    }
                }, 
                {
                    "output_type": "display_data", 
                    "metadata": {}, 
                    "data": {
                        "application/javascript": "\n                    $(\"#pm_labelc2a4ef11\").text(\"Downloaded 122880 of 3411524 bytes\");\n                    $(\"#pm_progressc2a4ef11\").attr(\"value\", 3.6);\n                ", 
                        "text/plain": "<IPython.core.display.Javascript object>"
                    }
                }, 
                {
                    "output_type": "display_data", 
                    "metadata": {}, 
                    "data": {
                        "application/javascript": "\n                    $(\"#pm_labelc2a4ef11\").text(\"Downloaded 131072 of 3411524 bytes\");\n                    $(\"#pm_progressc2a4ef11\").attr(\"value\", 3.84);\n                ", 
                        "text/plain": "<IPython.core.display.Javascript object>"
                    }
                }, 
                {
                    "output_type": "display_data", 
                    "metadata": {}, 
                    "data": {
                        "application/javascript": "\n                    $(\"#pm_labelc2a4ef11\").text(\"Downloaded 139264 of 3411524 bytes\");\n                    $(\"#pm_progressc2a4ef11\").attr(\"value\", 4.08);\n                ", 
                        "text/plain": "<IPython.core.display.Javascript object>"
                    }
                }, 
                {
                    "output_type": "display_data", 
                    "metadata": {}, 
                    "data": {
                        "application/javascript": "\n                    $(\"#pm_labelc2a4ef11\").text(\"Downloaded 147456 of 3411524 bytes\");\n                    $(\"#pm_progressc2a4ef11\").attr(\"value\", 4.32);\n                ", 
                        "text/plain": "<IPython.core.display.Javascript object>"
                    }
                }, 
                {
                    "output_type": "display_data", 
                    "metadata": {}, 
                    "data": {
                        "application/javascript": "\n                    $(\"#pm_labelc2a4ef11\").text(\"Downloaded 155648 of 3411524 bytes\");\n                    $(\"#pm_progressc2a4ef11\").attr(\"value\", 4.56);\n                ", 
                        "text/plain": "<IPython.core.display.Javascript object>"
                    }
                }, 
                {
                    "output_type": "display_data", 
                    "metadata": {}, 
                    "data": {
                        "application/javascript": "\n                    $(\"#pm_labelc2a4ef11\").text(\"Downloaded 163840 of 3411524 bytes\");\n                    $(\"#pm_progressc2a4ef11\").attr(\"value\", 4.8);\n                ", 
                        "text/plain": "<IPython.core.display.Javascript object>"
                    }
                }, 
                {
                    "output_type": "display_data", 
                    "metadata": {}, 
                    "data": {
                        "application/javascript": "\n                    $(\"#pm_labelc2a4ef11\").text(\"Downloaded 172032 of 3411524 bytes\");\n                    $(\"#pm_progressc2a4ef11\").attr(\"value\", 5.04);\n                ", 
                        "text/plain": "<IPython.core.display.Javascript object>"
                    }
                }, 
                {
                    "output_type": "display_data", 
                    "metadata": {}, 
                    "data": {
                        "application/javascript": "\n                    $(\"#pm_labelc2a4ef11\").text(\"Downloaded 180224 of 3411524 bytes\");\n                    $(\"#pm_progressc2a4ef11\").attr(\"value\", 5.28);\n                ", 
                        "text/plain": "<IPython.core.display.Javascript object>"
                    }
                }, 
                {
                    "output_type": "display_data", 
                    "metadata": {}, 
                    "data": {
                        "application/javascript": "\n                    $(\"#pm_labelc2a4ef11\").text(\"Downloaded 188416 of 3411524 bytes\");\n                    $(\"#pm_progressc2a4ef11\").attr(\"value\", 5.52);\n                ", 
                        "text/plain": "<IPython.core.display.Javascript object>"
                    }
                }, 
                {
                    "output_type": "display_data", 
                    "metadata": {}, 
                    "data": {
                        "application/javascript": "\n                    $(\"#pm_labelc2a4ef11\").text(\"Downloaded 196608 of 3411524 bytes\");\n                    $(\"#pm_progressc2a4ef11\").attr(\"value\", 5.76);\n                ", 
                        "text/plain": "<IPython.core.display.Javascript object>"
                    }
                }, 
                {
                    "output_type": "display_data", 
                    "metadata": {}, 
                    "data": {
                        "application/javascript": "\n                    $(\"#pm_labelc2a4ef11\").text(\"Downloaded 204800 of 3411524 bytes\");\n                    $(\"#pm_progressc2a4ef11\").attr(\"value\", 6.0);\n                ", 
                        "text/plain": "<IPython.core.display.Javascript object>"
                    }
                }, 
                {
                    "output_type": "display_data", 
                    "metadata": {}, 
                    "data": {
                        "application/javascript": "\n                    $(\"#pm_labelc2a4ef11\").text(\"Downloaded 212992 of 3411524 bytes\");\n                    $(\"#pm_progressc2a4ef11\").attr(\"value\", 6.24);\n                ", 
                        "text/plain": "<IPython.core.display.Javascript object>"
                    }
                }, 
                {
                    "output_type": "display_data", 
                    "metadata": {}, 
                    "data": {
                        "application/javascript": "\n                    $(\"#pm_labelc2a4ef11\").text(\"Downloaded 221184 of 3411524 bytes\");\n                    $(\"#pm_progressc2a4ef11\").attr(\"value\", 6.48);\n                ", 
                        "text/plain": "<IPython.core.display.Javascript object>"
                    }
                }, 
                {
                    "output_type": "display_data", 
                    "metadata": {}, 
                    "data": {
                        "application/javascript": "\n                    $(\"#pm_labelc2a4ef11\").text(\"Downloaded 229376 of 3411524 bytes\");\n                    $(\"#pm_progressc2a4ef11\").attr(\"value\", 6.72);\n                ", 
                        "text/plain": "<IPython.core.display.Javascript object>"
                    }
                }, 
                {
                    "output_type": "display_data", 
                    "metadata": {}, 
                    "data": {
                        "application/javascript": "\n                    $(\"#pm_labelc2a4ef11\").text(\"Downloaded 237568 of 3411524 bytes\");\n                    $(\"#pm_progressc2a4ef11\").attr(\"value\", 6.96);\n                ", 
                        "text/plain": "<IPython.core.display.Javascript object>"
                    }
                }, 
                {
                    "output_type": "display_data", 
                    "metadata": {}, 
                    "data": {
                        "application/javascript": "\n                    $(\"#pm_labelc2a4ef11\").text(\"Downloaded 245760 of 3411524 bytes\");\n                    $(\"#pm_progressc2a4ef11\").attr(\"value\", 7.2);\n                ", 
                        "text/plain": "<IPython.core.display.Javascript object>"
                    }
                }, 
                {
                    "output_type": "display_data", 
                    "metadata": {}, 
                    "data": {
                        "application/javascript": "\n                    $(\"#pm_labelc2a4ef11\").text(\"Downloaded 253952 of 3411524 bytes\");\n                    $(\"#pm_progressc2a4ef11\").attr(\"value\", 7.44);\n                ", 
                        "text/plain": "<IPython.core.display.Javascript object>"
                    }
                }, 
                {
                    "output_type": "display_data", 
                    "metadata": {}, 
                    "data": {
                        "application/javascript": "\n                    $(\"#pm_labelc2a4ef11\").text(\"Downloaded 262144 of 3411524 bytes\");\n                    $(\"#pm_progressc2a4ef11\").attr(\"value\", 7.68);\n                ", 
                        "text/plain": "<IPython.core.display.Javascript object>"
                    }
                }, 
                {
                    "output_type": "display_data", 
                    "metadata": {}, 
                    "data": {
                        "application/javascript": "\n                    $(\"#pm_labelc2a4ef11\").text(\"Downloaded 270336 of 3411524 bytes\");\n                    $(\"#pm_progressc2a4ef11\").attr(\"value\", 7.92);\n                ", 
                        "text/plain": "<IPython.core.display.Javascript object>"
                    }
                }, 
                {
                    "output_type": "display_data", 
                    "metadata": {}, 
                    "data": {
                        "application/javascript": "\n                    $(\"#pm_labelc2a4ef11\").text(\"Downloaded 278528 of 3411524 bytes\");\n                    $(\"#pm_progressc2a4ef11\").attr(\"value\", 8.16);\n                ", 
                        "text/plain": "<IPython.core.display.Javascript object>"
                    }
                }, 
                {
                    "output_type": "display_data", 
                    "metadata": {}, 
                    "data": {
                        "application/javascript": "\n                    $(\"#pm_labelc2a4ef11\").text(\"Downloaded 286720 of 3411524 bytes\");\n                    $(\"#pm_progressc2a4ef11\").attr(\"value\", 8.4);\n                ", 
                        "text/plain": "<IPython.core.display.Javascript object>"
                    }
                }, 
                {
                    "output_type": "display_data", 
                    "metadata": {}, 
                    "data": {
                        "application/javascript": "\n                    $(\"#pm_labelc2a4ef11\").text(\"Downloaded 294912 of 3411524 bytes\");\n                    $(\"#pm_progressc2a4ef11\").attr(\"value\", 8.64);\n                ", 
                        "text/plain": "<IPython.core.display.Javascript object>"
                    }
                }, 
                {
                    "output_type": "display_data", 
                    "metadata": {}, 
                    "data": {
                        "application/javascript": "\n                    $(\"#pm_labelc2a4ef11\").text(\"Downloaded 303104 of 3411524 bytes\");\n                    $(\"#pm_progressc2a4ef11\").attr(\"value\", 8.88);\n                ", 
                        "text/plain": "<IPython.core.display.Javascript object>"
                    }
                }, 
                {
                    "output_type": "display_data", 
                    "metadata": {}, 
                    "data": {
                        "application/javascript": "\n                    $(\"#pm_labelc2a4ef11\").text(\"Downloaded 311296 of 3411524 bytes\");\n                    $(\"#pm_progressc2a4ef11\").attr(\"value\", 9.12);\n                ", 
                        "text/plain": "<IPython.core.display.Javascript object>"
                    }
                }, 
                {
                    "output_type": "display_data", 
                    "metadata": {}, 
                    "data": {
                        "application/javascript": "\n                    $(\"#pm_labelc2a4ef11\").text(\"Downloaded 319488 of 3411524 bytes\");\n                    $(\"#pm_progressc2a4ef11\").attr(\"value\", 9.36);\n                ", 
                        "text/plain": "<IPython.core.display.Javascript object>"
                    }
                }, 
                {
                    "output_type": "display_data", 
                    "metadata": {}, 
                    "data": {
                        "application/javascript": "\n                    $(\"#pm_labelc2a4ef11\").text(\"Downloaded 327680 of 3411524 bytes\");\n                    $(\"#pm_progressc2a4ef11\").attr(\"value\", 9.61);\n                ", 
                        "text/plain": "<IPython.core.display.Javascript object>"
                    }
                }, 
                {
                    "output_type": "display_data", 
                    "metadata": {}, 
                    "data": {
                        "application/javascript": "\n                    $(\"#pm_labelc2a4ef11\").text(\"Downloaded 335872 of 3411524 bytes\");\n                    $(\"#pm_progressc2a4ef11\").attr(\"value\", 9.85);\n                ", 
                        "text/plain": "<IPython.core.display.Javascript object>"
                    }
                }, 
                {
                    "output_type": "display_data", 
                    "metadata": {}, 
                    "data": {
                        "application/javascript": "\n                    $(\"#pm_labelc2a4ef11\").text(\"Downloaded 344064 of 3411524 bytes\");\n                    $(\"#pm_progressc2a4ef11\").attr(\"value\", 10.09);\n                ", 
                        "text/plain": "<IPython.core.display.Javascript object>"
                    }
                }, 
                {
                    "output_type": "display_data", 
                    "metadata": {}, 
                    "data": {
                        "application/javascript": "\n                    $(\"#pm_labelc2a4ef11\").text(\"Downloaded 352256 of 3411524 bytes\");\n                    $(\"#pm_progressc2a4ef11\").attr(\"value\", 10.33);\n                ", 
                        "text/plain": "<IPython.core.display.Javascript object>"
                    }
                }, 
                {
                    "output_type": "display_data", 
                    "metadata": {}, 
                    "data": {
                        "application/javascript": "\n                    $(\"#pm_labelc2a4ef11\").text(\"Downloaded 360448 of 3411524 bytes\");\n                    $(\"#pm_progressc2a4ef11\").attr(\"value\", 10.57);\n                ", 
                        "text/plain": "<IPython.core.display.Javascript object>"
                    }
                }, 
                {
                    "output_type": "display_data", 
                    "metadata": {}, 
                    "data": {
                        "application/javascript": "\n                    $(\"#pm_labelc2a4ef11\").text(\"Downloaded 368640 of 3411524 bytes\");\n                    $(\"#pm_progressc2a4ef11\").attr(\"value\", 10.81);\n                ", 
                        "text/plain": "<IPython.core.display.Javascript object>"
                    }
                }, 
                {
                    "output_type": "display_data", 
                    "metadata": {}, 
                    "data": {
                        "application/javascript": "\n                    $(\"#pm_labelc2a4ef11\").text(\"Downloaded 376832 of 3411524 bytes\");\n                    $(\"#pm_progressc2a4ef11\").attr(\"value\", 11.05);\n                ", 
                        "text/plain": "<IPython.core.display.Javascript object>"
                    }
                }, 
                {
                    "output_type": "display_data", 
                    "metadata": {}, 
                    "data": {
                        "application/javascript": "\n                    $(\"#pm_labelc2a4ef11\").text(\"Downloaded 385024 of 3411524 bytes\");\n                    $(\"#pm_progressc2a4ef11\").attr(\"value\", 11.29);\n                ", 
                        "text/plain": "<IPython.core.display.Javascript object>"
                    }
                }, 
                {
                    "output_type": "display_data", 
                    "metadata": {}, 
                    "data": {
                        "application/javascript": "\n                    $(\"#pm_labelc2a4ef11\").text(\"Downloaded 393216 of 3411524 bytes\");\n                    $(\"#pm_progressc2a4ef11\").attr(\"value\", 11.53);\n                ", 
                        "text/plain": "<IPython.core.display.Javascript object>"
                    }
                }, 
                {
                    "output_type": "display_data", 
                    "metadata": {}, 
                    "data": {
                        "application/javascript": "\n                    $(\"#pm_labelc2a4ef11\").text(\"Downloaded 401408 of 3411524 bytes\");\n                    $(\"#pm_progressc2a4ef11\").attr(\"value\", 11.77);\n                ", 
                        "text/plain": "<IPython.core.display.Javascript object>"
                    }
                }, 
                {
                    "output_type": "display_data", 
                    "metadata": {}, 
                    "data": {
                        "application/javascript": "\n                    $(\"#pm_labelc2a4ef11\").text(\"Downloaded 409600 of 3411524 bytes\");\n                    $(\"#pm_progressc2a4ef11\").attr(\"value\", 12.01);\n                ", 
                        "text/plain": "<IPython.core.display.Javascript object>"
                    }
                }, 
                {
                    "output_type": "display_data", 
                    "metadata": {}, 
                    "data": {
                        "application/javascript": "\n                    $(\"#pm_labelc2a4ef11\").text(\"Downloaded 417792 of 3411524 bytes\");\n                    $(\"#pm_progressc2a4ef11\").attr(\"value\", 12.25);\n                ", 
                        "text/plain": "<IPython.core.display.Javascript object>"
                    }
                }, 
                {
                    "output_type": "display_data", 
                    "metadata": {}, 
                    "data": {
                        "application/javascript": "\n                    $(\"#pm_labelc2a4ef11\").text(\"Downloaded 425984 of 3411524 bytes\");\n                    $(\"#pm_progressc2a4ef11\").attr(\"value\", 12.49);\n                ", 
                        "text/plain": "<IPython.core.display.Javascript object>"
                    }
                }, 
                {
                    "output_type": "display_data", 
                    "metadata": {}, 
                    "data": {
                        "application/javascript": "\n                    $(\"#pm_labelc2a4ef11\").text(\"Downloaded 434176 of 3411524 bytes\");\n                    $(\"#pm_progressc2a4ef11\").attr(\"value\", 12.73);\n                ", 
                        "text/plain": "<IPython.core.display.Javascript object>"
                    }
                }, 
                {
                    "output_type": "display_data", 
                    "metadata": {}, 
                    "data": {
                        "application/javascript": "\n                    $(\"#pm_labelc2a4ef11\").text(\"Downloaded 442368 of 3411524 bytes\");\n                    $(\"#pm_progressc2a4ef11\").attr(\"value\", 12.97);\n                ", 
                        "text/plain": "<IPython.core.display.Javascript object>"
                    }
                }, 
                {
                    "output_type": "display_data", 
                    "metadata": {}, 
                    "data": {
                        "application/javascript": "\n                    $(\"#pm_labelc2a4ef11\").text(\"Downloaded 450560 of 3411524 bytes\");\n                    $(\"#pm_progressc2a4ef11\").attr(\"value\", 13.21);\n                ", 
                        "text/plain": "<IPython.core.display.Javascript object>"
                    }
                }, 
                {
                    "output_type": "display_data", 
                    "metadata": {}, 
                    "data": {
                        "application/javascript": "\n                    $(\"#pm_labelc2a4ef11\").text(\"Downloaded 458752 of 3411524 bytes\");\n                    $(\"#pm_progressc2a4ef11\").attr(\"value\", 13.45);\n                ", 
                        "text/plain": "<IPython.core.display.Javascript object>"
                    }
                }, 
                {
                    "output_type": "display_data", 
                    "metadata": {}, 
                    "data": {
                        "application/javascript": "\n                    $(\"#pm_labelc2a4ef11\").text(\"Downloaded 466944 of 3411524 bytes\");\n                    $(\"#pm_progressc2a4ef11\").attr(\"value\", 13.69);\n                ", 
                        "text/plain": "<IPython.core.display.Javascript object>"
                    }
                }, 
                {
                    "output_type": "display_data", 
                    "metadata": {}, 
                    "data": {
                        "application/javascript": "\n                    $(\"#pm_labelc2a4ef11\").text(\"Downloaded 475136 of 3411524 bytes\");\n                    $(\"#pm_progressc2a4ef11\").attr(\"value\", 13.93);\n                ", 
                        "text/plain": "<IPython.core.display.Javascript object>"
                    }
                }, 
                {
                    "output_type": "display_data", 
                    "metadata": {}, 
                    "data": {
                        "application/javascript": "\n                    $(\"#pm_labelc2a4ef11\").text(\"Downloaded 483328 of 3411524 bytes\");\n                    $(\"#pm_progressc2a4ef11\").attr(\"value\", 14.17);\n                ", 
                        "text/plain": "<IPython.core.display.Javascript object>"
                    }
                }, 
                {
                    "output_type": "display_data", 
                    "metadata": {}, 
                    "data": {
                        "application/javascript": "\n                    $(\"#pm_labelc2a4ef11\").text(\"Downloaded 491520 of 3411524 bytes\");\n                    $(\"#pm_progressc2a4ef11\").attr(\"value\", 14.41);\n                ", 
                        "text/plain": "<IPython.core.display.Javascript object>"
                    }
                }, 
                {
                    "output_type": "display_data", 
                    "metadata": {}, 
                    "data": {
                        "application/javascript": "\n                    $(\"#pm_labelc2a4ef11\").text(\"Downloaded 499712 of 3411524 bytes\");\n                    $(\"#pm_progressc2a4ef11\").attr(\"value\", 14.65);\n                ", 
                        "text/plain": "<IPython.core.display.Javascript object>"
                    }
                }, 
                {
                    "output_type": "display_data", 
                    "metadata": {}, 
                    "data": {
                        "application/javascript": "\n                    $(\"#pm_labelc2a4ef11\").text(\"Downloaded 507904 of 3411524 bytes\");\n                    $(\"#pm_progressc2a4ef11\").attr(\"value\", 14.89);\n                ", 
                        "text/plain": "<IPython.core.display.Javascript object>"
                    }
                }, 
                {
                    "output_type": "display_data", 
                    "metadata": {}, 
                    "data": {
                        "application/javascript": "\n                    $(\"#pm_labelc2a4ef11\").text(\"Downloaded 516096 of 3411524 bytes\");\n                    $(\"#pm_progressc2a4ef11\").attr(\"value\", 15.13);\n                ", 
                        "text/plain": "<IPython.core.display.Javascript object>"
                    }
                }, 
                {
                    "output_type": "display_data", 
                    "metadata": {}, 
                    "data": {
                        "application/javascript": "\n                    $(\"#pm_labelc2a4ef11\").text(\"Downloaded 524288 of 3411524 bytes\");\n                    $(\"#pm_progressc2a4ef11\").attr(\"value\", 15.37);\n                ", 
                        "text/plain": "<IPython.core.display.Javascript object>"
                    }
                }, 
                {
                    "output_type": "display_data", 
                    "metadata": {}, 
                    "data": {
                        "application/javascript": "\n                    $(\"#pm_labelc2a4ef11\").text(\"Downloaded 532480 of 3411524 bytes\");\n                    $(\"#pm_progressc2a4ef11\").attr(\"value\", 15.61);\n                ", 
                        "text/plain": "<IPython.core.display.Javascript object>"
                    }
                }, 
                {
                    "output_type": "display_data", 
                    "metadata": {}, 
                    "data": {
                        "application/javascript": "\n                    $(\"#pm_labelc2a4ef11\").text(\"Downloaded 540672 of 3411524 bytes\");\n                    $(\"#pm_progressc2a4ef11\").attr(\"value\", 15.85);\n                ", 
                        "text/plain": "<IPython.core.display.Javascript object>"
                    }
                }, 
                {
                    "output_type": "display_data", 
                    "metadata": {}, 
                    "data": {
                        "application/javascript": "\n                    $(\"#pm_labelc2a4ef11\").text(\"Downloaded 548864 of 3411524 bytes\");\n                    $(\"#pm_progressc2a4ef11\").attr(\"value\", 16.09);\n                ", 
                        "text/plain": "<IPython.core.display.Javascript object>"
                    }
                }, 
                {
                    "output_type": "display_data", 
                    "metadata": {}, 
                    "data": {
                        "application/javascript": "\n                    $(\"#pm_labelc2a4ef11\").text(\"Downloaded 557056 of 3411524 bytes\");\n                    $(\"#pm_progressc2a4ef11\").attr(\"value\", 16.33);\n                ", 
                        "text/plain": "<IPython.core.display.Javascript object>"
                    }
                }, 
                {
                    "output_type": "display_data", 
                    "metadata": {}, 
                    "data": {
                        "application/javascript": "\n                    $(\"#pm_labelc2a4ef11\").text(\"Downloaded 565248 of 3411524 bytes\");\n                    $(\"#pm_progressc2a4ef11\").attr(\"value\", 16.57);\n                ", 
                        "text/plain": "<IPython.core.display.Javascript object>"
                    }
                }, 
                {
                    "output_type": "display_data", 
                    "metadata": {}, 
                    "data": {
                        "application/javascript": "\n                    $(\"#pm_labelc2a4ef11\").text(\"Downloaded 573440 of 3411524 bytes\");\n                    $(\"#pm_progressc2a4ef11\").attr(\"value\", 16.81);\n                ", 
                        "text/plain": "<IPython.core.display.Javascript object>"
                    }
                }, 
                {
                    "output_type": "display_data", 
                    "metadata": {}, 
                    "data": {
                        "application/javascript": "\n                    $(\"#pm_labelc2a4ef11\").text(\"Downloaded 581632 of 3411524 bytes\");\n                    $(\"#pm_progressc2a4ef11\").attr(\"value\", 17.05);\n                ", 
                        "text/plain": "<IPython.core.display.Javascript object>"
                    }
                }, 
                {
                    "output_type": "display_data", 
                    "metadata": {}, 
                    "data": {
                        "application/javascript": "\n                    $(\"#pm_labelc2a4ef11\").text(\"Downloaded 589824 of 3411524 bytes\");\n                    $(\"#pm_progressc2a4ef11\").attr(\"value\", 17.29);\n                ", 
                        "text/plain": "<IPython.core.display.Javascript object>"
                    }
                }, 
                {
                    "output_type": "display_data", 
                    "metadata": {}, 
                    "data": {
                        "application/javascript": "\n                    $(\"#pm_labelc2a4ef11\").text(\"Downloaded 598016 of 3411524 bytes\");\n                    $(\"#pm_progressc2a4ef11\").attr(\"value\", 17.53);\n                ", 
                        "text/plain": "<IPython.core.display.Javascript object>"
                    }
                }, 
                {
                    "output_type": "display_data", 
                    "metadata": {}, 
                    "data": {
                        "application/javascript": "\n                    $(\"#pm_labelc2a4ef11\").text(\"Downloaded 606208 of 3411524 bytes\");\n                    $(\"#pm_progressc2a4ef11\").attr(\"value\", 17.77);\n                ", 
                        "text/plain": "<IPython.core.display.Javascript object>"
                    }
                }, 
                {
                    "output_type": "display_data", 
                    "metadata": {}, 
                    "data": {
                        "application/javascript": "\n                    $(\"#pm_labelc2a4ef11\").text(\"Downloaded 614400 of 3411524 bytes\");\n                    $(\"#pm_progressc2a4ef11\").attr(\"value\", 18.01);\n                ", 
                        "text/plain": "<IPython.core.display.Javascript object>"
                    }
                }, 
                {
                    "output_type": "display_data", 
                    "metadata": {}, 
                    "data": {
                        "application/javascript": "\n                    $(\"#pm_labelc2a4ef11\").text(\"Downloaded 622592 of 3411524 bytes\");\n                    $(\"#pm_progressc2a4ef11\").attr(\"value\", 18.25);\n                ", 
                        "text/plain": "<IPython.core.display.Javascript object>"
                    }
                }, 
                {
                    "output_type": "display_data", 
                    "metadata": {}, 
                    "data": {
                        "application/javascript": "\n                    $(\"#pm_labelc2a4ef11\").text(\"Downloaded 630784 of 3411524 bytes\");\n                    $(\"#pm_progressc2a4ef11\").attr(\"value\", 18.49);\n                ", 
                        "text/plain": "<IPython.core.display.Javascript object>"
                    }
                }, 
                {
                    "output_type": "display_data", 
                    "metadata": {}, 
                    "data": {
                        "application/javascript": "\n                    $(\"#pm_labelc2a4ef11\").text(\"Downloaded 638976 of 3411524 bytes\");\n                    $(\"#pm_progressc2a4ef11\").attr(\"value\", 18.73);\n                ", 
                        "text/plain": "<IPython.core.display.Javascript object>"
                    }
                }, 
                {
                    "output_type": "display_data", 
                    "metadata": {}, 
                    "data": {
                        "application/javascript": "\n                    $(\"#pm_labelc2a4ef11\").text(\"Downloaded 647168 of 3411524 bytes\");\n                    $(\"#pm_progressc2a4ef11\").attr(\"value\", 18.97);\n                ", 
                        "text/plain": "<IPython.core.display.Javascript object>"
                    }
                }, 
                {
                    "output_type": "display_data", 
                    "metadata": {}, 
                    "data": {
                        "application/javascript": "\n                    $(\"#pm_labelc2a4ef11\").text(\"Downloaded 655360 of 3411524 bytes\");\n                    $(\"#pm_progressc2a4ef11\").attr(\"value\", 19.21);\n                ", 
                        "text/plain": "<IPython.core.display.Javascript object>"
                    }
                }, 
                {
                    "output_type": "display_data", 
                    "metadata": {}, 
                    "data": {
                        "application/javascript": "\n                    $(\"#pm_labelc2a4ef11\").text(\"Downloaded 663552 of 3411524 bytes\");\n                    $(\"#pm_progressc2a4ef11\").attr(\"value\", 19.45);\n                ", 
                        "text/plain": "<IPython.core.display.Javascript object>"
                    }
                }, 
                {
                    "output_type": "display_data", 
                    "metadata": {}, 
                    "data": {
                        "application/javascript": "\n                    $(\"#pm_labelc2a4ef11\").text(\"Downloaded 671744 of 3411524 bytes\");\n                    $(\"#pm_progressc2a4ef11\").attr(\"value\", 19.69);\n                ", 
                        "text/plain": "<IPython.core.display.Javascript object>"
                    }
                }, 
                {
                    "output_type": "display_data", 
                    "metadata": {}, 
                    "data": {
                        "application/javascript": "\n                    $(\"#pm_labelc2a4ef11\").text(\"Downloaded 679936 of 3411524 bytes\");\n                    $(\"#pm_progressc2a4ef11\").attr(\"value\", 19.93);\n                ", 
                        "text/plain": "<IPython.core.display.Javascript object>"
                    }
                }, 
                {
                    "output_type": "display_data", 
                    "metadata": {}, 
                    "data": {
                        "application/javascript": "\n                    $(\"#pm_labelc2a4ef11\").text(\"Downloaded 688128 of 3411524 bytes\");\n                    $(\"#pm_progressc2a4ef11\").attr(\"value\", 20.17);\n                ", 
                        "text/plain": "<IPython.core.display.Javascript object>"
                    }
                }, 
                {
                    "output_type": "display_data", 
                    "metadata": {}, 
                    "data": {
                        "application/javascript": "\n                    $(\"#pm_labelc2a4ef11\").text(\"Downloaded 696320 of 3411524 bytes\");\n                    $(\"#pm_progressc2a4ef11\").attr(\"value\", 20.41);\n                ", 
                        "text/plain": "<IPython.core.display.Javascript object>"
                    }
                }, 
                {
                    "output_type": "display_data", 
                    "metadata": {}, 
                    "data": {
                        "application/javascript": "\n                    $(\"#pm_labelc2a4ef11\").text(\"Downloaded 704512 of 3411524 bytes\");\n                    $(\"#pm_progressc2a4ef11\").attr(\"value\", 20.65);\n                ", 
                        "text/plain": "<IPython.core.display.Javascript object>"
                    }
                }, 
                {
                    "output_type": "display_data", 
                    "metadata": {}, 
                    "data": {
                        "application/javascript": "\n                    $(\"#pm_labelc2a4ef11\").text(\"Downloaded 712704 of 3411524 bytes\");\n                    $(\"#pm_progressc2a4ef11\").attr(\"value\", 20.89);\n                ", 
                        "text/plain": "<IPython.core.display.Javascript object>"
                    }
                }, 
                {
                    "output_type": "display_data", 
                    "metadata": {}, 
                    "data": {
                        "application/javascript": "\n                    $(\"#pm_labelc2a4ef11\").text(\"Downloaded 720896 of 3411524 bytes\");\n                    $(\"#pm_progressc2a4ef11\").attr(\"value\", 21.13);\n                ", 
                        "text/plain": "<IPython.core.display.Javascript object>"
                    }
                }, 
                {
                    "output_type": "display_data", 
                    "metadata": {}, 
                    "data": {
                        "application/javascript": "\n                    $(\"#pm_labelc2a4ef11\").text(\"Downloaded 729088 of 3411524 bytes\");\n                    $(\"#pm_progressc2a4ef11\").attr(\"value\", 21.37);\n                ", 
                        "text/plain": "<IPython.core.display.Javascript object>"
                    }
                }, 
                {
                    "output_type": "display_data", 
                    "metadata": {}, 
                    "data": {
                        "application/javascript": "\n                    $(\"#pm_labelc2a4ef11\").text(\"Downloaded 737280 of 3411524 bytes\");\n                    $(\"#pm_progressc2a4ef11\").attr(\"value\", 21.61);\n                ", 
                        "text/plain": "<IPython.core.display.Javascript object>"
                    }
                }, 
                {
                    "output_type": "display_data", 
                    "metadata": {}, 
                    "data": {
                        "application/javascript": "\n                    $(\"#pm_labelc2a4ef11\").text(\"Downloaded 745472 of 3411524 bytes\");\n                    $(\"#pm_progressc2a4ef11\").attr(\"value\", 21.85);\n                ", 
                        "text/plain": "<IPython.core.display.Javascript object>"
                    }
                }, 
                {
                    "output_type": "display_data", 
                    "metadata": {}, 
                    "data": {
                        "application/javascript": "\n                    $(\"#pm_labelc2a4ef11\").text(\"Downloaded 753664 of 3411524 bytes\");\n                    $(\"#pm_progressc2a4ef11\").attr(\"value\", 22.09);\n                ", 
                        "text/plain": "<IPython.core.display.Javascript object>"
                    }
                }, 
                {
                    "output_type": "display_data", 
                    "metadata": {}, 
                    "data": {
                        "application/javascript": "\n                    $(\"#pm_labelc2a4ef11\").text(\"Downloaded 761856 of 3411524 bytes\");\n                    $(\"#pm_progressc2a4ef11\").attr(\"value\", 22.33);\n                ", 
                        "text/plain": "<IPython.core.display.Javascript object>"
                    }
                }, 
                {
                    "output_type": "display_data", 
                    "metadata": {}, 
                    "data": {
                        "application/javascript": "\n                    $(\"#pm_labelc2a4ef11\").text(\"Downloaded 770048 of 3411524 bytes\");\n                    $(\"#pm_progressc2a4ef11\").attr(\"value\", 22.57);\n                ", 
                        "text/plain": "<IPython.core.display.Javascript object>"
                    }
                }, 
                {
                    "output_type": "display_data", 
                    "metadata": {}, 
                    "data": {
                        "application/javascript": "\n                    $(\"#pm_labelc2a4ef11\").text(\"Downloaded 778240 of 3411524 bytes\");\n                    $(\"#pm_progressc2a4ef11\").attr(\"value\", 22.81);\n                ", 
                        "text/plain": "<IPython.core.display.Javascript object>"
                    }
                }, 
                {
                    "output_type": "display_data", 
                    "metadata": {}, 
                    "data": {
                        "application/javascript": "\n                    $(\"#pm_labelc2a4ef11\").text(\"Downloaded 786432 of 3411524 bytes\");\n                    $(\"#pm_progressc2a4ef11\").attr(\"value\", 23.05);\n                ", 
                        "text/plain": "<IPython.core.display.Javascript object>"
                    }
                }, 
                {
                    "output_type": "display_data", 
                    "metadata": {}, 
                    "data": {
                        "application/javascript": "\n                    $(\"#pm_labelc2a4ef11\").text(\"Downloaded 794624 of 3411524 bytes\");\n                    $(\"#pm_progressc2a4ef11\").attr(\"value\", 23.29);\n                ", 
                        "text/plain": "<IPython.core.display.Javascript object>"
                    }
                }, 
                {
                    "output_type": "display_data", 
                    "metadata": {}, 
                    "data": {
                        "application/javascript": "\n                    $(\"#pm_labelc2a4ef11\").text(\"Downloaded 802816 of 3411524 bytes\");\n                    $(\"#pm_progressc2a4ef11\").attr(\"value\", 23.53);\n                ", 
                        "text/plain": "<IPython.core.display.Javascript object>"
                    }
                }, 
                {
                    "output_type": "display_data", 
                    "metadata": {}, 
                    "data": {
                        "application/javascript": "\n                    $(\"#pm_labelc2a4ef11\").text(\"Downloaded 811008 of 3411524 bytes\");\n                    $(\"#pm_progressc2a4ef11\").attr(\"value\", 23.77);\n                ", 
                        "text/plain": "<IPython.core.display.Javascript object>"
                    }
                }, 
                {
                    "output_type": "display_data", 
                    "metadata": {}, 
                    "data": {
                        "application/javascript": "\n                    $(\"#pm_labelc2a4ef11\").text(\"Downloaded 819200 of 3411524 bytes\");\n                    $(\"#pm_progressc2a4ef11\").attr(\"value\", 24.01);\n                ", 
                        "text/plain": "<IPython.core.display.Javascript object>"
                    }
                }, 
                {
                    "output_type": "display_data", 
                    "metadata": {}, 
                    "data": {
                        "application/javascript": "\n                    $(\"#pm_labelc2a4ef11\").text(\"Downloaded 827392 of 3411524 bytes\");\n                    $(\"#pm_progressc2a4ef11\").attr(\"value\", 24.25);\n                ", 
                        "text/plain": "<IPython.core.display.Javascript object>"
                    }
                }, 
                {
                    "output_type": "display_data", 
                    "metadata": {}, 
                    "data": {
                        "application/javascript": "\n                    $(\"#pm_labelc2a4ef11\").text(\"Downloaded 835584 of 3411524 bytes\");\n                    $(\"#pm_progressc2a4ef11\").attr(\"value\", 24.49);\n                ", 
                        "text/plain": "<IPython.core.display.Javascript object>"
                    }
                }, 
                {
                    "output_type": "display_data", 
                    "metadata": {}, 
                    "data": {
                        "application/javascript": "\n                    $(\"#pm_labelc2a4ef11\").text(\"Downloaded 843776 of 3411524 bytes\");\n                    $(\"#pm_progressc2a4ef11\").attr(\"value\", 24.73);\n                ", 
                        "text/plain": "<IPython.core.display.Javascript object>"
                    }
                }, 
                {
                    "output_type": "display_data", 
                    "metadata": {}, 
                    "data": {
                        "application/javascript": "\n                    $(\"#pm_labelc2a4ef11\").text(\"Downloaded 851968 of 3411524 bytes\");\n                    $(\"#pm_progressc2a4ef11\").attr(\"value\", 24.97);\n                ", 
                        "text/plain": "<IPython.core.display.Javascript object>"
                    }
                }, 
                {
                    "output_type": "display_data", 
                    "metadata": {}, 
                    "data": {
                        "application/javascript": "\n                    $(\"#pm_labelc2a4ef11\").text(\"Downloaded 860160 of 3411524 bytes\");\n                    $(\"#pm_progressc2a4ef11\").attr(\"value\", 25.21);\n                ", 
                        "text/plain": "<IPython.core.display.Javascript object>"
                    }
                }, 
                {
                    "output_type": "display_data", 
                    "metadata": {}, 
                    "data": {
                        "application/javascript": "\n                    $(\"#pm_labelc2a4ef11\").text(\"Downloaded 868352 of 3411524 bytes\");\n                    $(\"#pm_progressc2a4ef11\").attr(\"value\", 25.45);\n                ", 
                        "text/plain": "<IPython.core.display.Javascript object>"
                    }
                }, 
                {
                    "output_type": "display_data", 
                    "metadata": {}, 
                    "data": {
                        "application/javascript": "\n                    $(\"#pm_labelc2a4ef11\").text(\"Downloaded 876544 of 3411524 bytes\");\n                    $(\"#pm_progressc2a4ef11\").attr(\"value\", 25.69);\n                ", 
                        "text/plain": "<IPython.core.display.Javascript object>"
                    }
                }, 
                {
                    "output_type": "display_data", 
                    "metadata": {}, 
                    "data": {
                        "application/javascript": "\n                    $(\"#pm_labelc2a4ef11\").text(\"Downloaded 884736 of 3411524 bytes\");\n                    $(\"#pm_progressc2a4ef11\").attr(\"value\", 25.93);\n                ", 
                        "text/plain": "<IPython.core.display.Javascript object>"
                    }
                }, 
                {
                    "output_type": "display_data", 
                    "metadata": {}, 
                    "data": {
                        "application/javascript": "\n                    $(\"#pm_labelc2a4ef11\").text(\"Downloaded 892928 of 3411524 bytes\");\n                    $(\"#pm_progressc2a4ef11\").attr(\"value\", 26.17);\n                ", 
                        "text/plain": "<IPython.core.display.Javascript object>"
                    }
                }, 
                {
                    "output_type": "display_data", 
                    "metadata": {}, 
                    "data": {
                        "application/javascript": "\n                    $(\"#pm_labelc2a4ef11\").text(\"Downloaded 901120 of 3411524 bytes\");\n                    $(\"#pm_progressc2a4ef11\").attr(\"value\", 26.41);\n                ", 
                        "text/plain": "<IPython.core.display.Javascript object>"
                    }
                }, 
                {
                    "output_type": "display_data", 
                    "metadata": {}, 
                    "data": {
                        "application/javascript": "\n                    $(\"#pm_labelc2a4ef11\").text(\"Downloaded 909312 of 3411524 bytes\");\n                    $(\"#pm_progressc2a4ef11\").attr(\"value\", 26.65);\n                ", 
                        "text/plain": "<IPython.core.display.Javascript object>"
                    }
                }, 
                {
                    "output_type": "display_data", 
                    "metadata": {}, 
                    "data": {
                        "application/javascript": "\n                    $(\"#pm_labelc2a4ef11\").text(\"Downloaded 917504 of 3411524 bytes\");\n                    $(\"#pm_progressc2a4ef11\").attr(\"value\", 26.89);\n                ", 
                        "text/plain": "<IPython.core.display.Javascript object>"
                    }
                }, 
                {
                    "output_type": "display_data", 
                    "metadata": {}, 
                    "data": {
                        "application/javascript": "\n                    $(\"#pm_labelc2a4ef11\").text(\"Downloaded 925696 of 3411524 bytes\");\n                    $(\"#pm_progressc2a4ef11\").attr(\"value\", 27.13);\n                ", 
                        "text/plain": "<IPython.core.display.Javascript object>"
                    }
                }, 
                {
                    "output_type": "display_data", 
                    "metadata": {}, 
                    "data": {
                        "application/javascript": "\n                    $(\"#pm_labelc2a4ef11\").text(\"Downloaded 933888 of 3411524 bytes\");\n                    $(\"#pm_progressc2a4ef11\").attr(\"value\", 27.37);\n                ", 
                        "text/plain": "<IPython.core.display.Javascript object>"
                    }
                }, 
                {
                    "output_type": "display_data", 
                    "metadata": {}, 
                    "data": {
                        "application/javascript": "\n                    $(\"#pm_labelc2a4ef11\").text(\"Downloaded 942080 of 3411524 bytes\");\n                    $(\"#pm_progressc2a4ef11\").attr(\"value\", 27.61);\n                ", 
                        "text/plain": "<IPython.core.display.Javascript object>"
                    }
                }, 
                {
                    "output_type": "display_data", 
                    "metadata": {}, 
                    "data": {
                        "application/javascript": "\n                    $(\"#pm_labelc2a4ef11\").text(\"Downloaded 950272 of 3411524 bytes\");\n                    $(\"#pm_progressc2a4ef11\").attr(\"value\", 27.85);\n                ", 
                        "text/plain": "<IPython.core.display.Javascript object>"
                    }
                }, 
                {
                    "output_type": "display_data", 
                    "metadata": {}, 
                    "data": {
                        "application/javascript": "\n                    $(\"#pm_labelc2a4ef11\").text(\"Downloaded 958464 of 3411524 bytes\");\n                    $(\"#pm_progressc2a4ef11\").attr(\"value\", 28.09);\n                ", 
                        "text/plain": "<IPython.core.display.Javascript object>"
                    }
                }, 
                {
                    "output_type": "display_data", 
                    "metadata": {}, 
                    "data": {
                        "application/javascript": "\n                    $(\"#pm_labelc2a4ef11\").text(\"Downloaded 966656 of 3411524 bytes\");\n                    $(\"#pm_progressc2a4ef11\").attr(\"value\", 28.34);\n                ", 
                        "text/plain": "<IPython.core.display.Javascript object>"
                    }
                }, 
                {
                    "output_type": "display_data", 
                    "metadata": {}, 
                    "data": {
                        "application/javascript": "\n                    $(\"#pm_labelc2a4ef11\").text(\"Downloaded 974848 of 3411524 bytes\");\n                    $(\"#pm_progressc2a4ef11\").attr(\"value\", 28.58);\n                ", 
                        "text/plain": "<IPython.core.display.Javascript object>"
                    }
                }, 
                {
                    "output_type": "display_data", 
                    "metadata": {}, 
                    "data": {
                        "application/javascript": "\n                    $(\"#pm_labelc2a4ef11\").text(\"Downloaded 983040 of 3411524 bytes\");\n                    $(\"#pm_progressc2a4ef11\").attr(\"value\", 28.82);\n                ", 
                        "text/plain": "<IPython.core.display.Javascript object>"
                    }
                }, 
                {
                    "output_type": "display_data", 
                    "metadata": {}, 
                    "data": {
                        "application/javascript": "\n                    $(\"#pm_labelc2a4ef11\").text(\"Downloaded 991232 of 3411524 bytes\");\n                    $(\"#pm_progressc2a4ef11\").attr(\"value\", 29.06);\n                ", 
                        "text/plain": "<IPython.core.display.Javascript object>"
                    }
                }, 
                {
                    "output_type": "display_data", 
                    "metadata": {}, 
                    "data": {
                        "application/javascript": "\n                    $(\"#pm_labelc2a4ef11\").text(\"Downloaded 999424 of 3411524 bytes\");\n                    $(\"#pm_progressc2a4ef11\").attr(\"value\", 29.3);\n                ", 
                        "text/plain": "<IPython.core.display.Javascript object>"
                    }
                }, 
                {
                    "output_type": "display_data", 
                    "metadata": {}, 
                    "data": {
                        "application/javascript": "\n                    $(\"#pm_labelc2a4ef11\").text(\"Downloaded 1007616 of 3411524 bytes\");\n                    $(\"#pm_progressc2a4ef11\").attr(\"value\", 29.54);\n                ", 
                        "text/plain": "<IPython.core.display.Javascript object>"
                    }
                }, 
                {
                    "output_type": "display_data", 
                    "metadata": {}, 
                    "data": {
                        "application/javascript": "\n                    $(\"#pm_labelc2a4ef11\").text(\"Downloaded 1015808 of 3411524 bytes\");\n                    $(\"#pm_progressc2a4ef11\").attr(\"value\", 29.78);\n                ", 
                        "text/plain": "<IPython.core.display.Javascript object>"
                    }
                }, 
                {
                    "output_type": "display_data", 
                    "metadata": {}, 
                    "data": {
                        "application/javascript": "\n                    $(\"#pm_labelc2a4ef11\").text(\"Downloaded 1024000 of 3411524 bytes\");\n                    $(\"#pm_progressc2a4ef11\").attr(\"value\", 30.02);\n                ", 
                        "text/plain": "<IPython.core.display.Javascript object>"
                    }
                }, 
                {
                    "output_type": "display_data", 
                    "metadata": {}, 
                    "data": {
                        "application/javascript": "\n                    $(\"#pm_labelc2a4ef11\").text(\"Downloaded 1032192 of 3411524 bytes\");\n                    $(\"#pm_progressc2a4ef11\").attr(\"value\", 30.26);\n                ", 
                        "text/plain": "<IPython.core.display.Javascript object>"
                    }
                }, 
                {
                    "output_type": "display_data", 
                    "metadata": {}, 
                    "data": {
                        "application/javascript": "\n                    $(\"#pm_labelc2a4ef11\").text(\"Downloaded 1040384 of 3411524 bytes\");\n                    $(\"#pm_progressc2a4ef11\").attr(\"value\", 30.5);\n                ", 
                        "text/plain": "<IPython.core.display.Javascript object>"
                    }
                }, 
                {
                    "output_type": "display_data", 
                    "metadata": {}, 
                    "data": {
                        "application/javascript": "\n                    $(\"#pm_labelc2a4ef11\").text(\"Downloaded 1048576 of 3411524 bytes\");\n                    $(\"#pm_progressc2a4ef11\").attr(\"value\", 30.74);\n                ", 
                        "text/plain": "<IPython.core.display.Javascript object>"
                    }
                }, 
                {
                    "output_type": "display_data", 
                    "metadata": {}, 
                    "data": {
                        "application/javascript": "\n                    $(\"#pm_labelc2a4ef11\").text(\"Downloaded 1056768 of 3411524 bytes\");\n                    $(\"#pm_progressc2a4ef11\").attr(\"value\", 30.98);\n                ", 
                        "text/plain": "<IPython.core.display.Javascript object>"
                    }
                }, 
                {
                    "output_type": "display_data", 
                    "metadata": {}, 
                    "data": {
                        "application/javascript": "\n                    $(\"#pm_labelc2a4ef11\").text(\"Downloaded 1064960 of 3411524 bytes\");\n                    $(\"#pm_progressc2a4ef11\").attr(\"value\", 31.22);\n                ", 
                        "text/plain": "<IPython.core.display.Javascript object>"
                    }
                }, 
                {
                    "output_type": "display_data", 
                    "metadata": {}, 
                    "data": {
                        "application/javascript": "\n                    $(\"#pm_labelc2a4ef11\").text(\"Downloaded 1073152 of 3411524 bytes\");\n                    $(\"#pm_progressc2a4ef11\").attr(\"value\", 31.46);\n                ", 
                        "text/plain": "<IPython.core.display.Javascript object>"
                    }
                }, 
                {
                    "output_type": "display_data", 
                    "metadata": {}, 
                    "data": {
                        "application/javascript": "\n                    $(\"#pm_labelc2a4ef11\").text(\"Downloaded 1081344 of 3411524 bytes\");\n                    $(\"#pm_progressc2a4ef11\").attr(\"value\", 31.7);\n                ", 
                        "text/plain": "<IPython.core.display.Javascript object>"
                    }
                }, 
                {
                    "output_type": "display_data", 
                    "metadata": {}, 
                    "data": {
                        "application/javascript": "\n                    $(\"#pm_labelc2a4ef11\").text(\"Downloaded 1089536 of 3411524 bytes\");\n                    $(\"#pm_progressc2a4ef11\").attr(\"value\", 31.94);\n                ", 
                        "text/plain": "<IPython.core.display.Javascript object>"
                    }
                }, 
                {
                    "output_type": "display_data", 
                    "metadata": {}, 
                    "data": {
                        "application/javascript": "\n                    $(\"#pm_labelc2a4ef11\").text(\"Downloaded 1097728 of 3411524 bytes\");\n                    $(\"#pm_progressc2a4ef11\").attr(\"value\", 32.18);\n                ", 
                        "text/plain": "<IPython.core.display.Javascript object>"
                    }
                }, 
                {
                    "output_type": "display_data", 
                    "metadata": {}, 
                    "data": {
                        "application/javascript": "\n                    $(\"#pm_labelc2a4ef11\").text(\"Downloaded 1105920 of 3411524 bytes\");\n                    $(\"#pm_progressc2a4ef11\").attr(\"value\", 32.42);\n                ", 
                        "text/plain": "<IPython.core.display.Javascript object>"
                    }
                }, 
                {
                    "output_type": "display_data", 
                    "metadata": {}, 
                    "data": {
                        "application/javascript": "\n                    $(\"#pm_labelc2a4ef11\").text(\"Downloaded 1114112 of 3411524 bytes\");\n                    $(\"#pm_progressc2a4ef11\").attr(\"value\", 32.66);\n                ", 
                        "text/plain": "<IPython.core.display.Javascript object>"
                    }
                }, 
                {
                    "output_type": "display_data", 
                    "metadata": {}, 
                    "data": {
                        "application/javascript": "\n                    $(\"#pm_labelc2a4ef11\").text(\"Downloaded 1122304 of 3411524 bytes\");\n                    $(\"#pm_progressc2a4ef11\").attr(\"value\", 32.9);\n                ", 
                        "text/plain": "<IPython.core.display.Javascript object>"
                    }
                }, 
                {
                    "output_type": "display_data", 
                    "metadata": {}, 
                    "data": {
                        "application/javascript": "\n                    $(\"#pm_labelc2a4ef11\").text(\"Downloaded 1130496 of 3411524 bytes\");\n                    $(\"#pm_progressc2a4ef11\").attr(\"value\", 33.14);\n                ", 
                        "text/plain": "<IPython.core.display.Javascript object>"
                    }
                }, 
                {
                    "output_type": "display_data", 
                    "metadata": {}, 
                    "data": {
                        "application/javascript": "\n                    $(\"#pm_labelc2a4ef11\").text(\"Downloaded 1138688 of 3411524 bytes\");\n                    $(\"#pm_progressc2a4ef11\").attr(\"value\", 33.38);\n                ", 
                        "text/plain": "<IPython.core.display.Javascript object>"
                    }
                }, 
                {
                    "output_type": "display_data", 
                    "metadata": {}, 
                    "data": {
                        "application/javascript": "\n                    $(\"#pm_labelc2a4ef11\").text(\"Downloaded 1146880 of 3411524 bytes\");\n                    $(\"#pm_progressc2a4ef11\").attr(\"value\", 33.62);\n                ", 
                        "text/plain": "<IPython.core.display.Javascript object>"
                    }
                }, 
                {
                    "output_type": "display_data", 
                    "metadata": {}, 
                    "data": {
                        "application/javascript": "\n                    $(\"#pm_labelc2a4ef11\").text(\"Downloaded 1155072 of 3411524 bytes\");\n                    $(\"#pm_progressc2a4ef11\").attr(\"value\", 33.86);\n                ", 
                        "text/plain": "<IPython.core.display.Javascript object>"
                    }
                }, 
                {
                    "output_type": "display_data", 
                    "metadata": {}, 
                    "data": {
                        "application/javascript": "\n                    $(\"#pm_labelc2a4ef11\").text(\"Downloaded 1163264 of 3411524 bytes\");\n                    $(\"#pm_progressc2a4ef11\").attr(\"value\", 34.1);\n                ", 
                        "text/plain": "<IPython.core.display.Javascript object>"
                    }
                }, 
                {
                    "output_type": "display_data", 
                    "metadata": {}, 
                    "data": {
                        "application/javascript": "\n                    $(\"#pm_labelc2a4ef11\").text(\"Downloaded 1171456 of 3411524 bytes\");\n                    $(\"#pm_progressc2a4ef11\").attr(\"value\", 34.34);\n                ", 
                        "text/plain": "<IPython.core.display.Javascript object>"
                    }
                }, 
                {
                    "output_type": "display_data", 
                    "metadata": {}, 
                    "data": {
                        "application/javascript": "\n                    $(\"#pm_labelc2a4ef11\").text(\"Downloaded 1179648 of 3411524 bytes\");\n                    $(\"#pm_progressc2a4ef11\").attr(\"value\", 34.58);\n                ", 
                        "text/plain": "<IPython.core.display.Javascript object>"
                    }
                }, 
                {
                    "output_type": "display_data", 
                    "metadata": {}, 
                    "data": {
                        "application/javascript": "\n                    $(\"#pm_labelc2a4ef11\").text(\"Downloaded 1187840 of 3411524 bytes\");\n                    $(\"#pm_progressc2a4ef11\").attr(\"value\", 34.82);\n                ", 
                        "text/plain": "<IPython.core.display.Javascript object>"
                    }
                }, 
                {
                    "output_type": "display_data", 
                    "metadata": {}, 
                    "data": {
                        "application/javascript": "\n                    $(\"#pm_labelc2a4ef11\").text(\"Downloaded 1196032 of 3411524 bytes\");\n                    $(\"#pm_progressc2a4ef11\").attr(\"value\", 35.06);\n                ", 
                        "text/plain": "<IPython.core.display.Javascript object>"
                    }
                }, 
                {
                    "output_type": "display_data", 
                    "metadata": {}, 
                    "data": {
                        "application/javascript": "\n                    $(\"#pm_labelc2a4ef11\").text(\"Downloaded 1204224 of 3411524 bytes\");\n                    $(\"#pm_progressc2a4ef11\").attr(\"value\", 35.3);\n                ", 
                        "text/plain": "<IPython.core.display.Javascript object>"
                    }
                }, 
                {
                    "output_type": "display_data", 
                    "metadata": {}, 
                    "data": {
                        "application/javascript": "\n                    $(\"#pm_labelc2a4ef11\").text(\"Downloaded 1212416 of 3411524 bytes\");\n                    $(\"#pm_progressc2a4ef11\").attr(\"value\", 35.54);\n                ", 
                        "text/plain": "<IPython.core.display.Javascript object>"
                    }
                }, 
                {
                    "output_type": "display_data", 
                    "metadata": {}, 
                    "data": {
                        "application/javascript": "\n                    $(\"#pm_labelc2a4ef11\").text(\"Downloaded 1220608 of 3411524 bytes\");\n                    $(\"#pm_progressc2a4ef11\").attr(\"value\", 35.78);\n                ", 
                        "text/plain": "<IPython.core.display.Javascript object>"
                    }
                }, 
                {
                    "output_type": "display_data", 
                    "metadata": {}, 
                    "data": {
                        "application/javascript": "\n                    $(\"#pm_labelc2a4ef11\").text(\"Downloaded 1228800 of 3411524 bytes\");\n                    $(\"#pm_progressc2a4ef11\").attr(\"value\", 36.02);\n                ", 
                        "text/plain": "<IPython.core.display.Javascript object>"
                    }
                }, 
                {
                    "output_type": "display_data", 
                    "metadata": {}, 
                    "data": {
                        "application/javascript": "\n                    $(\"#pm_labelc2a4ef11\").text(\"Downloaded 1236992 of 3411524 bytes\");\n                    $(\"#pm_progressc2a4ef11\").attr(\"value\", 36.26);\n                ", 
                        "text/plain": "<IPython.core.display.Javascript object>"
                    }
                }, 
                {
                    "output_type": "display_data", 
                    "metadata": {}, 
                    "data": {
                        "application/javascript": "\n                    $(\"#pm_labelc2a4ef11\").text(\"Downloaded 1245184 of 3411524 bytes\");\n                    $(\"#pm_progressc2a4ef11\").attr(\"value\", 36.5);\n                ", 
                        "text/plain": "<IPython.core.display.Javascript object>"
                    }
                }, 
                {
                    "output_type": "display_data", 
                    "metadata": {}, 
                    "data": {
                        "application/javascript": "\n                    $(\"#pm_labelc2a4ef11\").text(\"Downloaded 1253376 of 3411524 bytes\");\n                    $(\"#pm_progressc2a4ef11\").attr(\"value\", 36.74);\n                ", 
                        "text/plain": "<IPython.core.display.Javascript object>"
                    }
                }, 
                {
                    "output_type": "display_data", 
                    "metadata": {}, 
                    "data": {
                        "application/javascript": "\n                    $(\"#pm_labelc2a4ef11\").text(\"Downloaded 1261568 of 3411524 bytes\");\n                    $(\"#pm_progressc2a4ef11\").attr(\"value\", 36.98);\n                ", 
                        "text/plain": "<IPython.core.display.Javascript object>"
                    }
                }, 
                {
                    "output_type": "display_data", 
                    "metadata": {}, 
                    "data": {
                        "application/javascript": "\n                    $(\"#pm_labelc2a4ef11\").text(\"Downloaded 1269760 of 3411524 bytes\");\n                    $(\"#pm_progressc2a4ef11\").attr(\"value\", 37.22);\n                ", 
                        "text/plain": "<IPython.core.display.Javascript object>"
                    }
                }, 
                {
                    "output_type": "display_data", 
                    "metadata": {}, 
                    "data": {
                        "application/javascript": "\n                    $(\"#pm_labelc2a4ef11\").text(\"Downloaded 1277952 of 3411524 bytes\");\n                    $(\"#pm_progressc2a4ef11\").attr(\"value\", 37.46);\n                ", 
                        "text/plain": "<IPython.core.display.Javascript object>"
                    }
                }, 
                {
                    "output_type": "display_data", 
                    "metadata": {}, 
                    "data": {
                        "application/javascript": "\n                    $(\"#pm_labelc2a4ef11\").text(\"Downloaded 1286144 of 3411524 bytes\");\n                    $(\"#pm_progressc2a4ef11\").attr(\"value\", 37.7);\n                ", 
                        "text/plain": "<IPython.core.display.Javascript object>"
                    }
                }, 
                {
                    "output_type": "display_data", 
                    "metadata": {}, 
                    "data": {
                        "application/javascript": "\n                    $(\"#pm_labelc2a4ef11\").text(\"Downloaded 1294336 of 3411524 bytes\");\n                    $(\"#pm_progressc2a4ef11\").attr(\"value\", 37.94);\n                ", 
                        "text/plain": "<IPython.core.display.Javascript object>"
                    }
                }, 
                {
                    "output_type": "display_data", 
                    "metadata": {}, 
                    "data": {
                        "application/javascript": "\n                    $(\"#pm_labelc2a4ef11\").text(\"Downloaded 1302528 of 3411524 bytes\");\n                    $(\"#pm_progressc2a4ef11\").attr(\"value\", 38.18);\n                ", 
                        "text/plain": "<IPython.core.display.Javascript object>"
                    }
                }, 
                {
                    "output_type": "display_data", 
                    "metadata": {}, 
                    "data": {
                        "application/javascript": "\n                    $(\"#pm_labelc2a4ef11\").text(\"Downloaded 1310720 of 3411524 bytes\");\n                    $(\"#pm_progressc2a4ef11\").attr(\"value\", 38.42);\n                ", 
                        "text/plain": "<IPython.core.display.Javascript object>"
                    }
                }, 
                {
                    "output_type": "display_data", 
                    "metadata": {}, 
                    "data": {
                        "application/javascript": "\n                    $(\"#pm_labelc2a4ef11\").text(\"Downloaded 1318912 of 3411524 bytes\");\n                    $(\"#pm_progressc2a4ef11\").attr(\"value\", 38.66);\n                ", 
                        "text/plain": "<IPython.core.display.Javascript object>"
                    }
                }, 
                {
                    "output_type": "display_data", 
                    "metadata": {}, 
                    "data": {
                        "application/javascript": "\n                    $(\"#pm_labelc2a4ef11\").text(\"Downloaded 1327104 of 3411524 bytes\");\n                    $(\"#pm_progressc2a4ef11\").attr(\"value\", 38.9);\n                ", 
                        "text/plain": "<IPython.core.display.Javascript object>"
                    }
                }, 
                {
                    "output_type": "display_data", 
                    "metadata": {}, 
                    "data": {
                        "application/javascript": "\n                    $(\"#pm_labelc2a4ef11\").text(\"Downloaded 1335296 of 3411524 bytes\");\n                    $(\"#pm_progressc2a4ef11\").attr(\"value\", 39.14);\n                ", 
                        "text/plain": "<IPython.core.display.Javascript object>"
                    }
                }, 
                {
                    "output_type": "display_data", 
                    "metadata": {}, 
                    "data": {
                        "application/javascript": "\n                    $(\"#pm_labelc2a4ef11\").text(\"Downloaded 1343488 of 3411524 bytes\");\n                    $(\"#pm_progressc2a4ef11\").attr(\"value\", 39.38);\n                ", 
                        "text/plain": "<IPython.core.display.Javascript object>"
                    }
                }, 
                {
                    "output_type": "display_data", 
                    "metadata": {}, 
                    "data": {
                        "application/javascript": "\n                    $(\"#pm_labelc2a4ef11\").text(\"Downloaded 1351680 of 3411524 bytes\");\n                    $(\"#pm_progressc2a4ef11\").attr(\"value\", 39.62);\n                ", 
                        "text/plain": "<IPython.core.display.Javascript object>"
                    }
                }, 
                {
                    "output_type": "display_data", 
                    "metadata": {}, 
                    "data": {
                        "application/javascript": "\n                    $(\"#pm_labelc2a4ef11\").text(\"Downloaded 1359872 of 3411524 bytes\");\n                    $(\"#pm_progressc2a4ef11\").attr(\"value\", 39.86);\n                ", 
                        "text/plain": "<IPython.core.display.Javascript object>"
                    }
                }, 
                {
                    "output_type": "display_data", 
                    "metadata": {}, 
                    "data": {
                        "application/javascript": "\n                    $(\"#pm_labelc2a4ef11\").text(\"Downloaded 1368064 of 3411524 bytes\");\n                    $(\"#pm_progressc2a4ef11\").attr(\"value\", 40.1);\n                ", 
                        "text/plain": "<IPython.core.display.Javascript object>"
                    }
                }, 
                {
                    "output_type": "display_data", 
                    "metadata": {}, 
                    "data": {
                        "application/javascript": "\n                    $(\"#pm_labelc2a4ef11\").text(\"Downloaded 1376256 of 3411524 bytes\");\n                    $(\"#pm_progressc2a4ef11\").attr(\"value\", 40.34);\n                ", 
                        "text/plain": "<IPython.core.display.Javascript object>"
                    }
                }, 
                {
                    "output_type": "display_data", 
                    "metadata": {}, 
                    "data": {
                        "application/javascript": "\n                    $(\"#pm_labelc2a4ef11\").text(\"Downloaded 1384448 of 3411524 bytes\");\n                    $(\"#pm_progressc2a4ef11\").attr(\"value\", 40.58);\n                ", 
                        "text/plain": "<IPython.core.display.Javascript object>"
                    }
                }, 
                {
                    "output_type": "display_data", 
                    "metadata": {}, 
                    "data": {
                        "application/javascript": "\n                    $(\"#pm_labelc2a4ef11\").text(\"Downloaded 1392640 of 3411524 bytes\");\n                    $(\"#pm_progressc2a4ef11\").attr(\"value\", 40.82);\n                ", 
                        "text/plain": "<IPython.core.display.Javascript object>"
                    }
                }, 
                {
                    "output_type": "display_data", 
                    "metadata": {}, 
                    "data": {
                        "application/javascript": "\n                    $(\"#pm_labelc2a4ef11\").text(\"Downloaded 1400832 of 3411524 bytes\");\n                    $(\"#pm_progressc2a4ef11\").attr(\"value\", 41.06);\n                ", 
                        "text/plain": "<IPython.core.display.Javascript object>"
                    }
                }, 
                {
                    "output_type": "display_data", 
                    "metadata": {}, 
                    "data": {
                        "application/javascript": "\n                    $(\"#pm_labelc2a4ef11\").text(\"Downloaded 1409024 of 3411524 bytes\");\n                    $(\"#pm_progressc2a4ef11\").attr(\"value\", 41.3);\n                ", 
                        "text/plain": "<IPython.core.display.Javascript object>"
                    }
                }, 
                {
                    "output_type": "display_data", 
                    "metadata": {}, 
                    "data": {
                        "application/javascript": "\n                    $(\"#pm_labelc2a4ef11\").text(\"Downloaded 1417216 of 3411524 bytes\");\n                    $(\"#pm_progressc2a4ef11\").attr(\"value\", 41.54);\n                ", 
                        "text/plain": "<IPython.core.display.Javascript object>"
                    }
                }, 
                {
                    "output_type": "display_data", 
                    "metadata": {}, 
                    "data": {
                        "application/javascript": "\n                    $(\"#pm_labelc2a4ef11\").text(\"Downloaded 1425408 of 3411524 bytes\");\n                    $(\"#pm_progressc2a4ef11\").attr(\"value\", 41.78);\n                ", 
                        "text/plain": "<IPython.core.display.Javascript object>"
                    }
                }, 
                {
                    "output_type": "display_data", 
                    "metadata": {}, 
                    "data": {
                        "application/javascript": "\n                    $(\"#pm_labelc2a4ef11\").text(\"Downloaded 1433600 of 3411524 bytes\");\n                    $(\"#pm_progressc2a4ef11\").attr(\"value\", 42.02);\n                ", 
                        "text/plain": "<IPython.core.display.Javascript object>"
                    }
                }, 
                {
                    "output_type": "display_data", 
                    "metadata": {}, 
                    "data": {
                        "application/javascript": "\n                    $(\"#pm_labelc2a4ef11\").text(\"Downloaded 1441792 of 3411524 bytes\");\n                    $(\"#pm_progressc2a4ef11\").attr(\"value\", 42.26);\n                ", 
                        "text/plain": "<IPython.core.display.Javascript object>"
                    }
                }, 
                {
                    "output_type": "display_data", 
                    "metadata": {}, 
                    "data": {
                        "application/javascript": "\n                    $(\"#pm_labelc2a4ef11\").text(\"Downloaded 1449984 of 3411524 bytes\");\n                    $(\"#pm_progressc2a4ef11\").attr(\"value\", 42.5);\n                ", 
                        "text/plain": "<IPython.core.display.Javascript object>"
                    }
                }, 
                {
                    "output_type": "display_data", 
                    "metadata": {}, 
                    "data": {
                        "application/javascript": "\n                    $(\"#pm_labelc2a4ef11\").text(\"Downloaded 1458176 of 3411524 bytes\");\n                    $(\"#pm_progressc2a4ef11\").attr(\"value\", 42.74);\n                ", 
                        "text/plain": "<IPython.core.display.Javascript object>"
                    }
                }, 
                {
                    "output_type": "display_data", 
                    "metadata": {}, 
                    "data": {
                        "application/javascript": "\n                    $(\"#pm_labelc2a4ef11\").text(\"Downloaded 1466368 of 3411524 bytes\");\n                    $(\"#pm_progressc2a4ef11\").attr(\"value\", 42.98);\n                ", 
                        "text/plain": "<IPython.core.display.Javascript object>"
                    }
                }, 
                {
                    "output_type": "display_data", 
                    "metadata": {}, 
                    "data": {
                        "application/javascript": "\n                    $(\"#pm_labelc2a4ef11\").text(\"Downloaded 1474560 of 3411524 bytes\");\n                    $(\"#pm_progressc2a4ef11\").attr(\"value\", 43.22);\n                ", 
                        "text/plain": "<IPython.core.display.Javascript object>"
                    }
                }, 
                {
                    "output_type": "display_data", 
                    "metadata": {}, 
                    "data": {
                        "application/javascript": "\n                    $(\"#pm_labelc2a4ef11\").text(\"Downloaded 1482752 of 3411524 bytes\");\n                    $(\"#pm_progressc2a4ef11\").attr(\"value\", 43.46);\n                ", 
                        "text/plain": "<IPython.core.display.Javascript object>"
                    }
                }, 
                {
                    "output_type": "display_data", 
                    "metadata": {}, 
                    "data": {
                        "application/javascript": "\n                    $(\"#pm_labelc2a4ef11\").text(\"Downloaded 1490944 of 3411524 bytes\");\n                    $(\"#pm_progressc2a4ef11\").attr(\"value\", 43.7);\n                ", 
                        "text/plain": "<IPython.core.display.Javascript object>"
                    }
                }, 
                {
                    "output_type": "display_data", 
                    "metadata": {}, 
                    "data": {
                        "application/javascript": "\n                    $(\"#pm_labelc2a4ef11\").text(\"Downloaded 1499136 of 3411524 bytes\");\n                    $(\"#pm_progressc2a4ef11\").attr(\"value\", 43.94);\n                ", 
                        "text/plain": "<IPython.core.display.Javascript object>"
                    }
                }, 
                {
                    "output_type": "display_data", 
                    "metadata": {}, 
                    "data": {
                        "application/javascript": "\n                    $(\"#pm_labelc2a4ef11\").text(\"Downloaded 1507328 of 3411524 bytes\");\n                    $(\"#pm_progressc2a4ef11\").attr(\"value\", 44.18);\n                ", 
                        "text/plain": "<IPython.core.display.Javascript object>"
                    }
                }, 
                {
                    "output_type": "display_data", 
                    "metadata": {}, 
                    "data": {
                        "application/javascript": "\n                    $(\"#pm_labelc2a4ef11\").text(\"Downloaded 1515520 of 3411524 bytes\");\n                    $(\"#pm_progressc2a4ef11\").attr(\"value\", 44.42);\n                ", 
                        "text/plain": "<IPython.core.display.Javascript object>"
                    }
                }, 
                {
                    "output_type": "display_data", 
                    "metadata": {}, 
                    "data": {
                        "application/javascript": "\n                    $(\"#pm_labelc2a4ef11\").text(\"Downloaded 1523712 of 3411524 bytes\");\n                    $(\"#pm_progressc2a4ef11\").attr(\"value\", 44.66);\n                ", 
                        "text/plain": "<IPython.core.display.Javascript object>"
                    }
                }, 
                {
                    "output_type": "display_data", 
                    "metadata": {}, 
                    "data": {
                        "application/javascript": "\n                    $(\"#pm_labelc2a4ef11\").text(\"Downloaded 1531904 of 3411524 bytes\");\n                    $(\"#pm_progressc2a4ef11\").attr(\"value\", 44.9);\n                ", 
                        "text/plain": "<IPython.core.display.Javascript object>"
                    }
                }, 
                {
                    "output_type": "display_data", 
                    "metadata": {}, 
                    "data": {
                        "application/javascript": "\n                    $(\"#pm_labelc2a4ef11\").text(\"Downloaded 1540096 of 3411524 bytes\");\n                    $(\"#pm_progressc2a4ef11\").attr(\"value\", 45.14);\n                ", 
                        "text/plain": "<IPython.core.display.Javascript object>"
                    }
                }, 
                {
                    "output_type": "display_data", 
                    "metadata": {}, 
                    "data": {
                        "application/javascript": "\n                    $(\"#pm_labelc2a4ef11\").text(\"Downloaded 1548288 of 3411524 bytes\");\n                    $(\"#pm_progressc2a4ef11\").attr(\"value\", 45.38);\n                ", 
                        "text/plain": "<IPython.core.display.Javascript object>"
                    }
                }, 
                {
                    "output_type": "display_data", 
                    "metadata": {}, 
                    "data": {
                        "application/javascript": "\n                    $(\"#pm_labelc2a4ef11\").text(\"Downloaded 1556480 of 3411524 bytes\");\n                    $(\"#pm_progressc2a4ef11\").attr(\"value\", 45.62);\n                ", 
                        "text/plain": "<IPython.core.display.Javascript object>"
                    }
                }, 
                {
                    "output_type": "display_data", 
                    "metadata": {}, 
                    "data": {
                        "application/javascript": "\n                    $(\"#pm_labelc2a4ef11\").text(\"Downloaded 1564672 of 3411524 bytes\");\n                    $(\"#pm_progressc2a4ef11\").attr(\"value\", 45.86);\n                ", 
                        "text/plain": "<IPython.core.display.Javascript object>"
                    }
                }, 
                {
                    "output_type": "display_data", 
                    "metadata": {}, 
                    "data": {
                        "application/javascript": "\n                    $(\"#pm_labelc2a4ef11\").text(\"Downloaded 1572864 of 3411524 bytes\");\n                    $(\"#pm_progressc2a4ef11\").attr(\"value\", 46.1);\n                ", 
                        "text/plain": "<IPython.core.display.Javascript object>"
                    }
                }, 
                {
                    "output_type": "display_data", 
                    "metadata": {}, 
                    "data": {
                        "application/javascript": "\n                    $(\"#pm_labelc2a4ef11\").text(\"Downloaded 1581056 of 3411524 bytes\");\n                    $(\"#pm_progressc2a4ef11\").attr(\"value\", 46.34);\n                ", 
                        "text/plain": "<IPython.core.display.Javascript object>"
                    }
                }, 
                {
                    "output_type": "display_data", 
                    "metadata": {}, 
                    "data": {
                        "application/javascript": "\n                    $(\"#pm_labelc2a4ef11\").text(\"Downloaded 1589248 of 3411524 bytes\");\n                    $(\"#pm_progressc2a4ef11\").attr(\"value\", 46.58);\n                ", 
                        "text/plain": "<IPython.core.display.Javascript object>"
                    }
                }, 
                {
                    "output_type": "display_data", 
                    "metadata": {}, 
                    "data": {
                        "application/javascript": "\n                    $(\"#pm_labelc2a4ef11\").text(\"Downloaded 1597440 of 3411524 bytes\");\n                    $(\"#pm_progressc2a4ef11\").attr(\"value\", 46.82);\n                ", 
                        "text/plain": "<IPython.core.display.Javascript object>"
                    }
                }, 
                {
                    "output_type": "display_data", 
                    "metadata": {}, 
                    "data": {
                        "application/javascript": "\n                    $(\"#pm_labelc2a4ef11\").text(\"Downloaded 1605632 of 3411524 bytes\");\n                    $(\"#pm_progressc2a4ef11\").attr(\"value\", 47.06);\n                ", 
                        "text/plain": "<IPython.core.display.Javascript object>"
                    }
                }, 
                {
                    "output_type": "display_data", 
                    "metadata": {}, 
                    "data": {
                        "application/javascript": "\n                    $(\"#pm_labelc2a4ef11\").text(\"Downloaded 1613824 of 3411524 bytes\");\n                    $(\"#pm_progressc2a4ef11\").attr(\"value\", 47.31);\n                ", 
                        "text/plain": "<IPython.core.display.Javascript object>"
                    }
                }, 
                {
                    "output_type": "display_data", 
                    "metadata": {}, 
                    "data": {
                        "application/javascript": "\n                    $(\"#pm_labelc2a4ef11\").text(\"Downloaded 1622016 of 3411524 bytes\");\n                    $(\"#pm_progressc2a4ef11\").attr(\"value\", 47.55);\n                ", 
                        "text/plain": "<IPython.core.display.Javascript object>"
                    }
                }, 
                {
                    "output_type": "display_data", 
                    "metadata": {}, 
                    "data": {
                        "application/javascript": "\n                    $(\"#pm_labelc2a4ef11\").text(\"Downloaded 1630208 of 3411524 bytes\");\n                    $(\"#pm_progressc2a4ef11\").attr(\"value\", 47.79);\n                ", 
                        "text/plain": "<IPython.core.display.Javascript object>"
                    }
                }, 
                {
                    "output_type": "display_data", 
                    "metadata": {}, 
                    "data": {
                        "application/javascript": "\n                    $(\"#pm_labelc2a4ef11\").text(\"Downloaded 1638400 of 3411524 bytes\");\n                    $(\"#pm_progressc2a4ef11\").attr(\"value\", 48.03);\n                ", 
                        "text/plain": "<IPython.core.display.Javascript object>"
                    }
                }, 
                {
                    "output_type": "display_data", 
                    "metadata": {}, 
                    "data": {
                        "application/javascript": "\n                    $(\"#pm_labelc2a4ef11\").text(\"Downloaded 1646592 of 3411524 bytes\");\n                    $(\"#pm_progressc2a4ef11\").attr(\"value\", 48.27);\n                ", 
                        "text/plain": "<IPython.core.display.Javascript object>"
                    }
                }, 
                {
                    "output_type": "display_data", 
                    "metadata": {}, 
                    "data": {
                        "application/javascript": "\n                    $(\"#pm_labelc2a4ef11\").text(\"Downloaded 1654784 of 3411524 bytes\");\n                    $(\"#pm_progressc2a4ef11\").attr(\"value\", 48.51);\n                ", 
                        "text/plain": "<IPython.core.display.Javascript object>"
                    }
                }, 
                {
                    "output_type": "display_data", 
                    "metadata": {}, 
                    "data": {
                        "application/javascript": "\n                    $(\"#pm_labelc2a4ef11\").text(\"Downloaded 1662976 of 3411524 bytes\");\n                    $(\"#pm_progressc2a4ef11\").attr(\"value\", 48.75);\n                ", 
                        "text/plain": "<IPython.core.display.Javascript object>"
                    }
                }, 
                {
                    "output_type": "display_data", 
                    "metadata": {}, 
                    "data": {
                        "application/javascript": "\n                    $(\"#pm_labelc2a4ef11\").text(\"Downloaded 1671168 of 3411524 bytes\");\n                    $(\"#pm_progressc2a4ef11\").attr(\"value\", 48.99);\n                ", 
                        "text/plain": "<IPython.core.display.Javascript object>"
                    }
                }, 
                {
                    "output_type": "display_data", 
                    "metadata": {}, 
                    "data": {
                        "application/javascript": "\n                    $(\"#pm_labelc2a4ef11\").text(\"Downloaded 1679360 of 3411524 bytes\");\n                    $(\"#pm_progressc2a4ef11\").attr(\"value\", 49.23);\n                ", 
                        "text/plain": "<IPython.core.display.Javascript object>"
                    }
                }, 
                {
                    "output_type": "display_data", 
                    "metadata": {}, 
                    "data": {
                        "application/javascript": "\n                    $(\"#pm_labelc2a4ef11\").text(\"Downloaded 1687552 of 3411524 bytes\");\n                    $(\"#pm_progressc2a4ef11\").attr(\"value\", 49.47);\n                ", 
                        "text/plain": "<IPython.core.display.Javascript object>"
                    }
                }, 
                {
                    "output_type": "display_data", 
                    "metadata": {}, 
                    "data": {
                        "application/javascript": "\n                    $(\"#pm_labelc2a4ef11\").text(\"Downloaded 1695744 of 3411524 bytes\");\n                    $(\"#pm_progressc2a4ef11\").attr(\"value\", 49.71);\n                ", 
                        "text/plain": "<IPython.core.display.Javascript object>"
                    }
                }, 
                {
                    "output_type": "display_data", 
                    "metadata": {}, 
                    "data": {
                        "application/javascript": "\n                    $(\"#pm_labelc2a4ef11\").text(\"Downloaded 1703936 of 3411524 bytes\");\n                    $(\"#pm_progressc2a4ef11\").attr(\"value\", 49.95);\n                ", 
                        "text/plain": "<IPython.core.display.Javascript object>"
                    }
                }, 
                {
                    "output_type": "display_data", 
                    "metadata": {}, 
                    "data": {
                        "application/javascript": "\n                    $(\"#pm_labelc2a4ef11\").text(\"Downloaded 1712128 of 3411524 bytes\");\n                    $(\"#pm_progressc2a4ef11\").attr(\"value\", 50.19);\n                ", 
                        "text/plain": "<IPython.core.display.Javascript object>"
                    }
                }, 
                {
                    "output_type": "display_data", 
                    "metadata": {}, 
                    "data": {
                        "application/javascript": "\n                    $(\"#pm_labelc2a4ef11\").text(\"Downloaded 1720320 of 3411524 bytes\");\n                    $(\"#pm_progressc2a4ef11\").attr(\"value\", 50.43);\n                ", 
                        "text/plain": "<IPython.core.display.Javascript object>"
                    }
                }, 
                {
                    "output_type": "display_data", 
                    "metadata": {}, 
                    "data": {
                        "application/javascript": "\n                    $(\"#pm_labelc2a4ef11\").text(\"Downloaded 1728512 of 3411524 bytes\");\n                    $(\"#pm_progressc2a4ef11\").attr(\"value\", 50.67);\n                ", 
                        "text/plain": "<IPython.core.display.Javascript object>"
                    }
                }, 
                {
                    "output_type": "display_data", 
                    "metadata": {}, 
                    "data": {
                        "application/javascript": "\n                    $(\"#pm_labelc2a4ef11\").text(\"Downloaded 1736704 of 3411524 bytes\");\n                    $(\"#pm_progressc2a4ef11\").attr(\"value\", 50.91);\n                ", 
                        "text/plain": "<IPython.core.display.Javascript object>"
                    }
                }, 
                {
                    "output_type": "display_data", 
                    "metadata": {}, 
                    "data": {
                        "application/javascript": "\n                    $(\"#pm_labelc2a4ef11\").text(\"Downloaded 1744896 of 3411524 bytes\");\n                    $(\"#pm_progressc2a4ef11\").attr(\"value\", 51.15);\n                ", 
                        "text/plain": "<IPython.core.display.Javascript object>"
                    }
                }, 
                {
                    "output_type": "display_data", 
                    "metadata": {}, 
                    "data": {
                        "application/javascript": "\n                    $(\"#pm_labelc2a4ef11\").text(\"Downloaded 1753088 of 3411524 bytes\");\n                    $(\"#pm_progressc2a4ef11\").attr(\"value\", 51.39);\n                ", 
                        "text/plain": "<IPython.core.display.Javascript object>"
                    }
                }, 
                {
                    "output_type": "display_data", 
                    "metadata": {}, 
                    "data": {
                        "application/javascript": "\n                    $(\"#pm_labelc2a4ef11\").text(\"Downloaded 1761280 of 3411524 bytes\");\n                    $(\"#pm_progressc2a4ef11\").attr(\"value\", 51.63);\n                ", 
                        "text/plain": "<IPython.core.display.Javascript object>"
                    }
                }, 
                {
                    "output_type": "display_data", 
                    "metadata": {}, 
                    "data": {
                        "application/javascript": "\n                    $(\"#pm_labelc2a4ef11\").text(\"Downloaded 1769472 of 3411524 bytes\");\n                    $(\"#pm_progressc2a4ef11\").attr(\"value\", 51.87);\n                ", 
                        "text/plain": "<IPython.core.display.Javascript object>"
                    }
                }, 
                {
                    "output_type": "display_data", 
                    "metadata": {}, 
                    "data": {
                        "application/javascript": "\n                    $(\"#pm_labelc2a4ef11\").text(\"Downloaded 1777664 of 3411524 bytes\");\n                    $(\"#pm_progressc2a4ef11\").attr(\"value\", 52.11);\n                ", 
                        "text/plain": "<IPython.core.display.Javascript object>"
                    }
                }, 
                {
                    "output_type": "display_data", 
                    "metadata": {}, 
                    "data": {
                        "application/javascript": "\n                    $(\"#pm_labelc2a4ef11\").text(\"Downloaded 1785856 of 3411524 bytes\");\n                    $(\"#pm_progressc2a4ef11\").attr(\"value\", 52.35);\n                ", 
                        "text/plain": "<IPython.core.display.Javascript object>"
                    }
                }, 
                {
                    "output_type": "display_data", 
                    "metadata": {}, 
                    "data": {
                        "application/javascript": "\n                    $(\"#pm_labelc2a4ef11\").text(\"Downloaded 1794048 of 3411524 bytes\");\n                    $(\"#pm_progressc2a4ef11\").attr(\"value\", 52.59);\n                ", 
                        "text/plain": "<IPython.core.display.Javascript object>"
                    }
                }, 
                {
                    "output_type": "display_data", 
                    "metadata": {}, 
                    "data": {
                        "application/javascript": "\n                    $(\"#pm_labelc2a4ef11\").text(\"Downloaded 1802240 of 3411524 bytes\");\n                    $(\"#pm_progressc2a4ef11\").attr(\"value\", 52.83);\n                ", 
                        "text/plain": "<IPython.core.display.Javascript object>"
                    }
                }, 
                {
                    "output_type": "display_data", 
                    "metadata": {}, 
                    "data": {
                        "application/javascript": "\n                    $(\"#pm_labelc2a4ef11\").text(\"Downloaded 1810432 of 3411524 bytes\");\n                    $(\"#pm_progressc2a4ef11\").attr(\"value\", 53.07);\n                ", 
                        "text/plain": "<IPython.core.display.Javascript object>"
                    }
                }, 
                {
                    "output_type": "display_data", 
                    "metadata": {}, 
                    "data": {
                        "application/javascript": "\n                    $(\"#pm_labelc2a4ef11\").text(\"Downloaded 1818624 of 3411524 bytes\");\n                    $(\"#pm_progressc2a4ef11\").attr(\"value\", 53.31);\n                ", 
                        "text/plain": "<IPython.core.display.Javascript object>"
                    }
                }, 
                {
                    "output_type": "display_data", 
                    "metadata": {}, 
                    "data": {
                        "application/javascript": "\n                    $(\"#pm_labelc2a4ef11\").text(\"Downloaded 1826816 of 3411524 bytes\");\n                    $(\"#pm_progressc2a4ef11\").attr(\"value\", 53.55);\n                ", 
                        "text/plain": "<IPython.core.display.Javascript object>"
                    }
                }, 
                {
                    "output_type": "display_data", 
                    "metadata": {}, 
                    "data": {
                        "application/javascript": "\n                    $(\"#pm_labelc2a4ef11\").text(\"Downloaded 1835008 of 3411524 bytes\");\n                    $(\"#pm_progressc2a4ef11\").attr(\"value\", 53.79);\n                ", 
                        "text/plain": "<IPython.core.display.Javascript object>"
                    }
                }, 
                {
                    "output_type": "display_data", 
                    "metadata": {}, 
                    "data": {
                        "application/javascript": "\n                    $(\"#pm_labelc2a4ef11\").text(\"Downloaded 1843200 of 3411524 bytes\");\n                    $(\"#pm_progressc2a4ef11\").attr(\"value\", 54.03);\n                ", 
                        "text/plain": "<IPython.core.display.Javascript object>"
                    }
                }, 
                {
                    "output_type": "display_data", 
                    "metadata": {}, 
                    "data": {
                        "application/javascript": "\n                    $(\"#pm_labelc2a4ef11\").text(\"Downloaded 1851392 of 3411524 bytes\");\n                    $(\"#pm_progressc2a4ef11\").attr(\"value\", 54.27);\n                ", 
                        "text/plain": "<IPython.core.display.Javascript object>"
                    }
                }, 
                {
                    "output_type": "display_data", 
                    "metadata": {}, 
                    "data": {
                        "application/javascript": "\n                    $(\"#pm_labelc2a4ef11\").text(\"Downloaded 1859584 of 3411524 bytes\");\n                    $(\"#pm_progressc2a4ef11\").attr(\"value\", 54.51);\n                ", 
                        "text/plain": "<IPython.core.display.Javascript object>"
                    }
                }, 
                {
                    "output_type": "display_data", 
                    "metadata": {}, 
                    "data": {
                        "application/javascript": "\n                    $(\"#pm_labelc2a4ef11\").text(\"Downloaded 1867776 of 3411524 bytes\");\n                    $(\"#pm_progressc2a4ef11\").attr(\"value\", 54.75);\n                ", 
                        "text/plain": "<IPython.core.display.Javascript object>"
                    }
                }, 
                {
                    "output_type": "display_data", 
                    "metadata": {}, 
                    "data": {
                        "application/javascript": "\n                    $(\"#pm_labelc2a4ef11\").text(\"Downloaded 1875968 of 3411524 bytes\");\n                    $(\"#pm_progressc2a4ef11\").attr(\"value\", 54.99);\n                ", 
                        "text/plain": "<IPython.core.display.Javascript object>"
                    }
                }, 
                {
                    "output_type": "display_data", 
                    "metadata": {}, 
                    "data": {
                        "application/javascript": "\n                    $(\"#pm_labelc2a4ef11\").text(\"Downloaded 1884160 of 3411524 bytes\");\n                    $(\"#pm_progressc2a4ef11\").attr(\"value\", 55.23);\n                ", 
                        "text/plain": "<IPython.core.display.Javascript object>"
                    }
                }, 
                {
                    "output_type": "display_data", 
                    "metadata": {}, 
                    "data": {
                        "application/javascript": "\n                    $(\"#pm_labelc2a4ef11\").text(\"Downloaded 1892352 of 3411524 bytes\");\n                    $(\"#pm_progressc2a4ef11\").attr(\"value\", 55.47);\n                ", 
                        "text/plain": "<IPython.core.display.Javascript object>"
                    }
                }, 
                {
                    "output_type": "display_data", 
                    "metadata": {}, 
                    "data": {
                        "application/javascript": "\n                    $(\"#pm_labelc2a4ef11\").text(\"Downloaded 1900544 of 3411524 bytes\");\n                    $(\"#pm_progressc2a4ef11\").attr(\"value\", 55.71);\n                ", 
                        "text/plain": "<IPython.core.display.Javascript object>"
                    }
                }, 
                {
                    "output_type": "display_data", 
                    "metadata": {}, 
                    "data": {
                        "application/javascript": "\n                    $(\"#pm_labelc2a4ef11\").text(\"Downloaded 1908736 of 3411524 bytes\");\n                    $(\"#pm_progressc2a4ef11\").attr(\"value\", 55.95);\n                ", 
                        "text/plain": "<IPython.core.display.Javascript object>"
                    }
                }, 
                {
                    "output_type": "display_data", 
                    "metadata": {}, 
                    "data": {
                        "application/javascript": "\n                    $(\"#pm_labelc2a4ef11\").text(\"Downloaded 1916928 of 3411524 bytes\");\n                    $(\"#pm_progressc2a4ef11\").attr(\"value\", 56.19);\n                ", 
                        "text/plain": "<IPython.core.display.Javascript object>"
                    }
                }, 
                {
                    "output_type": "display_data", 
                    "metadata": {}, 
                    "data": {
                        "application/javascript": "\n                    $(\"#pm_labelc2a4ef11\").text(\"Downloaded 1925120 of 3411524 bytes\");\n                    $(\"#pm_progressc2a4ef11\").attr(\"value\", 56.43);\n                ", 
                        "text/plain": "<IPython.core.display.Javascript object>"
                    }
                }, 
                {
                    "output_type": "display_data", 
                    "metadata": {}, 
                    "data": {
                        "application/javascript": "\n                    $(\"#pm_labelc2a4ef11\").text(\"Downloaded 1933312 of 3411524 bytes\");\n                    $(\"#pm_progressc2a4ef11\").attr(\"value\", 56.67);\n                ", 
                        "text/plain": "<IPython.core.display.Javascript object>"
                    }
                }, 
                {
                    "output_type": "display_data", 
                    "metadata": {}, 
                    "data": {
                        "application/javascript": "\n                    $(\"#pm_labelc2a4ef11\").text(\"Downloaded 1941504 of 3411524 bytes\");\n                    $(\"#pm_progressc2a4ef11\").attr(\"value\", 56.91);\n                ", 
                        "text/plain": "<IPython.core.display.Javascript object>"
                    }
                }, 
                {
                    "output_type": "display_data", 
                    "metadata": {}, 
                    "data": {
                        "application/javascript": "\n                    $(\"#pm_labelc2a4ef11\").text(\"Downloaded 1949696 of 3411524 bytes\");\n                    $(\"#pm_progressc2a4ef11\").attr(\"value\", 57.15);\n                ", 
                        "text/plain": "<IPython.core.display.Javascript object>"
                    }
                }, 
                {
                    "output_type": "display_data", 
                    "metadata": {}, 
                    "data": {
                        "application/javascript": "\n                    $(\"#pm_labelc2a4ef11\").text(\"Downloaded 1957888 of 3411524 bytes\");\n                    $(\"#pm_progressc2a4ef11\").attr(\"value\", 57.39);\n                ", 
                        "text/plain": "<IPython.core.display.Javascript object>"
                    }
                }, 
                {
                    "output_type": "display_data", 
                    "metadata": {}, 
                    "data": {
                        "application/javascript": "\n                    $(\"#pm_labelc2a4ef11\").text(\"Downloaded 1966080 of 3411524 bytes\");\n                    $(\"#pm_progressc2a4ef11\").attr(\"value\", 57.63);\n                ", 
                        "text/plain": "<IPython.core.display.Javascript object>"
                    }
                }, 
                {
                    "output_type": "display_data", 
                    "metadata": {}, 
                    "data": {
                        "application/javascript": "\n                    $(\"#pm_labelc2a4ef11\").text(\"Downloaded 1974272 of 3411524 bytes\");\n                    $(\"#pm_progressc2a4ef11\").attr(\"value\", 57.87);\n                ", 
                        "text/plain": "<IPython.core.display.Javascript object>"
                    }
                }, 
                {
                    "output_type": "display_data", 
                    "metadata": {}, 
                    "data": {
                        "application/javascript": "\n                    $(\"#pm_labelc2a4ef11\").text(\"Downloaded 1982464 of 3411524 bytes\");\n                    $(\"#pm_progressc2a4ef11\").attr(\"value\", 58.11);\n                ", 
                        "text/plain": "<IPython.core.display.Javascript object>"
                    }
                }, 
                {
                    "output_type": "display_data", 
                    "metadata": {}, 
                    "data": {
                        "application/javascript": "\n                    $(\"#pm_labelc2a4ef11\").text(\"Downloaded 1990656 of 3411524 bytes\");\n                    $(\"#pm_progressc2a4ef11\").attr(\"value\", 58.35);\n                ", 
                        "text/plain": "<IPython.core.display.Javascript object>"
                    }
                }, 
                {
                    "output_type": "display_data", 
                    "metadata": {}, 
                    "data": {
                        "application/javascript": "\n                    $(\"#pm_labelc2a4ef11\").text(\"Downloaded 1998848 of 3411524 bytes\");\n                    $(\"#pm_progressc2a4ef11\").attr(\"value\", 58.59);\n                ", 
                        "text/plain": "<IPython.core.display.Javascript object>"
                    }
                }, 
                {
                    "output_type": "display_data", 
                    "metadata": {}, 
                    "data": {
                        "application/javascript": "\n                    $(\"#pm_labelc2a4ef11\").text(\"Downloaded 2007040 of 3411524 bytes\");\n                    $(\"#pm_progressc2a4ef11\").attr(\"value\", 58.83);\n                ", 
                        "text/plain": "<IPython.core.display.Javascript object>"
                    }
                }, 
                {
                    "output_type": "display_data", 
                    "metadata": {}, 
                    "data": {
                        "application/javascript": "\n                    $(\"#pm_labelc2a4ef11\").text(\"Downloaded 2015232 of 3411524 bytes\");\n                    $(\"#pm_progressc2a4ef11\").attr(\"value\", 59.07);\n                ", 
                        "text/plain": "<IPython.core.display.Javascript object>"
                    }
                }, 
                {
                    "output_type": "display_data", 
                    "metadata": {}, 
                    "data": {
                        "application/javascript": "\n                    $(\"#pm_labelc2a4ef11\").text(\"Downloaded 2023424 of 3411524 bytes\");\n                    $(\"#pm_progressc2a4ef11\").attr(\"value\", 59.31);\n                ", 
                        "text/plain": "<IPython.core.display.Javascript object>"
                    }
                }, 
                {
                    "output_type": "display_data", 
                    "metadata": {}, 
                    "data": {
                        "application/javascript": "\n                    $(\"#pm_labelc2a4ef11\").text(\"Downloaded 2031616 of 3411524 bytes\");\n                    $(\"#pm_progressc2a4ef11\").attr(\"value\", 59.55);\n                ", 
                        "text/plain": "<IPython.core.display.Javascript object>"
                    }
                }, 
                {
                    "output_type": "display_data", 
                    "metadata": {}, 
                    "data": {
                        "application/javascript": "\n                    $(\"#pm_labelc2a4ef11\").text(\"Downloaded 2039808 of 3411524 bytes\");\n                    $(\"#pm_progressc2a4ef11\").attr(\"value\", 59.79);\n                ", 
                        "text/plain": "<IPython.core.display.Javascript object>"
                    }
                }, 
                {
                    "output_type": "display_data", 
                    "metadata": {}, 
                    "data": {
                        "application/javascript": "\n                    $(\"#pm_labelc2a4ef11\").text(\"Downloaded 2048000 of 3411524 bytes\");\n                    $(\"#pm_progressc2a4ef11\").attr(\"value\", 60.03);\n                ", 
                        "text/plain": "<IPython.core.display.Javascript object>"
                    }
                }, 
                {
                    "output_type": "display_data", 
                    "metadata": {}, 
                    "data": {
                        "application/javascript": "\n                    $(\"#pm_labelc2a4ef11\").text(\"Downloaded 2056192 of 3411524 bytes\");\n                    $(\"#pm_progressc2a4ef11\").attr(\"value\", 60.27);\n                ", 
                        "text/plain": "<IPython.core.display.Javascript object>"
                    }
                }, 
                {
                    "output_type": "display_data", 
                    "metadata": {}, 
                    "data": {
                        "application/javascript": "\n                    $(\"#pm_labelc2a4ef11\").text(\"Downloaded 2064384 of 3411524 bytes\");\n                    $(\"#pm_progressc2a4ef11\").attr(\"value\", 60.51);\n                ", 
                        "text/plain": "<IPython.core.display.Javascript object>"
                    }
                }, 
                {
                    "output_type": "display_data", 
                    "metadata": {}, 
                    "data": {
                        "application/javascript": "\n                    $(\"#pm_labelc2a4ef11\").text(\"Downloaded 2072576 of 3411524 bytes\");\n                    $(\"#pm_progressc2a4ef11\").attr(\"value\", 60.75);\n                ", 
                        "text/plain": "<IPython.core.display.Javascript object>"
                    }
                }, 
                {
                    "output_type": "display_data", 
                    "metadata": {}, 
                    "data": {
                        "application/javascript": "\n                    $(\"#pm_labelc2a4ef11\").text(\"Downloaded 2080768 of 3411524 bytes\");\n                    $(\"#pm_progressc2a4ef11\").attr(\"value\", 60.99);\n                ", 
                        "text/plain": "<IPython.core.display.Javascript object>"
                    }
                }, 
                {
                    "output_type": "display_data", 
                    "metadata": {}, 
                    "data": {
                        "application/javascript": "\n                    $(\"#pm_labelc2a4ef11\").text(\"Downloaded 2088960 of 3411524 bytes\");\n                    $(\"#pm_progressc2a4ef11\").attr(\"value\", 61.23);\n                ", 
                        "text/plain": "<IPython.core.display.Javascript object>"
                    }
                }, 
                {
                    "output_type": "display_data", 
                    "metadata": {}, 
                    "data": {
                        "application/javascript": "\n                    $(\"#pm_labelc2a4ef11\").text(\"Downloaded 2097152 of 3411524 bytes\");\n                    $(\"#pm_progressc2a4ef11\").attr(\"value\", 61.47);\n                ", 
                        "text/plain": "<IPython.core.display.Javascript object>"
                    }
                }, 
                {
                    "output_type": "display_data", 
                    "metadata": {}, 
                    "data": {
                        "application/javascript": "\n                    $(\"#pm_labelc2a4ef11\").text(\"Downloaded 2105344 of 3411524 bytes\");\n                    $(\"#pm_progressc2a4ef11\").attr(\"value\", 61.71);\n                ", 
                        "text/plain": "<IPython.core.display.Javascript object>"
                    }
                }, 
                {
                    "output_type": "display_data", 
                    "metadata": {}, 
                    "data": {
                        "application/javascript": "\n                    $(\"#pm_labelc2a4ef11\").text(\"Downloaded 2113536 of 3411524 bytes\");\n                    $(\"#pm_progressc2a4ef11\").attr(\"value\", 61.95);\n                ", 
                        "text/plain": "<IPython.core.display.Javascript object>"
                    }
                }, 
                {
                    "output_type": "display_data", 
                    "metadata": {}, 
                    "data": {
                        "application/javascript": "\n                    $(\"#pm_labelc2a4ef11\").text(\"Downloaded 2121728 of 3411524 bytes\");\n                    $(\"#pm_progressc2a4ef11\").attr(\"value\", 62.19);\n                ", 
                        "text/plain": "<IPython.core.display.Javascript object>"
                    }
                }, 
                {
                    "output_type": "display_data", 
                    "metadata": {}, 
                    "data": {
                        "application/javascript": "\n                    $(\"#pm_labelc2a4ef11\").text(\"Downloaded 2129920 of 3411524 bytes\");\n                    $(\"#pm_progressc2a4ef11\").attr(\"value\", 62.43);\n                ", 
                        "text/plain": "<IPython.core.display.Javascript object>"
                    }
                }, 
                {
                    "output_type": "display_data", 
                    "metadata": {}, 
                    "data": {
                        "application/javascript": "\n                    $(\"#pm_labelc2a4ef11\").text(\"Downloaded 2138112 of 3411524 bytes\");\n                    $(\"#pm_progressc2a4ef11\").attr(\"value\", 62.67);\n                ", 
                        "text/plain": "<IPython.core.display.Javascript object>"
                    }
                }, 
                {
                    "output_type": "display_data", 
                    "metadata": {}, 
                    "data": {
                        "application/javascript": "\n                    $(\"#pm_labelc2a4ef11\").text(\"Downloaded 2146304 of 3411524 bytes\");\n                    $(\"#pm_progressc2a4ef11\").attr(\"value\", 62.91);\n                ", 
                        "text/plain": "<IPython.core.display.Javascript object>"
                    }
                }, 
                {
                    "output_type": "display_data", 
                    "metadata": {}, 
                    "data": {
                        "application/javascript": "\n                    $(\"#pm_labelc2a4ef11\").text(\"Downloaded 2154496 of 3411524 bytes\");\n                    $(\"#pm_progressc2a4ef11\").attr(\"value\", 63.15);\n                ", 
                        "text/plain": "<IPython.core.display.Javascript object>"
                    }
                }, 
                {
                    "output_type": "display_data", 
                    "metadata": {}, 
                    "data": {
                        "application/javascript": "\n                    $(\"#pm_labelc2a4ef11\").text(\"Downloaded 2162688 of 3411524 bytes\");\n                    $(\"#pm_progressc2a4ef11\").attr(\"value\", 63.39);\n                ", 
                        "text/plain": "<IPython.core.display.Javascript object>"
                    }
                }, 
                {
                    "output_type": "display_data", 
                    "metadata": {}, 
                    "data": {
                        "application/javascript": "\n                    $(\"#pm_labelc2a4ef11\").text(\"Downloaded 2170880 of 3411524 bytes\");\n                    $(\"#pm_progressc2a4ef11\").attr(\"value\", 63.63);\n                ", 
                        "text/plain": "<IPython.core.display.Javascript object>"
                    }
                }, 
                {
                    "output_type": "display_data", 
                    "metadata": {}, 
                    "data": {
                        "application/javascript": "\n                    $(\"#pm_labelc2a4ef11\").text(\"Downloaded 2179072 of 3411524 bytes\");\n                    $(\"#pm_progressc2a4ef11\").attr(\"value\", 63.87);\n                ", 
                        "text/plain": "<IPython.core.display.Javascript object>"
                    }
                }, 
                {
                    "output_type": "display_data", 
                    "metadata": {}, 
                    "data": {
                        "application/javascript": "\n                    $(\"#pm_labelc2a4ef11\").text(\"Downloaded 2187264 of 3411524 bytes\");\n                    $(\"#pm_progressc2a4ef11\").attr(\"value\", 64.11);\n                ", 
                        "text/plain": "<IPython.core.display.Javascript object>"
                    }
                }, 
                {
                    "output_type": "display_data", 
                    "metadata": {}, 
                    "data": {
                        "application/javascript": "\n                    $(\"#pm_labelc2a4ef11\").text(\"Downloaded 2195456 of 3411524 bytes\");\n                    $(\"#pm_progressc2a4ef11\").attr(\"value\", 64.35);\n                ", 
                        "text/plain": "<IPython.core.display.Javascript object>"
                    }
                }, 
                {
                    "output_type": "display_data", 
                    "metadata": {}, 
                    "data": {
                        "application/javascript": "\n                    $(\"#pm_labelc2a4ef11\").text(\"Downloaded 2203648 of 3411524 bytes\");\n                    $(\"#pm_progressc2a4ef11\").attr(\"value\", 64.59);\n                ", 
                        "text/plain": "<IPython.core.display.Javascript object>"
                    }
                }, 
                {
                    "output_type": "display_data", 
                    "metadata": {}, 
                    "data": {
                        "application/javascript": "\n                    $(\"#pm_labelc2a4ef11\").text(\"Downloaded 2211840 of 3411524 bytes\");\n                    $(\"#pm_progressc2a4ef11\").attr(\"value\", 64.83);\n                ", 
                        "text/plain": "<IPython.core.display.Javascript object>"
                    }
                }, 
                {
                    "output_type": "display_data", 
                    "metadata": {}, 
                    "data": {
                        "application/javascript": "\n                    $(\"#pm_labelc2a4ef11\").text(\"Downloaded 2220032 of 3411524 bytes\");\n                    $(\"#pm_progressc2a4ef11\").attr(\"value\", 65.07);\n                ", 
                        "text/plain": "<IPython.core.display.Javascript object>"
                    }
                }, 
                {
                    "output_type": "display_data", 
                    "metadata": {}, 
                    "data": {
                        "application/javascript": "\n                    $(\"#pm_labelc2a4ef11\").text(\"Downloaded 2228224 of 3411524 bytes\");\n                    $(\"#pm_progressc2a4ef11\").attr(\"value\", 65.31);\n                ", 
                        "text/plain": "<IPython.core.display.Javascript object>"
                    }
                }, 
                {
                    "output_type": "display_data", 
                    "metadata": {}, 
                    "data": {
                        "application/javascript": "\n                    $(\"#pm_labelc2a4ef11\").text(\"Downloaded 2236416 of 3411524 bytes\");\n                    $(\"#pm_progressc2a4ef11\").attr(\"value\", 65.55);\n                ", 
                        "text/plain": "<IPython.core.display.Javascript object>"
                    }
                }, 
                {
                    "output_type": "display_data", 
                    "metadata": {}, 
                    "data": {
                        "application/javascript": "\n                    $(\"#pm_labelc2a4ef11\").text(\"Downloaded 2244608 of 3411524 bytes\");\n                    $(\"#pm_progressc2a4ef11\").attr(\"value\", 65.79);\n                ", 
                        "text/plain": "<IPython.core.display.Javascript object>"
                    }
                }, 
                {
                    "output_type": "display_data", 
                    "metadata": {}, 
                    "data": {
                        "application/javascript": "\n                    $(\"#pm_labelc2a4ef11\").text(\"Downloaded 2252800 of 3411524 bytes\");\n                    $(\"#pm_progressc2a4ef11\").attr(\"value\", 66.04);\n                ", 
                        "text/plain": "<IPython.core.display.Javascript object>"
                    }
                }, 
                {
                    "output_type": "display_data", 
                    "metadata": {}, 
                    "data": {
                        "application/javascript": "\n                    $(\"#pm_labelc2a4ef11\").text(\"Downloaded 2260992 of 3411524 bytes\");\n                    $(\"#pm_progressc2a4ef11\").attr(\"value\", 66.28);\n                ", 
                        "text/plain": "<IPython.core.display.Javascript object>"
                    }
                }, 
                {
                    "output_type": "display_data", 
                    "metadata": {}, 
                    "data": {
                        "application/javascript": "\n                    $(\"#pm_labelc2a4ef11\").text(\"Downloaded 2269184 of 3411524 bytes\");\n                    $(\"#pm_progressc2a4ef11\").attr(\"value\", 66.52);\n                ", 
                        "text/plain": "<IPython.core.display.Javascript object>"
                    }
                }, 
                {
                    "output_type": "display_data", 
                    "metadata": {}, 
                    "data": {
                        "application/javascript": "\n                    $(\"#pm_labelc2a4ef11\").text(\"Downloaded 2277376 of 3411524 bytes\");\n                    $(\"#pm_progressc2a4ef11\").attr(\"value\", 66.76);\n                ", 
                        "text/plain": "<IPython.core.display.Javascript object>"
                    }
                }, 
                {
                    "output_type": "display_data", 
                    "metadata": {}, 
                    "data": {
                        "application/javascript": "\n                    $(\"#pm_labelc2a4ef11\").text(\"Downloaded 2285568 of 3411524 bytes\");\n                    $(\"#pm_progressc2a4ef11\").attr(\"value\", 67.0);\n                ", 
                        "text/plain": "<IPython.core.display.Javascript object>"
                    }
                }, 
                {
                    "output_type": "display_data", 
                    "metadata": {}, 
                    "data": {
                        "application/javascript": "\n                    $(\"#pm_labelc2a4ef11\").text(\"Downloaded 2293760 of 3411524 bytes\");\n                    $(\"#pm_progressc2a4ef11\").attr(\"value\", 67.24);\n                ", 
                        "text/plain": "<IPython.core.display.Javascript object>"
                    }
                }, 
                {
                    "output_type": "display_data", 
                    "metadata": {}, 
                    "data": {
                        "application/javascript": "\n                    $(\"#pm_labelc2a4ef11\").text(\"Downloaded 2301952 of 3411524 bytes\");\n                    $(\"#pm_progressc2a4ef11\").attr(\"value\", 67.48);\n                ", 
                        "text/plain": "<IPython.core.display.Javascript object>"
                    }
                }, 
                {
                    "output_type": "display_data", 
                    "metadata": {}, 
                    "data": {
                        "application/javascript": "\n                    $(\"#pm_labelc2a4ef11\").text(\"Downloaded 2310144 of 3411524 bytes\");\n                    $(\"#pm_progressc2a4ef11\").attr(\"value\", 67.72);\n                ", 
                        "text/plain": "<IPython.core.display.Javascript object>"
                    }
                }, 
                {
                    "output_type": "display_data", 
                    "metadata": {}, 
                    "data": {
                        "application/javascript": "\n                    $(\"#pm_labelc2a4ef11\").text(\"Downloaded 2318336 of 3411524 bytes\");\n                    $(\"#pm_progressc2a4ef11\").attr(\"value\", 67.96);\n                ", 
                        "text/plain": "<IPython.core.display.Javascript object>"
                    }
                }, 
                {
                    "output_type": "display_data", 
                    "metadata": {}, 
                    "data": {
                        "application/javascript": "\n                    $(\"#pm_labelc2a4ef11\").text(\"Downloaded 2326528 of 3411524 bytes\");\n                    $(\"#pm_progressc2a4ef11\").attr(\"value\", 68.2);\n                ", 
                        "text/plain": "<IPython.core.display.Javascript object>"
                    }
                }, 
                {
                    "output_type": "display_data", 
                    "metadata": {}, 
                    "data": {
                        "application/javascript": "\n                    $(\"#pm_labelc2a4ef11\").text(\"Downloaded 2334720 of 3411524 bytes\");\n                    $(\"#pm_progressc2a4ef11\").attr(\"value\", 68.44);\n                ", 
                        "text/plain": "<IPython.core.display.Javascript object>"
                    }
                }, 
                {
                    "output_type": "display_data", 
                    "metadata": {}, 
                    "data": {
                        "application/javascript": "\n                    $(\"#pm_labelc2a4ef11\").text(\"Downloaded 2342912 of 3411524 bytes\");\n                    $(\"#pm_progressc2a4ef11\").attr(\"value\", 68.68);\n                ", 
                        "text/plain": "<IPython.core.display.Javascript object>"
                    }
                }, 
                {
                    "output_type": "display_data", 
                    "metadata": {}, 
                    "data": {
                        "application/javascript": "\n                    $(\"#pm_labelc2a4ef11\").text(\"Downloaded 2351104 of 3411524 bytes\");\n                    $(\"#pm_progressc2a4ef11\").attr(\"value\", 68.92);\n                ", 
                        "text/plain": "<IPython.core.display.Javascript object>"
                    }
                }, 
                {
                    "output_type": "display_data", 
                    "metadata": {}, 
                    "data": {
                        "application/javascript": "\n                    $(\"#pm_labelc2a4ef11\").text(\"Downloaded 2359296 of 3411524 bytes\");\n                    $(\"#pm_progressc2a4ef11\").attr(\"value\", 69.16);\n                ", 
                        "text/plain": "<IPython.core.display.Javascript object>"
                    }
                }, 
                {
                    "output_type": "display_data", 
                    "metadata": {}, 
                    "data": {
                        "application/javascript": "\n                    $(\"#pm_labelc2a4ef11\").text(\"Downloaded 2367488 of 3411524 bytes\");\n                    $(\"#pm_progressc2a4ef11\").attr(\"value\", 69.4);\n                ", 
                        "text/plain": "<IPython.core.display.Javascript object>"
                    }
                }, 
                {
                    "output_type": "display_data", 
                    "metadata": {}, 
                    "data": {
                        "application/javascript": "\n                    $(\"#pm_labelc2a4ef11\").text(\"Downloaded 2375680 of 3411524 bytes\");\n                    $(\"#pm_progressc2a4ef11\").attr(\"value\", 69.64);\n                ", 
                        "text/plain": "<IPython.core.display.Javascript object>"
                    }
                }, 
                {
                    "output_type": "display_data", 
                    "metadata": {}, 
                    "data": {
                        "application/javascript": "\n                    $(\"#pm_labelc2a4ef11\").text(\"Downloaded 2383872 of 3411524 bytes\");\n                    $(\"#pm_progressc2a4ef11\").attr(\"value\", 69.88);\n                ", 
                        "text/plain": "<IPython.core.display.Javascript object>"
                    }
                }, 
                {
                    "output_type": "display_data", 
                    "metadata": {}, 
                    "data": {
                        "application/javascript": "\n                    $(\"#pm_labelc2a4ef11\").text(\"Downloaded 2392064 of 3411524 bytes\");\n                    $(\"#pm_progressc2a4ef11\").attr(\"value\", 70.12);\n                ", 
                        "text/plain": "<IPython.core.display.Javascript object>"
                    }
                }, 
                {
                    "output_type": "display_data", 
                    "metadata": {}, 
                    "data": {
                        "application/javascript": "\n                    $(\"#pm_labelc2a4ef11\").text(\"Downloaded 2400256 of 3411524 bytes\");\n                    $(\"#pm_progressc2a4ef11\").attr(\"value\", 70.36);\n                ", 
                        "text/plain": "<IPython.core.display.Javascript object>"
                    }
                }, 
                {
                    "output_type": "display_data", 
                    "metadata": {}, 
                    "data": {
                        "application/javascript": "\n                    $(\"#pm_labelc2a4ef11\").text(\"Downloaded 2408448 of 3411524 bytes\");\n                    $(\"#pm_progressc2a4ef11\").attr(\"value\", 70.6);\n                ", 
                        "text/plain": "<IPython.core.display.Javascript object>"
                    }
                }, 
                {
                    "output_type": "display_data", 
                    "metadata": {}, 
                    "data": {
                        "application/javascript": "\n                    $(\"#pm_labelc2a4ef11\").text(\"Downloaded 2416640 of 3411524 bytes\");\n                    $(\"#pm_progressc2a4ef11\").attr(\"value\", 70.84);\n                ", 
                        "text/plain": "<IPython.core.display.Javascript object>"
                    }
                }, 
                {
                    "output_type": "display_data", 
                    "metadata": {}, 
                    "data": {
                        "application/javascript": "\n                    $(\"#pm_labelc2a4ef11\").text(\"Downloaded 2424832 of 3411524 bytes\");\n                    $(\"#pm_progressc2a4ef11\").attr(\"value\", 71.08);\n                ", 
                        "text/plain": "<IPython.core.display.Javascript object>"
                    }
                }, 
                {
                    "output_type": "display_data", 
                    "metadata": {}, 
                    "data": {
                        "application/javascript": "\n                    $(\"#pm_labelc2a4ef11\").text(\"Downloaded 2433024 of 3411524 bytes\");\n                    $(\"#pm_progressc2a4ef11\").attr(\"value\", 71.32);\n                ", 
                        "text/plain": "<IPython.core.display.Javascript object>"
                    }
                }, 
                {
                    "output_type": "display_data", 
                    "metadata": {}, 
                    "data": {
                        "application/javascript": "\n                    $(\"#pm_labelc2a4ef11\").text(\"Downloaded 2441216 of 3411524 bytes\");\n                    $(\"#pm_progressc2a4ef11\").attr(\"value\", 71.56);\n                ", 
                        "text/plain": "<IPython.core.display.Javascript object>"
                    }
                }, 
                {
                    "output_type": "display_data", 
                    "metadata": {}, 
                    "data": {
                        "application/javascript": "\n                    $(\"#pm_labelc2a4ef11\").text(\"Downloaded 2449408 of 3411524 bytes\");\n                    $(\"#pm_progressc2a4ef11\").attr(\"value\", 71.8);\n                ", 
                        "text/plain": "<IPython.core.display.Javascript object>"
                    }
                }, 
                {
                    "output_type": "display_data", 
                    "metadata": {}, 
                    "data": {
                        "application/javascript": "\n                    $(\"#pm_labelc2a4ef11\").text(\"Downloaded 2457600 of 3411524 bytes\");\n                    $(\"#pm_progressc2a4ef11\").attr(\"value\", 72.04);\n                ", 
                        "text/plain": "<IPython.core.display.Javascript object>"
                    }
                }, 
                {
                    "output_type": "display_data", 
                    "metadata": {}, 
                    "data": {
                        "application/javascript": "\n                    $(\"#pm_labelc2a4ef11\").text(\"Downloaded 2465792 of 3411524 bytes\");\n                    $(\"#pm_progressc2a4ef11\").attr(\"value\", 72.28);\n                ", 
                        "text/plain": "<IPython.core.display.Javascript object>"
                    }
                }, 
                {
                    "output_type": "display_data", 
                    "metadata": {}, 
                    "data": {
                        "application/javascript": "\n                    $(\"#pm_labelc2a4ef11\").text(\"Downloaded 2473984 of 3411524 bytes\");\n                    $(\"#pm_progressc2a4ef11\").attr(\"value\", 72.52);\n                ", 
                        "text/plain": "<IPython.core.display.Javascript object>"
                    }
                }, 
                {
                    "output_type": "display_data", 
                    "metadata": {}, 
                    "data": {
                        "application/javascript": "\n                    $(\"#pm_labelc2a4ef11\").text(\"Downloaded 2482176 of 3411524 bytes\");\n                    $(\"#pm_progressc2a4ef11\").attr(\"value\", 72.76);\n                ", 
                        "text/plain": "<IPython.core.display.Javascript object>"
                    }
                }, 
                {
                    "output_type": "display_data", 
                    "metadata": {}, 
                    "data": {
                        "application/javascript": "\n                    $(\"#pm_labelc2a4ef11\").text(\"Downloaded 2490368 of 3411524 bytes\");\n                    $(\"#pm_progressc2a4ef11\").attr(\"value\", 73.0);\n                ", 
                        "text/plain": "<IPython.core.display.Javascript object>"
                    }
                }, 
                {
                    "output_type": "display_data", 
                    "metadata": {}, 
                    "data": {
                        "application/javascript": "\n                    $(\"#pm_labelc2a4ef11\").text(\"Downloaded 2498560 of 3411524 bytes\");\n                    $(\"#pm_progressc2a4ef11\").attr(\"value\", 73.24);\n                ", 
                        "text/plain": "<IPython.core.display.Javascript object>"
                    }
                }, 
                {
                    "output_type": "display_data", 
                    "metadata": {}, 
                    "data": {
                        "application/javascript": "\n                    $(\"#pm_labelc2a4ef11\").text(\"Downloaded 2506752 of 3411524 bytes\");\n                    $(\"#pm_progressc2a4ef11\").attr(\"value\", 73.48);\n                ", 
                        "text/plain": "<IPython.core.display.Javascript object>"
                    }
                }, 
                {
                    "output_type": "display_data", 
                    "metadata": {}, 
                    "data": {
                        "application/javascript": "\n                    $(\"#pm_labelc2a4ef11\").text(\"Downloaded 2514944 of 3411524 bytes\");\n                    $(\"#pm_progressc2a4ef11\").attr(\"value\", 73.72);\n                ", 
                        "text/plain": "<IPython.core.display.Javascript object>"
                    }
                }, 
                {
                    "output_type": "display_data", 
                    "metadata": {}, 
                    "data": {
                        "application/javascript": "\n                    $(\"#pm_labelc2a4ef11\").text(\"Downloaded 2523136 of 3411524 bytes\");\n                    $(\"#pm_progressc2a4ef11\").attr(\"value\", 73.96);\n                ", 
                        "text/plain": "<IPython.core.display.Javascript object>"
                    }
                }, 
                {
                    "output_type": "display_data", 
                    "metadata": {}, 
                    "data": {
                        "application/javascript": "\n                    $(\"#pm_labelc2a4ef11\").text(\"Downloaded 2531328 of 3411524 bytes\");\n                    $(\"#pm_progressc2a4ef11\").attr(\"value\", 74.2);\n                ", 
                        "text/plain": "<IPython.core.display.Javascript object>"
                    }
                }, 
                {
                    "output_type": "display_data", 
                    "metadata": {}, 
                    "data": {
                        "application/javascript": "\n                    $(\"#pm_labelc2a4ef11\").text(\"Downloaded 2539520 of 3411524 bytes\");\n                    $(\"#pm_progressc2a4ef11\").attr(\"value\", 74.44);\n                ", 
                        "text/plain": "<IPython.core.display.Javascript object>"
                    }
                }, 
                {
                    "output_type": "display_data", 
                    "metadata": {}, 
                    "data": {
                        "application/javascript": "\n                    $(\"#pm_labelc2a4ef11\").text(\"Downloaded 2547712 of 3411524 bytes\");\n                    $(\"#pm_progressc2a4ef11\").attr(\"value\", 74.68);\n                ", 
                        "text/plain": "<IPython.core.display.Javascript object>"
                    }
                }, 
                {
                    "output_type": "display_data", 
                    "metadata": {}, 
                    "data": {
                        "application/javascript": "\n                    $(\"#pm_labelc2a4ef11\").text(\"Downloaded 2555904 of 3411524 bytes\");\n                    $(\"#pm_progressc2a4ef11\").attr(\"value\", 74.92);\n                ", 
                        "text/plain": "<IPython.core.display.Javascript object>"
                    }
                }, 
                {
                    "output_type": "display_data", 
                    "metadata": {}, 
                    "data": {
                        "application/javascript": "\n                    $(\"#pm_labelc2a4ef11\").text(\"Downloaded 2564096 of 3411524 bytes\");\n                    $(\"#pm_progressc2a4ef11\").attr(\"value\", 75.16);\n                ", 
                        "text/plain": "<IPython.core.display.Javascript object>"
                    }
                }, 
                {
                    "output_type": "display_data", 
                    "metadata": {}, 
                    "data": {
                        "application/javascript": "\n                    $(\"#pm_labelc2a4ef11\").text(\"Downloaded 2572288 of 3411524 bytes\");\n                    $(\"#pm_progressc2a4ef11\").attr(\"value\", 75.4);\n                ", 
                        "text/plain": "<IPython.core.display.Javascript object>"
                    }
                }, 
                {
                    "output_type": "display_data", 
                    "metadata": {}, 
                    "data": {
                        "application/javascript": "\n                    $(\"#pm_labelc2a4ef11\").text(\"Downloaded 2580480 of 3411524 bytes\");\n                    $(\"#pm_progressc2a4ef11\").attr(\"value\", 75.64);\n                ", 
                        "text/plain": "<IPython.core.display.Javascript object>"
                    }
                }, 
                {
                    "output_type": "display_data", 
                    "metadata": {}, 
                    "data": {
                        "application/javascript": "\n                    $(\"#pm_labelc2a4ef11\").text(\"Downloaded 2588672 of 3411524 bytes\");\n                    $(\"#pm_progressc2a4ef11\").attr(\"value\", 75.88);\n                ", 
                        "text/plain": "<IPython.core.display.Javascript object>"
                    }
                }, 
                {
                    "output_type": "display_data", 
                    "metadata": {}, 
                    "data": {
                        "application/javascript": "\n                    $(\"#pm_labelc2a4ef11\").text(\"Downloaded 2596864 of 3411524 bytes\");\n                    $(\"#pm_progressc2a4ef11\").attr(\"value\", 76.12);\n                ", 
                        "text/plain": "<IPython.core.display.Javascript object>"
                    }
                }, 
                {
                    "output_type": "display_data", 
                    "metadata": {}, 
                    "data": {
                        "application/javascript": "\n                    $(\"#pm_labelc2a4ef11\").text(\"Downloaded 2605056 of 3411524 bytes\");\n                    $(\"#pm_progressc2a4ef11\").attr(\"value\", 76.36);\n                ", 
                        "text/plain": "<IPython.core.display.Javascript object>"
                    }
                }, 
                {
                    "output_type": "display_data", 
                    "metadata": {}, 
                    "data": {
                        "application/javascript": "\n                    $(\"#pm_labelc2a4ef11\").text(\"Downloaded 2613248 of 3411524 bytes\");\n                    $(\"#pm_progressc2a4ef11\").attr(\"value\", 76.6);\n                ", 
                        "text/plain": "<IPython.core.display.Javascript object>"
                    }
                }, 
                {
                    "output_type": "display_data", 
                    "metadata": {}, 
                    "data": {
                        "application/javascript": "\n                    $(\"#pm_labelc2a4ef11\").text(\"Downloaded 2621440 of 3411524 bytes\");\n                    $(\"#pm_progressc2a4ef11\").attr(\"value\", 76.84);\n                ", 
                        "text/plain": "<IPython.core.display.Javascript object>"
                    }
                }, 
                {
                    "output_type": "display_data", 
                    "metadata": {}, 
                    "data": {
                        "application/javascript": "\n                    $(\"#pm_labelc2a4ef11\").text(\"Downloaded 2629632 of 3411524 bytes\");\n                    $(\"#pm_progressc2a4ef11\").attr(\"value\", 77.08);\n                ", 
                        "text/plain": "<IPython.core.display.Javascript object>"
                    }
                }, 
                {
                    "output_type": "display_data", 
                    "metadata": {}, 
                    "data": {
                        "application/javascript": "\n                    $(\"#pm_labelc2a4ef11\").text(\"Downloaded 2637824 of 3411524 bytes\");\n                    $(\"#pm_progressc2a4ef11\").attr(\"value\", 77.32);\n                ", 
                        "text/plain": "<IPython.core.display.Javascript object>"
                    }
                }, 
                {
                    "output_type": "display_data", 
                    "metadata": {}, 
                    "data": {
                        "application/javascript": "\n                    $(\"#pm_labelc2a4ef11\").text(\"Downloaded 2646016 of 3411524 bytes\");\n                    $(\"#pm_progressc2a4ef11\").attr(\"value\", 77.56);\n                ", 
                        "text/plain": "<IPython.core.display.Javascript object>"
                    }
                }, 
                {
                    "output_type": "display_data", 
                    "metadata": {}, 
                    "data": {
                        "application/javascript": "\n                    $(\"#pm_labelc2a4ef11\").text(\"Downloaded 2654208 of 3411524 bytes\");\n                    $(\"#pm_progressc2a4ef11\").attr(\"value\", 77.8);\n                ", 
                        "text/plain": "<IPython.core.display.Javascript object>"
                    }
                }, 
                {
                    "output_type": "display_data", 
                    "metadata": {}, 
                    "data": {
                        "application/javascript": "\n                    $(\"#pm_labelc2a4ef11\").text(\"Downloaded 2662400 of 3411524 bytes\");\n                    $(\"#pm_progressc2a4ef11\").attr(\"value\", 78.04);\n                ", 
                        "text/plain": "<IPython.core.display.Javascript object>"
                    }
                }, 
                {
                    "output_type": "display_data", 
                    "metadata": {}, 
                    "data": {
                        "application/javascript": "\n                    $(\"#pm_labelc2a4ef11\").text(\"Downloaded 2670592 of 3411524 bytes\");\n                    $(\"#pm_progressc2a4ef11\").attr(\"value\", 78.28);\n                ", 
                        "text/plain": "<IPython.core.display.Javascript object>"
                    }
                }, 
                {
                    "output_type": "display_data", 
                    "metadata": {}, 
                    "data": {
                        "application/javascript": "\n                    $(\"#pm_labelc2a4ef11\").text(\"Downloaded 2678784 of 3411524 bytes\");\n                    $(\"#pm_progressc2a4ef11\").attr(\"value\", 78.52);\n                ", 
                        "text/plain": "<IPython.core.display.Javascript object>"
                    }
                }, 
                {
                    "output_type": "display_data", 
                    "metadata": {}, 
                    "data": {
                        "application/javascript": "\n                    $(\"#pm_labelc2a4ef11\").text(\"Downloaded 2686976 of 3411524 bytes\");\n                    $(\"#pm_progressc2a4ef11\").attr(\"value\", 78.76);\n                ", 
                        "text/plain": "<IPython.core.display.Javascript object>"
                    }
                }, 
                {
                    "output_type": "display_data", 
                    "metadata": {}, 
                    "data": {
                        "application/javascript": "\n                    $(\"#pm_labelc2a4ef11\").text(\"Downloaded 2695168 of 3411524 bytes\");\n                    $(\"#pm_progressc2a4ef11\").attr(\"value\", 79.0);\n                ", 
                        "text/plain": "<IPython.core.display.Javascript object>"
                    }
                }, 
                {
                    "output_type": "display_data", 
                    "metadata": {}, 
                    "data": {
                        "application/javascript": "\n                    $(\"#pm_labelc2a4ef11\").text(\"Downloaded 2703360 of 3411524 bytes\");\n                    $(\"#pm_progressc2a4ef11\").attr(\"value\", 79.24);\n                ", 
                        "text/plain": "<IPython.core.display.Javascript object>"
                    }
                }, 
                {
                    "output_type": "display_data", 
                    "metadata": {}, 
                    "data": {
                        "application/javascript": "\n                    $(\"#pm_labelc2a4ef11\").text(\"Downloaded 2711552 of 3411524 bytes\");\n                    $(\"#pm_progressc2a4ef11\").attr(\"value\", 79.48);\n                ", 
                        "text/plain": "<IPython.core.display.Javascript object>"
                    }
                }, 
                {
                    "output_type": "display_data", 
                    "metadata": {}, 
                    "data": {
                        "application/javascript": "\n                    $(\"#pm_labelc2a4ef11\").text(\"Downloaded 2719744 of 3411524 bytes\");\n                    $(\"#pm_progressc2a4ef11\").attr(\"value\", 79.72);\n                ", 
                        "text/plain": "<IPython.core.display.Javascript object>"
                    }
                }, 
                {
                    "output_type": "display_data", 
                    "metadata": {}, 
                    "data": {
                        "application/javascript": "\n                    $(\"#pm_labelc2a4ef11\").text(\"Downloaded 2727936 of 3411524 bytes\");\n                    $(\"#pm_progressc2a4ef11\").attr(\"value\", 79.96);\n                ", 
                        "text/plain": "<IPython.core.display.Javascript object>"
                    }
                }, 
                {
                    "output_type": "display_data", 
                    "metadata": {}, 
                    "data": {
                        "application/javascript": "\n                    $(\"#pm_labelc2a4ef11\").text(\"Downloaded 2736128 of 3411524 bytes\");\n                    $(\"#pm_progressc2a4ef11\").attr(\"value\", 80.2);\n                ", 
                        "text/plain": "<IPython.core.display.Javascript object>"
                    }
                }, 
                {
                    "output_type": "display_data", 
                    "metadata": {}, 
                    "data": {
                        "application/javascript": "\n                    $(\"#pm_labelc2a4ef11\").text(\"Downloaded 2744320 of 3411524 bytes\");\n                    $(\"#pm_progressc2a4ef11\").attr(\"value\", 80.44);\n                ", 
                        "text/plain": "<IPython.core.display.Javascript object>"
                    }
                }, 
                {
                    "output_type": "display_data", 
                    "metadata": {}, 
                    "data": {
                        "application/javascript": "\n                    $(\"#pm_labelc2a4ef11\").text(\"Downloaded 2752512 of 3411524 bytes\");\n                    $(\"#pm_progressc2a4ef11\").attr(\"value\", 80.68);\n                ", 
                        "text/plain": "<IPython.core.display.Javascript object>"
                    }
                }, 
                {
                    "output_type": "display_data", 
                    "metadata": {}, 
                    "data": {
                        "application/javascript": "\n                    $(\"#pm_labelc2a4ef11\").text(\"Downloaded 2760704 of 3411524 bytes\");\n                    $(\"#pm_progressc2a4ef11\").attr(\"value\", 80.92);\n                ", 
                        "text/plain": "<IPython.core.display.Javascript object>"
                    }
                }, 
                {
                    "output_type": "display_data", 
                    "metadata": {}, 
                    "data": {
                        "application/javascript": "\n                    $(\"#pm_labelc2a4ef11\").text(\"Downloaded 2768896 of 3411524 bytes\");\n                    $(\"#pm_progressc2a4ef11\").attr(\"value\", 81.16);\n                ", 
                        "text/plain": "<IPython.core.display.Javascript object>"
                    }
                }, 
                {
                    "output_type": "display_data", 
                    "metadata": {}, 
                    "data": {
                        "application/javascript": "\n                    $(\"#pm_labelc2a4ef11\").text(\"Downloaded 2777088 of 3411524 bytes\");\n                    $(\"#pm_progressc2a4ef11\").attr(\"value\", 81.4);\n                ", 
                        "text/plain": "<IPython.core.display.Javascript object>"
                    }
                }, 
                {
                    "output_type": "display_data", 
                    "metadata": {}, 
                    "data": {
                        "application/javascript": "\n                    $(\"#pm_labelc2a4ef11\").text(\"Downloaded 2785280 of 3411524 bytes\");\n                    $(\"#pm_progressc2a4ef11\").attr(\"value\", 81.64);\n                ", 
                        "text/plain": "<IPython.core.display.Javascript object>"
                    }
                }, 
                {
                    "output_type": "display_data", 
                    "metadata": {}, 
                    "data": {
                        "application/javascript": "\n                    $(\"#pm_labelc2a4ef11\").text(\"Downloaded 2793472 of 3411524 bytes\");\n                    $(\"#pm_progressc2a4ef11\").attr(\"value\", 81.88);\n                ", 
                        "text/plain": "<IPython.core.display.Javascript object>"
                    }
                }, 
                {
                    "output_type": "display_data", 
                    "metadata": {}, 
                    "data": {
                        "application/javascript": "\n                    $(\"#pm_labelc2a4ef11\").text(\"Downloaded 2801664 of 3411524 bytes\");\n                    $(\"#pm_progressc2a4ef11\").attr(\"value\", 82.12);\n                ", 
                        "text/plain": "<IPython.core.display.Javascript object>"
                    }
                }, 
                {
                    "output_type": "display_data", 
                    "metadata": {}, 
                    "data": {
                        "application/javascript": "\n                    $(\"#pm_labelc2a4ef11\").text(\"Downloaded 2809856 of 3411524 bytes\");\n                    $(\"#pm_progressc2a4ef11\").attr(\"value\", 82.36);\n                ", 
                        "text/plain": "<IPython.core.display.Javascript object>"
                    }
                }, 
                {
                    "output_type": "display_data", 
                    "metadata": {}, 
                    "data": {
                        "application/javascript": "\n                    $(\"#pm_labelc2a4ef11\").text(\"Downloaded 2818048 of 3411524 bytes\");\n                    $(\"#pm_progressc2a4ef11\").attr(\"value\", 82.6);\n                ", 
                        "text/plain": "<IPython.core.display.Javascript object>"
                    }
                }, 
                {
                    "output_type": "display_data", 
                    "metadata": {}, 
                    "data": {
                        "application/javascript": "\n                    $(\"#pm_labelc2a4ef11\").text(\"Downloaded 2826240 of 3411524 bytes\");\n                    $(\"#pm_progressc2a4ef11\").attr(\"value\", 82.84);\n                ", 
                        "text/plain": "<IPython.core.display.Javascript object>"
                    }
                }, 
                {
                    "output_type": "display_data", 
                    "metadata": {}, 
                    "data": {
                        "application/javascript": "\n                    $(\"#pm_labelc2a4ef11\").text(\"Downloaded 2834432 of 3411524 bytes\");\n                    $(\"#pm_progressc2a4ef11\").attr(\"value\", 83.08);\n                ", 
                        "text/plain": "<IPython.core.display.Javascript object>"
                    }
                }, 
                {
                    "output_type": "display_data", 
                    "metadata": {}, 
                    "data": {
                        "application/javascript": "\n                    $(\"#pm_labelc2a4ef11\").text(\"Downloaded 2842624 of 3411524 bytes\");\n                    $(\"#pm_progressc2a4ef11\").attr(\"value\", 83.32);\n                ", 
                        "text/plain": "<IPython.core.display.Javascript object>"
                    }
                }, 
                {
                    "output_type": "display_data", 
                    "metadata": {}, 
                    "data": {
                        "application/javascript": "\n                    $(\"#pm_labelc2a4ef11\").text(\"Downloaded 2850816 of 3411524 bytes\");\n                    $(\"#pm_progressc2a4ef11\").attr(\"value\", 83.56);\n                ", 
                        "text/plain": "<IPython.core.display.Javascript object>"
                    }
                }, 
                {
                    "output_type": "display_data", 
                    "metadata": {}, 
                    "data": {
                        "application/javascript": "\n                    $(\"#pm_labelc2a4ef11\").text(\"Downloaded 2859008 of 3411524 bytes\");\n                    $(\"#pm_progressc2a4ef11\").attr(\"value\", 83.8);\n                ", 
                        "text/plain": "<IPython.core.display.Javascript object>"
                    }
                }, 
                {
                    "output_type": "display_data", 
                    "metadata": {}, 
                    "data": {
                        "application/javascript": "\n                    $(\"#pm_labelc2a4ef11\").text(\"Downloaded 2867200 of 3411524 bytes\");\n                    $(\"#pm_progressc2a4ef11\").attr(\"value\", 84.04);\n                ", 
                        "text/plain": "<IPython.core.display.Javascript object>"
                    }
                }, 
                {
                    "output_type": "display_data", 
                    "metadata": {}, 
                    "data": {
                        "application/javascript": "\n                    $(\"#pm_labelc2a4ef11\").text(\"Downloaded 2875392 of 3411524 bytes\");\n                    $(\"#pm_progressc2a4ef11\").attr(\"value\", 84.28);\n                ", 
                        "text/plain": "<IPython.core.display.Javascript object>"
                    }
                }, 
                {
                    "output_type": "display_data", 
                    "metadata": {}, 
                    "data": {
                        "application/javascript": "\n                    $(\"#pm_labelc2a4ef11\").text(\"Downloaded 2883584 of 3411524 bytes\");\n                    $(\"#pm_progressc2a4ef11\").attr(\"value\", 84.52);\n                ", 
                        "text/plain": "<IPython.core.display.Javascript object>"
                    }
                }, 
                {
                    "output_type": "display_data", 
                    "metadata": {}, 
                    "data": {
                        "application/javascript": "\n                    $(\"#pm_labelc2a4ef11\").text(\"Downloaded 2891776 of 3411524 bytes\");\n                    $(\"#pm_progressc2a4ef11\").attr(\"value\", 84.76);\n                ", 
                        "text/plain": "<IPython.core.display.Javascript object>"
                    }
                }, 
                {
                    "output_type": "display_data", 
                    "metadata": {}, 
                    "data": {
                        "application/javascript": "\n                    $(\"#pm_labelc2a4ef11\").text(\"Downloaded 2899968 of 3411524 bytes\");\n                    $(\"#pm_progressc2a4ef11\").attr(\"value\", 85.01);\n                ", 
                        "text/plain": "<IPython.core.display.Javascript object>"
                    }
                }, 
                {
                    "output_type": "display_data", 
                    "metadata": {}, 
                    "data": {
                        "application/javascript": "\n                    $(\"#pm_labelc2a4ef11\").text(\"Downloaded 2908160 of 3411524 bytes\");\n                    $(\"#pm_progressc2a4ef11\").attr(\"value\", 85.25);\n                ", 
                        "text/plain": "<IPython.core.display.Javascript object>"
                    }
                }, 
                {
                    "output_type": "display_data", 
                    "metadata": {}, 
                    "data": {
                        "application/javascript": "\n                    $(\"#pm_labelc2a4ef11\").text(\"Downloaded 2916352 of 3411524 bytes\");\n                    $(\"#pm_progressc2a4ef11\").attr(\"value\", 85.49);\n                ", 
                        "text/plain": "<IPython.core.display.Javascript object>"
                    }
                }, 
                {
                    "output_type": "display_data", 
                    "metadata": {}, 
                    "data": {
                        "application/javascript": "\n                    $(\"#pm_labelc2a4ef11\").text(\"Downloaded 2924544 of 3411524 bytes\");\n                    $(\"#pm_progressc2a4ef11\").attr(\"value\", 85.73);\n                ", 
                        "text/plain": "<IPython.core.display.Javascript object>"
                    }
                }, 
                {
                    "output_type": "display_data", 
                    "metadata": {}, 
                    "data": {
                        "application/javascript": "\n                    $(\"#pm_labelc2a4ef11\").text(\"Downloaded 2932736 of 3411524 bytes\");\n                    $(\"#pm_progressc2a4ef11\").attr(\"value\", 85.97);\n                ", 
                        "text/plain": "<IPython.core.display.Javascript object>"
                    }
                }, 
                {
                    "output_type": "display_data", 
                    "metadata": {}, 
                    "data": {
                        "application/javascript": "\n                    $(\"#pm_labelc2a4ef11\").text(\"Downloaded 2940928 of 3411524 bytes\");\n                    $(\"#pm_progressc2a4ef11\").attr(\"value\", 86.21);\n                ", 
                        "text/plain": "<IPython.core.display.Javascript object>"
                    }
                }, 
                {
                    "output_type": "display_data", 
                    "metadata": {}, 
                    "data": {
                        "application/javascript": "\n                    $(\"#pm_labelc2a4ef11\").text(\"Downloaded 2949120 of 3411524 bytes\");\n                    $(\"#pm_progressc2a4ef11\").attr(\"value\", 86.45);\n                ", 
                        "text/plain": "<IPython.core.display.Javascript object>"
                    }
                }, 
                {
                    "output_type": "display_data", 
                    "metadata": {}, 
                    "data": {
                        "application/javascript": "\n                    $(\"#pm_labelc2a4ef11\").text(\"Downloaded 2957312 of 3411524 bytes\");\n                    $(\"#pm_progressc2a4ef11\").attr(\"value\", 86.69);\n                ", 
                        "text/plain": "<IPython.core.display.Javascript object>"
                    }
                }, 
                {
                    "output_type": "display_data", 
                    "metadata": {}, 
                    "data": {
                        "application/javascript": "\n                    $(\"#pm_labelc2a4ef11\").text(\"Downloaded 2965504 of 3411524 bytes\");\n                    $(\"#pm_progressc2a4ef11\").attr(\"value\", 86.93);\n                ", 
                        "text/plain": "<IPython.core.display.Javascript object>"
                    }
                }, 
                {
                    "output_type": "display_data", 
                    "metadata": {}, 
                    "data": {
                        "application/javascript": "\n                    $(\"#pm_labelc2a4ef11\").text(\"Downloaded 2973696 of 3411524 bytes\");\n                    $(\"#pm_progressc2a4ef11\").attr(\"value\", 87.17);\n                ", 
                        "text/plain": "<IPython.core.display.Javascript object>"
                    }
                }, 
                {
                    "output_type": "display_data", 
                    "metadata": {}, 
                    "data": {
                        "application/javascript": "\n                    $(\"#pm_labelc2a4ef11\").text(\"Downloaded 2981888 of 3411524 bytes\");\n                    $(\"#pm_progressc2a4ef11\").attr(\"value\", 87.41);\n                ", 
                        "text/plain": "<IPython.core.display.Javascript object>"
                    }
                }, 
                {
                    "output_type": "display_data", 
                    "metadata": {}, 
                    "data": {
                        "application/javascript": "\n                    $(\"#pm_labelc2a4ef11\").text(\"Downloaded 2990080 of 3411524 bytes\");\n                    $(\"#pm_progressc2a4ef11\").attr(\"value\", 87.65);\n                ", 
                        "text/plain": "<IPython.core.display.Javascript object>"
                    }
                }, 
                {
                    "output_type": "display_data", 
                    "metadata": {}, 
                    "data": {
                        "application/javascript": "\n                    $(\"#pm_labelc2a4ef11\").text(\"Downloaded 2998272 of 3411524 bytes\");\n                    $(\"#pm_progressc2a4ef11\").attr(\"value\", 87.89);\n                ", 
                        "text/plain": "<IPython.core.display.Javascript object>"
                    }
                }, 
                {
                    "output_type": "display_data", 
                    "metadata": {}, 
                    "data": {
                        "application/javascript": "\n                    $(\"#pm_labelc2a4ef11\").text(\"Downloaded 3006464 of 3411524 bytes\");\n                    $(\"#pm_progressc2a4ef11\").attr(\"value\", 88.13);\n                ", 
                        "text/plain": "<IPython.core.display.Javascript object>"
                    }
                }, 
                {
                    "output_type": "display_data", 
                    "metadata": {}, 
                    "data": {
                        "application/javascript": "\n                    $(\"#pm_labelc2a4ef11\").text(\"Downloaded 3014656 of 3411524 bytes\");\n                    $(\"#pm_progressc2a4ef11\").attr(\"value\", 88.37);\n                ", 
                        "text/plain": "<IPython.core.display.Javascript object>"
                    }
                }, 
                {
                    "output_type": "display_data", 
                    "metadata": {}, 
                    "data": {
                        "application/javascript": "\n                    $(\"#pm_labelc2a4ef11\").text(\"Downloaded 3022848 of 3411524 bytes\");\n                    $(\"#pm_progressc2a4ef11\").attr(\"value\", 88.61);\n                ", 
                        "text/plain": "<IPython.core.display.Javascript object>"
                    }
                }, 
                {
                    "output_type": "display_data", 
                    "metadata": {}, 
                    "data": {
                        "application/javascript": "\n                    $(\"#pm_labelc2a4ef11\").text(\"Downloaded 3031040 of 3411524 bytes\");\n                    $(\"#pm_progressc2a4ef11\").attr(\"value\", 88.85);\n                ", 
                        "text/plain": "<IPython.core.display.Javascript object>"
                    }
                }, 
                {
                    "output_type": "display_data", 
                    "metadata": {}, 
                    "data": {
                        "application/javascript": "\n                    $(\"#pm_labelc2a4ef11\").text(\"Downloaded 3039232 of 3411524 bytes\");\n                    $(\"#pm_progressc2a4ef11\").attr(\"value\", 89.09);\n                ", 
                        "text/plain": "<IPython.core.display.Javascript object>"
                    }
                }, 
                {
                    "output_type": "display_data", 
                    "metadata": {}, 
                    "data": {
                        "application/javascript": "\n                    $(\"#pm_labelc2a4ef11\").text(\"Downloaded 3047424 of 3411524 bytes\");\n                    $(\"#pm_progressc2a4ef11\").attr(\"value\", 89.33);\n                ", 
                        "text/plain": "<IPython.core.display.Javascript object>"
                    }
                }, 
                {
                    "output_type": "display_data", 
                    "metadata": {}, 
                    "data": {
                        "application/javascript": "\n                    $(\"#pm_labelc2a4ef11\").text(\"Downloaded 3055616 of 3411524 bytes\");\n                    $(\"#pm_progressc2a4ef11\").attr(\"value\", 89.57);\n                ", 
                        "text/plain": "<IPython.core.display.Javascript object>"
                    }
                }, 
                {
                    "output_type": "display_data", 
                    "metadata": {}, 
                    "data": {
                        "application/javascript": "\n                    $(\"#pm_labelc2a4ef11\").text(\"Downloaded 3063808 of 3411524 bytes\");\n                    $(\"#pm_progressc2a4ef11\").attr(\"value\", 89.81);\n                ", 
                        "text/plain": "<IPython.core.display.Javascript object>"
                    }
                }, 
                {
                    "output_type": "display_data", 
                    "metadata": {}, 
                    "data": {
                        "application/javascript": "\n                    $(\"#pm_labelc2a4ef11\").text(\"Downloaded 3072000 of 3411524 bytes\");\n                    $(\"#pm_progressc2a4ef11\").attr(\"value\", 90.05);\n                ", 
                        "text/plain": "<IPython.core.display.Javascript object>"
                    }
                }, 
                {
                    "output_type": "display_data", 
                    "metadata": {}, 
                    "data": {
                        "application/javascript": "\n                    $(\"#pm_labelc2a4ef11\").text(\"Downloaded 3080192 of 3411524 bytes\");\n                    $(\"#pm_progressc2a4ef11\").attr(\"value\", 90.29);\n                ", 
                        "text/plain": "<IPython.core.display.Javascript object>"
                    }
                }, 
                {
                    "output_type": "display_data", 
                    "metadata": {}, 
                    "data": {
                        "application/javascript": "\n                    $(\"#pm_labelc2a4ef11\").text(\"Downloaded 3088384 of 3411524 bytes\");\n                    $(\"#pm_progressc2a4ef11\").attr(\"value\", 90.53);\n                ", 
                        "text/plain": "<IPython.core.display.Javascript object>"
                    }
                }, 
                {
                    "output_type": "display_data", 
                    "metadata": {}, 
                    "data": {
                        "application/javascript": "\n                    $(\"#pm_labelc2a4ef11\").text(\"Downloaded 3096576 of 3411524 bytes\");\n                    $(\"#pm_progressc2a4ef11\").attr(\"value\", 90.77);\n                ", 
                        "text/plain": "<IPython.core.display.Javascript object>"
                    }
                }, 
                {
                    "output_type": "display_data", 
                    "metadata": {}, 
                    "data": {
                        "application/javascript": "\n                    $(\"#pm_labelc2a4ef11\").text(\"Downloaded 3104768 of 3411524 bytes\");\n                    $(\"#pm_progressc2a4ef11\").attr(\"value\", 91.01);\n                ", 
                        "text/plain": "<IPython.core.display.Javascript object>"
                    }
                }, 
                {
                    "output_type": "display_data", 
                    "metadata": {}, 
                    "data": {
                        "application/javascript": "\n                    $(\"#pm_labelc2a4ef11\").text(\"Downloaded 3112960 of 3411524 bytes\");\n                    $(\"#pm_progressc2a4ef11\").attr(\"value\", 91.25);\n                ", 
                        "text/plain": "<IPython.core.display.Javascript object>"
                    }
                }, 
                {
                    "output_type": "display_data", 
                    "metadata": {}, 
                    "data": {
                        "application/javascript": "\n                    $(\"#pm_labelc2a4ef11\").text(\"Downloaded 3121152 of 3411524 bytes\");\n                    $(\"#pm_progressc2a4ef11\").attr(\"value\", 91.49);\n                ", 
                        "text/plain": "<IPython.core.display.Javascript object>"
                    }
                }, 
                {
                    "output_type": "display_data", 
                    "metadata": {}, 
                    "data": {
                        "application/javascript": "\n                    $(\"#pm_labelc2a4ef11\").text(\"Downloaded 3129344 of 3411524 bytes\");\n                    $(\"#pm_progressc2a4ef11\").attr(\"value\", 91.73);\n                ", 
                        "text/plain": "<IPython.core.display.Javascript object>"
                    }
                }, 
                {
                    "output_type": "display_data", 
                    "metadata": {}, 
                    "data": {
                        "application/javascript": "\n                    $(\"#pm_labelc2a4ef11\").text(\"Downloaded 3137536 of 3411524 bytes\");\n                    $(\"#pm_progressc2a4ef11\").attr(\"value\", 91.97);\n                ", 
                        "text/plain": "<IPython.core.display.Javascript object>"
                    }
                }, 
                {
                    "output_type": "display_data", 
                    "metadata": {}, 
                    "data": {
                        "application/javascript": "\n                    $(\"#pm_labelc2a4ef11\").text(\"Downloaded 3145728 of 3411524 bytes\");\n                    $(\"#pm_progressc2a4ef11\").attr(\"value\", 92.21);\n                ", 
                        "text/plain": "<IPython.core.display.Javascript object>"
                    }
                }, 
                {
                    "output_type": "display_data", 
                    "metadata": {}, 
                    "data": {
                        "application/javascript": "\n                    $(\"#pm_labelc2a4ef11\").text(\"Downloaded 3153920 of 3411524 bytes\");\n                    $(\"#pm_progressc2a4ef11\").attr(\"value\", 92.45);\n                ", 
                        "text/plain": "<IPython.core.display.Javascript object>"
                    }
                }, 
                {
                    "output_type": "display_data", 
                    "metadata": {}, 
                    "data": {
                        "application/javascript": "\n                    $(\"#pm_labelc2a4ef11\").text(\"Downloaded 3162112 of 3411524 bytes\");\n                    $(\"#pm_progressc2a4ef11\").attr(\"value\", 92.69);\n                ", 
                        "text/plain": "<IPython.core.display.Javascript object>"
                    }
                }, 
                {
                    "output_type": "display_data", 
                    "metadata": {}, 
                    "data": {
                        "application/javascript": "\n                    $(\"#pm_labelc2a4ef11\").text(\"Downloaded 3170304 of 3411524 bytes\");\n                    $(\"#pm_progressc2a4ef11\").attr(\"value\", 92.93);\n                ", 
                        "text/plain": "<IPython.core.display.Javascript object>"
                    }
                }, 
                {
                    "output_type": "display_data", 
                    "metadata": {}, 
                    "data": {
                        "application/javascript": "\n                    $(\"#pm_labelc2a4ef11\").text(\"Downloaded 3178496 of 3411524 bytes\");\n                    $(\"#pm_progressc2a4ef11\").attr(\"value\", 93.17);\n                ", 
                        "text/plain": "<IPython.core.display.Javascript object>"
                    }
                }, 
                {
                    "output_type": "display_data", 
                    "metadata": {}, 
                    "data": {
                        "application/javascript": "\n                    $(\"#pm_labelc2a4ef11\").text(\"Downloaded 3186688 of 3411524 bytes\");\n                    $(\"#pm_progressc2a4ef11\").attr(\"value\", 93.41);\n                ", 
                        "text/plain": "<IPython.core.display.Javascript object>"
                    }
                }, 
                {
                    "output_type": "display_data", 
                    "metadata": {}, 
                    "data": {
                        "application/javascript": "\n                    $(\"#pm_labelc2a4ef11\").text(\"Downloaded 3194880 of 3411524 bytes\");\n                    $(\"#pm_progressc2a4ef11\").attr(\"value\", 93.65);\n                ", 
                        "text/plain": "<IPython.core.display.Javascript object>"
                    }
                }, 
                {
                    "output_type": "display_data", 
                    "metadata": {}, 
                    "data": {
                        "application/javascript": "\n                    $(\"#pm_labelc2a4ef11\").text(\"Downloaded 3203072 of 3411524 bytes\");\n                    $(\"#pm_progressc2a4ef11\").attr(\"value\", 93.89);\n                ", 
                        "text/plain": "<IPython.core.display.Javascript object>"
                    }
                }, 
                {
                    "output_type": "display_data", 
                    "metadata": {}, 
                    "data": {
                        "application/javascript": "\n                    $(\"#pm_labelc2a4ef11\").text(\"Downloaded 3211264 of 3411524 bytes\");\n                    $(\"#pm_progressc2a4ef11\").attr(\"value\", 94.13);\n                ", 
                        "text/plain": "<IPython.core.display.Javascript object>"
                    }
                }, 
                {
                    "output_type": "display_data", 
                    "metadata": {}, 
                    "data": {
                        "application/javascript": "\n                    $(\"#pm_labelc2a4ef11\").text(\"Downloaded 3219456 of 3411524 bytes\");\n                    $(\"#pm_progressc2a4ef11\").attr(\"value\", 94.37);\n                ", 
                        "text/plain": "<IPython.core.display.Javascript object>"
                    }
                }, 
                {
                    "output_type": "display_data", 
                    "metadata": {}, 
                    "data": {
                        "application/javascript": "\n                    $(\"#pm_labelc2a4ef11\").text(\"Downloaded 3227648 of 3411524 bytes\");\n                    $(\"#pm_progressc2a4ef11\").attr(\"value\", 94.61);\n                ", 
                        "text/plain": "<IPython.core.display.Javascript object>"
                    }
                }, 
                {
                    "output_type": "display_data", 
                    "metadata": {}, 
                    "data": {
                        "application/javascript": "\n                    $(\"#pm_labelc2a4ef11\").text(\"Downloaded 3235840 of 3411524 bytes\");\n                    $(\"#pm_progressc2a4ef11\").attr(\"value\", 94.85);\n                ", 
                        "text/plain": "<IPython.core.display.Javascript object>"
                    }
                }, 
                {
                    "output_type": "display_data", 
                    "metadata": {}, 
                    "data": {
                        "application/javascript": "\n                    $(\"#pm_labelc2a4ef11\").text(\"Downloaded 3244032 of 3411524 bytes\");\n                    $(\"#pm_progressc2a4ef11\").attr(\"value\", 95.09);\n                ", 
                        "text/plain": "<IPython.core.display.Javascript object>"
                    }
                }, 
                {
                    "output_type": "display_data", 
                    "metadata": {}, 
                    "data": {
                        "application/javascript": "\n                    $(\"#pm_labelc2a4ef11\").text(\"Downloaded 3252224 of 3411524 bytes\");\n                    $(\"#pm_progressc2a4ef11\").attr(\"value\", 95.33);\n                ", 
                        "text/plain": "<IPython.core.display.Javascript object>"
                    }
                }, 
                {
                    "output_type": "display_data", 
                    "metadata": {}, 
                    "data": {
                        "application/javascript": "\n                    $(\"#pm_labelc2a4ef11\").text(\"Downloaded 3260416 of 3411524 bytes\");\n                    $(\"#pm_progressc2a4ef11\").attr(\"value\", 95.57);\n                ", 
                        "text/plain": "<IPython.core.display.Javascript object>"
                    }
                }, 
                {
                    "output_type": "display_data", 
                    "metadata": {}, 
                    "data": {
                        "application/javascript": "\n                    $(\"#pm_labelc2a4ef11\").text(\"Downloaded 3268608 of 3411524 bytes\");\n                    $(\"#pm_progressc2a4ef11\").attr(\"value\", 95.81);\n                ", 
                        "text/plain": "<IPython.core.display.Javascript object>"
                    }
                }, 
                {
                    "output_type": "display_data", 
                    "metadata": {}, 
                    "data": {
                        "application/javascript": "\n                    $(\"#pm_labelc2a4ef11\").text(\"Downloaded 3276800 of 3411524 bytes\");\n                    $(\"#pm_progressc2a4ef11\").attr(\"value\", 96.05);\n                ", 
                        "text/plain": "<IPython.core.display.Javascript object>"
                    }
                }, 
                {
                    "output_type": "display_data", 
                    "metadata": {}, 
                    "data": {
                        "application/javascript": "\n                    $(\"#pm_labelc2a4ef11\").text(\"Downloaded 3284992 of 3411524 bytes\");\n                    $(\"#pm_progressc2a4ef11\").attr(\"value\", 96.29);\n                ", 
                        "text/plain": "<IPython.core.display.Javascript object>"
                    }
                }, 
                {
                    "output_type": "display_data", 
                    "metadata": {}, 
                    "data": {
                        "application/javascript": "\n                    $(\"#pm_labelc2a4ef11\").text(\"Downloaded 3293184 of 3411524 bytes\");\n                    $(\"#pm_progressc2a4ef11\").attr(\"value\", 96.53);\n                ", 
                        "text/plain": "<IPython.core.display.Javascript object>"
                    }
                }, 
                {
                    "output_type": "display_data", 
                    "metadata": {}, 
                    "data": {
                        "application/javascript": "\n                    $(\"#pm_labelc2a4ef11\").text(\"Downloaded 3301376 of 3411524 bytes\");\n                    $(\"#pm_progressc2a4ef11\").attr(\"value\", 96.77);\n                ", 
                        "text/plain": "<IPython.core.display.Javascript object>"
                    }
                }, 
                {
                    "output_type": "display_data", 
                    "metadata": {}, 
                    "data": {
                        "application/javascript": "\n                    $(\"#pm_labelc2a4ef11\").text(\"Downloaded 3309568 of 3411524 bytes\");\n                    $(\"#pm_progressc2a4ef11\").attr(\"value\", 97.01);\n                ", 
                        "text/plain": "<IPython.core.display.Javascript object>"
                    }
                }, 
                {
                    "output_type": "display_data", 
                    "metadata": {}, 
                    "data": {
                        "application/javascript": "\n                    $(\"#pm_labelc2a4ef11\").text(\"Downloaded 3317760 of 3411524 bytes\");\n                    $(\"#pm_progressc2a4ef11\").attr(\"value\", 97.25);\n                ", 
                        "text/plain": "<IPython.core.display.Javascript object>"
                    }
                }, 
                {
                    "output_type": "display_data", 
                    "metadata": {}, 
                    "data": {
                        "application/javascript": "\n                    $(\"#pm_labelc2a4ef11\").text(\"Downloaded 3325952 of 3411524 bytes\");\n                    $(\"#pm_progressc2a4ef11\").attr(\"value\", 97.49);\n                ", 
                        "text/plain": "<IPython.core.display.Javascript object>"
                    }
                }, 
                {
                    "output_type": "display_data", 
                    "metadata": {}, 
                    "data": {
                        "application/javascript": "\n                    $(\"#pm_labelc2a4ef11\").text(\"Downloaded 3334144 of 3411524 bytes\");\n                    $(\"#pm_progressc2a4ef11\").attr(\"value\", 97.73);\n                ", 
                        "text/plain": "<IPython.core.display.Javascript object>"
                    }
                }, 
                {
                    "output_type": "display_data", 
                    "metadata": {}, 
                    "data": {
                        "application/javascript": "\n                    $(\"#pm_labelc2a4ef11\").text(\"Downloaded 3342336 of 3411524 bytes\");\n                    $(\"#pm_progressc2a4ef11\").attr(\"value\", 97.97);\n                ", 
                        "text/plain": "<IPython.core.display.Javascript object>"
                    }
                }, 
                {
                    "output_type": "display_data", 
                    "metadata": {}, 
                    "data": {
                        "application/javascript": "\n                    $(\"#pm_labelc2a4ef11\").text(\"Downloaded 3350528 of 3411524 bytes\");\n                    $(\"#pm_progressc2a4ef11\").attr(\"value\", 98.21);\n                ", 
                        "text/plain": "<IPython.core.display.Javascript object>"
                    }
                }, 
                {
                    "output_type": "display_data", 
                    "metadata": {}, 
                    "data": {
                        "application/javascript": "\n                    $(\"#pm_labelc2a4ef11\").text(\"Downloaded 3358720 of 3411524 bytes\");\n                    $(\"#pm_progressc2a4ef11\").attr(\"value\", 98.45);\n                ", 
                        "text/plain": "<IPython.core.display.Javascript object>"
                    }
                }, 
                {
                    "output_type": "display_data", 
                    "metadata": {}, 
                    "data": {
                        "application/javascript": "\n                    $(\"#pm_labelc2a4ef11\").text(\"Downloaded 3366912 of 3411524 bytes\");\n                    $(\"#pm_progressc2a4ef11\").attr(\"value\", 98.69);\n                ", 
                        "text/plain": "<IPython.core.display.Javascript object>"
                    }
                }, 
                {
                    "output_type": "display_data", 
                    "metadata": {}, 
                    "data": {
                        "application/javascript": "\n                    $(\"#pm_labelc2a4ef11\").text(\"Downloaded 3375104 of 3411524 bytes\");\n                    $(\"#pm_progressc2a4ef11\").attr(\"value\", 98.93);\n                ", 
                        "text/plain": "<IPython.core.display.Javascript object>"
                    }
                }, 
                {
                    "output_type": "display_data", 
                    "metadata": {}, 
                    "data": {
                        "application/javascript": "\n                    $(\"#pm_labelc2a4ef11\").text(\"Downloaded 3383296 of 3411524 bytes\");\n                    $(\"#pm_progressc2a4ef11\").attr(\"value\", 99.17);\n                ", 
                        "text/plain": "<IPython.core.display.Javascript object>"
                    }
                }, 
                {
                    "output_type": "display_data", 
                    "metadata": {}, 
                    "data": {
                        "application/javascript": "\n                    $(\"#pm_labelc2a4ef11\").text(\"Downloaded 3391488 of 3411524 bytes\");\n                    $(\"#pm_progressc2a4ef11\").attr(\"value\", 99.41);\n                ", 
                        "text/plain": "<IPython.core.display.Javascript object>"
                    }
                }, 
                {
                    "output_type": "display_data", 
                    "metadata": {}, 
                    "data": {
                        "application/javascript": "\n                    $(\"#pm_labelc2a4ef11\").text(\"Downloaded 3399680 of 3411524 bytes\");\n                    $(\"#pm_progressc2a4ef11\").attr(\"value\", 99.65);\n                ", 
                        "text/plain": "<IPython.core.display.Javascript object>"
                    }
                }, 
                {
                    "output_type": "display_data", 
                    "metadata": {}, 
                    "data": {
                        "application/javascript": "\n                    $(\"#pm_labelc2a4ef11\").text(\"Downloaded 3407872 of 3411524 bytes\");\n                    $(\"#pm_progressc2a4ef11\").attr(\"value\", 99.89);\n                ", 
                        "text/plain": "<IPython.core.display.Javascript object>"
                    }
                }, 
                {
                    "output_type": "display_data", 
                    "metadata": {}, 
                    "data": {
                        "application/javascript": "\n                    $(\"#pm_labelc2a4ef11\").text(\"Downloaded 3411524 of 3411524 bytes\");\n                    $(\"#pm_progressc2a4ef11\").attr(\"value\", 100.0);\n                ", 
                        "text/plain": "<IPython.core.display.Javascript object>"
                    }
                }, 
                {
                    "output_type": "stream", 
                    "text": "Package file:///usr/local/src/data-connectors-1.4.1/db2jcc4-10.5.0.6.jar downloaded successfully\n\u001b[31mPlease restart Kernel to complete installation of the new package\u001b[0m\nSuccessfully added package file:///usr/local/src/data-connectors-1.4.1/db2jcc4-10.5.0.6.jar\n", 
                    "name": "stdout"
                }, 
                {
                    "output_type": "execute_result", 
                    "execution_count": 3, 
                    "metadata": {}, 
                    "data": {
                        "text/plain": "<pixiedust.packageManager.package.Package at 0x7f1944d60fd0>"
                    }
                }
            ]
        }, 
        {
            "cell_type": "markdown", 
            "source": "<a id=\"Insert-the-database-connection-credentials\"></a>\n## Insert the database connection credentials\n\nClick on the cell below, then on the notebook toolbar, click the box of 1's and 0's, find your database connection and click the __Insert to code__ link under the connection name to have a `credentials_1` dictionary added to the notebook.\n\n<img alt=\"IBM Bluemix.Get started now\" src=\"https://raw.githubusercontent.com/jpatter/DSX/master/Lab-1/images/connections-button.png\" >\n\n__Note__: When this dictionary is inserted, it might have a different name than `credentials_1`.  If so change the dictionary name to `credentials_1` so that the rest of the notebook will work.\n\nConnecting to DB2 Warehouse requires the following information which are provided by the credentials dictionary inserted:\n* Database name \n* Host DNS name or IP address \n* Host port\n* Connection protocol\n* User ID\n* User password\n\nThe information `credentials_1` will be used to build a connection string in a subsequent step.", 
            "metadata": {}
        }, 
        {
            "cell_type": "code", 
            "execution_count": 4, 
            "metadata": {}, 
            "source": "# The code was removed by DSX for sharing.", 
            "outputs": []
        }, 
        {
            "cell_type": "markdown", 
            "source": "<a id=\"Create-the-database-connection\"></a>\n## Create the database connection\n\nThe following code snippet creates a connection string `connection_string`\nand uses the `connection_string` to create a database connection object:\n", 
            "metadata": {}
        }, 
        {
            "cell_type": "code", 
            "execution_count": 5, 
            "metadata": {}, 
            "source": "connection_string='DASHDB;Database={database};Hostname={host};Port=50000;PROTOCOL=TCPIP;UID={username};PWD={password}'.format(**credentials_1)\nidadb = IdaDataBase(dsn=connection_string)", 
            "outputs": []
        }, 
        {
            "cell_type": "markdown", 
            "source": "<a id=\"Use-dataframe-to-read-and-manipulate-tables\"></a>\n## Use a dataframe to read and manipulate tables\n\nYou can now use the connection object `idadb` to query the database:", 
            "metadata": {}
        }, 
        {
            "cell_type": "code", 
            "execution_count": 6, 
            "metadata": {}, 
            "source": "df = idadb.show_tables(show_all = True)\ndf.head(10)", 
            "outputs": [
                {
                    "output_type": "execute_result", 
                    "execution_count": 6, 
                    "metadata": {}, 
                    "data": {
                        "text/html": "<div>\n<table border=\"1\" class=\"dataframe\">\n  <thead>\n    <tr style=\"text-align: right;\">\n      <th></th>\n      <th>TABSCHEMA</th>\n      <th>TABNAME</th>\n      <th>OWNER</th>\n      <th>TYPE</th>\n    </tr>\n  </thead>\n  <tbody>\n    <tr>\n      <th>0</th>\n      <td>DASH6318</td>\n      <td>FEMALE_HUMAN_TRAFFICKING</td>\n      <td>DASH6318</td>\n      <td>T</td>\n    </tr>\n    <tr>\n      <th>1</th>\n      <td>GOSALES</td>\n      <td>BRANCH</td>\n      <td>DB2INST1</td>\n      <td>T</td>\n    </tr>\n    <tr>\n      <th>2</th>\n      <td>GOSALES</td>\n      <td>CONVERSION_RATE</td>\n      <td>DB2INST1</td>\n      <td>T</td>\n    </tr>\n    <tr>\n      <th>3</th>\n      <td>GOSALES</td>\n      <td>COUNTRY</td>\n      <td>DB2INST1</td>\n      <td>T</td>\n    </tr>\n    <tr>\n      <th>4</th>\n      <td>GOSALES</td>\n      <td>CURRENCY_LOOKUP</td>\n      <td>DB2INST1</td>\n      <td>T</td>\n    </tr>\n    <tr>\n      <th>5</th>\n      <td>GOSALES</td>\n      <td>EURO_CONVERSION</td>\n      <td>DB2INST1</td>\n      <td>T</td>\n    </tr>\n    <tr>\n      <th>6</th>\n      <td>GOSALES</td>\n      <td>INVENTORY_LEVELS</td>\n      <td>DB2INST1</td>\n      <td>T</td>\n    </tr>\n    <tr>\n      <th>7</th>\n      <td>GOSALES</td>\n      <td>ORDER_DETAILS</td>\n      <td>DB2INST1</td>\n      <td>T</td>\n    </tr>\n    <tr>\n      <th>8</th>\n      <td>GOSALES</td>\n      <td>ORDER_HEADER</td>\n      <td>DB2INST1</td>\n      <td>T</td>\n    </tr>\n    <tr>\n      <th>9</th>\n      <td>GOSALES</td>\n      <td>ORDER_METHOD</td>\n      <td>DB2INST1</td>\n      <td>T</td>\n    </tr>\n  </tbody>\n</table>\n</div>", 
                        "text/plain": "  TABSCHEMA                   TABNAME     OWNER TYPE\n0  DASH6318  FEMALE_HUMAN_TRAFFICKING  DASH6318    T\n1   GOSALES                    BRANCH  DB2INST1    T\n2   GOSALES           CONVERSION_RATE  DB2INST1    T\n3   GOSALES                   COUNTRY  DB2INST1    T\n4   GOSALES           CURRENCY_LOOKUP  DB2INST1    T\n5   GOSALES           EURO_CONVERSION  DB2INST1    T\n6   GOSALES          INVENTORY_LEVELS  DB2INST1    T\n7   GOSALES             ORDER_DETAILS  DB2INST1    T\n8   GOSALES              ORDER_HEADER  DB2INST1    T\n9   GOSALES              ORDER_METHOD  DB2INST1    T"
                    }
                }
            ]
        }, 
        {
            "cell_type": "code", 
            "execution_count": 7, 
            "metadata": {}, 
            "source": "idadb.exists_table_or_view('GOSALESDW.EMP_EXPENSE_FACT')", 
            "outputs": [
                {
                    "output_type": "execute_result", 
                    "execution_count": 7, 
                    "metadata": {}, 
                    "data": {
                        "text/plain": "True"
                    }
                }
            ]
        }, 
        {
            "cell_type": "markdown", 
            "source": "Using our previously opened IdaDataBase instance named \u2018idadb\u2019, we can open one or several IdaDataFrame objects. They behave like pointers to remote tables.\n\nLet us open the *EMP_EXPENSE_FACT* data set, assuming it is stored in the database under the name \u2018GOSALESDW.EMP_EXPENSE_FACT\u2019. The following cell assigns the dataset to a IdaDataFrame.   IdaDataFrame copies the Pandas interface for DataFrame objects to ensure intuitive interaction for end-users.\n\nThe [Pandas data analysis library](http://pandas.pydata.org/) provides high-performance, easy-to-use data structures and data analysis tools for the Python programming language. Pandas allows easy processing and manipulation of tabular data, so it is a perfect fit for data extracted from relational databases.\n", 
            "metadata": {}
        }, 
        {
            "cell_type": "code", 
            "execution_count": 8, 
            "metadata": {}, 
            "source": "idadf = IdaDataFrame(idadb, 'GOSALESDW.EMP_EXPENSE_FACT')", 
            "outputs": []
        }, 
        {
            "cell_type": "markdown", 
            "source": "### Automatic creation of dataframes for tables<br>\n<div class=\"panel-group\" id=\"accordion-1\">\n  <div class=\"panel panel-default\">\n    <div class=\"panel-heading\">\n      <h4 class=\"panel-title\"><a data-toggle=\"collapse\" data-parent=\"#accordion-1\" href=\"#collapse1-1\">Optional Advanced:</a></h4>\n    </div>\n    <div id=\"collapse1-1\" class=\"panel-collapse collapse\">\n      <div class=\"panel-body\">\nTry adding the IdaDataFrame for the table in question from the Connections view -- do all the following commands still work?<br><br>\nTo add the dataframe, select the \"Find and Add Data\" icon (the one with 0 and 1s), select Connections, then \"Insert to code\" for the dataframe.    You will have to select the schema and table to use.\n\n      </div>\n    </div>\n  </div>\n</div>", 
            "metadata": {}
        }, 
        {
            "cell_type": "code", 
            "execution_count": 9, 
            "metadata": {}, 
            "source": "# The code was removed by DSX for sharing.", 
            "outputs": [
                {
                    "output_type": "execute_result", 
                    "execution_count": 9, 
                    "metadata": {}, 
                    "data": {
                        "text/html": "<div>\n<table border=\"1\" class=\"dataframe\">\n  <thead>\n    <tr style=\"text-align: right;\">\n      <th></th>\n      <th>INTERNAL_ID</th>\n      <th>VETTING_LEVEL</th>\n      <th>DESCRIPTION</th>\n      <th>VETTING_LEVEL_PREDICTION</th>\n      <th>ALGORITHM_NAME</th>\n      <th>NAME</th>\n      <th>GENDER</th>\n      <th>BIRTH_DATE</th>\n      <th>BIRTH_COUNTRY</th>\n      <th>BIRTH_COUNTRY_CODE</th>\n      <th>...</th>\n      <th>ARRIVAL_AIRPORT_COUNTRY_CODE</th>\n      <th>ARRIVAL_AIRPORT_IATA</th>\n      <th>ARRIVAL_AIRPORT_MUNICIPALITY</th>\n      <th>ARRIVAL_AIRPORT_REGION</th>\n      <th>DEPARTURE_AIRPORT_COUNTRY_CODE</th>\n      <th>DEPARTURE_AIRPORT_IATA</th>\n      <th>DEPARTURE_AIRPORT_MUNICIPALITY</th>\n      <th>DEPARTURE_AIRPORT_REGION</th>\n      <th>UUID</th>\n      <th>AGE</th>\n    </tr>\n  </thead>\n  <tbody>\n    <tr>\n      <th>0</th>\n      <td>1</td>\n      <td>100</td>\n      <td>NA</td>\n      <td>30</td>\n      <td>DECISION_TREE</td>\n      <td>Kathleen Bailey</td>\n      <td>F</td>\n      <td>1985-11-27</td>\n      <td>Ghana</td>\n      <td>GH</td>\n      <td>...</td>\n      <td>US</td>\n      <td>BMI</td>\n      <td>Bloomington/Normal</td>\n      <td>US-IL</td>\n      <td>AE</td>\n      <td>AUH</td>\n      <td>Abu Dhabi</td>\n      <td>AE-AZ</td>\n      <td>81d28245-a6d4-40e3-bac0-df61cc6625ce</td>\n      <td>31</td>\n    </tr>\n    <tr>\n      <th>1</th>\n      <td>2</td>\n      <td>30</td>\n      <td>NA</td>\n      <td>30</td>\n      <td>DECISION_TREE</td>\n      <td>Kelly Robbins</td>\n      <td>F</td>\n      <td>1971-01-17</td>\n      <td>Pakistan</td>\n      <td>PK</td>\n      <td>...</td>\n      <td>US</td>\n      <td>CLE</td>\n      <td>Cleveland</td>\n      <td>US-OH</td>\n      <td>UA</td>\n      <td>KBP</td>\n      <td>Kiev</td>\n      <td>UA-32</td>\n      <td>b4d817b3-2154-4351-b0e3-bcd736a76bf5</td>\n      <td>46</td>\n    </tr>\n    <tr>\n      <th>2</th>\n      <td>3</td>\n      <td>100</td>\n      <td>NA</td>\n      <td>30</td>\n      <td>DECISION_TREE</td>\n      <td>Linda Stewart</td>\n      <td>F</td>\n      <td>1997-04-15</td>\n      <td>Ghana</td>\n      <td>GH</td>\n      <td>...</td>\n      <td>US</td>\n      <td>TPA</td>\n      <td>Tampa</td>\n      <td>US-FL</td>\n      <td>RU</td>\n      <td>KJA</td>\n      <td>Krasnoyarsk</td>\n      <td>RU-KYA</td>\n      <td>a52a6477-1f5e-4b09-a5e3-f76333a7eb10</td>\n      <td>19</td>\n    </tr>\n    <tr>\n      <th>3</th>\n      <td>4</td>\n      <td>100</td>\n      <td>NA</td>\n      <td>30</td>\n      <td>DECISION_TREE</td>\n      <td>Stacey Courtney Gonzalez</td>\n      <td>F</td>\n      <td>1984-03-27</td>\n      <td>Ghana</td>\n      <td>GH</td>\n      <td>...</td>\n      <td>US</td>\n      <td>TOL</td>\n      <td>Toledo</td>\n      <td>US-OH</td>\n      <td>RU</td>\n      <td>AER</td>\n      <td>Sochi</td>\n      <td>RU-KDA</td>\n      <td>5fcbbf15-8268-4306-ac26-406c2faae251</td>\n      <td>32</td>\n    </tr>\n    <tr>\n      <th>4</th>\n      <td>5</td>\n      <td>30</td>\n      <td>NA</td>\n      <td>30</td>\n      <td>DECISION_TREE</td>\n      <td>Erika Patie Fowler</td>\n      <td>F</td>\n      <td>1998-06-18</td>\n      <td>Ghana</td>\n      <td>GH</td>\n      <td>...</td>\n      <td>US</td>\n      <td>FWA</td>\n      <td>Fort Wayne</td>\n      <td>US-IN</td>\n      <td>IE</td>\n      <td>ORK</td>\n      <td>Cork</td>\n      <td>IE-C</td>\n      <td>6d1fe59a-6828-4bc5-9ded-2194aa238461</td>\n      <td>18</td>\n    </tr>\n  </tbody>\n</table>\n<p>5 rows \u00d7 28 columns</p>\n</div>", 
                        "text/plain": "   INTERNAL_ID  VETTING_LEVEL DESCRIPTION  VETTING_LEVEL_PREDICTION  \\\n0            1            100          NA                        30   \n1            2             30          NA                        30   \n2            3            100          NA                        30   \n3            4            100          NA                        30   \n4            5             30          NA                        30   \n\n  ALGORITHM_NAME                      NAME GENDER  BIRTH_DATE BIRTH_COUNTRY  \\\n0  DECISION_TREE           Kathleen Bailey      F  1985-11-27         Ghana   \n1  DECISION_TREE             Kelly Robbins      F  1971-01-17      Pakistan   \n2  DECISION_TREE             Linda Stewart      F  1997-04-15         Ghana   \n3  DECISION_TREE  Stacey Courtney Gonzalez      F  1984-03-27         Ghana   \n4  DECISION_TREE        Erika Patie Fowler      F  1998-06-18         Ghana   \n\n  BIRTH_COUNTRY_CODE ... ARRIVAL_AIRPORT_COUNTRY_CODE ARRIVAL_AIRPORT_IATA  \\\n0                 GH ...                           US                  BMI   \n1                 PK ...                           US                  CLE   \n2                 GH ...                           US                  TPA   \n3                 GH ...                           US                  TOL   \n4                 GH ...                           US                  FWA   \n\n  ARRIVAL_AIRPORT_MUNICIPALITY  ARRIVAL_AIRPORT_REGION  \\\n0           Bloomington/Normal                   US-IL   \n1                    Cleveland                   US-OH   \n2                        Tampa                   US-FL   \n3                       Toledo                   US-OH   \n4                   Fort Wayne                   US-IN   \n\n  DEPARTURE_AIRPORT_COUNTRY_CODE DEPARTURE_AIRPORT_IATA  \\\n0                             AE                    AUH   \n1                             UA                    KBP   \n2                             RU                    KJA   \n3                             RU                    AER   \n4                             IE                    ORK   \n\n  DEPARTURE_AIRPORT_MUNICIPALITY  DEPARTURE_AIRPORT_REGION  \\\n0                      Abu Dhabi                     AE-AZ   \n1                           Kiev                     UA-32   \n2                    Krasnoyarsk                    RU-KYA   \n3                          Sochi                    RU-KDA   \n4                           Cork                      IE-C   \n\n                                   UUID AGE  \n0  81d28245-a6d4-40e3-bac0-df61cc6625ce  31  \n1  b4d817b3-2154-4351-b0e3-bcd736a76bf5  46  \n2  a52a6477-1f5e-4b09-a5e3-f76333a7eb10  19  \n3  5fcbbf15-8268-4306-ac26-406c2faae251  32  \n4  6d1fe59a-6828-4bc5-9ded-2194aa238461  18  \n\n[5 rows x 28 columns]"
                    }
                }
            ]
        }, 
        {
            "cell_type": "code", 
            "execution_count": 10, 
            "metadata": {}, 
            "source": "idadf.dtypes", 
            "outputs": [
                {
                    "output_type": "execute_result", 
                    "execution_count": 10, 
                    "metadata": {}, 
                    "data": {
                        "text/html": "<div>\n<table border=\"1\" class=\"dataframe\">\n  <thead>\n    <tr style=\"text-align: right;\">\n      <th></th>\n      <th>TYPENAME</th>\n    </tr>\n  </thead>\n  <tbody>\n    <tr>\n      <th>DAY_KEY</th>\n      <td>INTEGER</td>\n    </tr>\n    <tr>\n      <th>ORGANIZATION_KEY</th>\n      <td>INTEGER</td>\n    </tr>\n    <tr>\n      <th>POSITION_KEY</th>\n      <td>INTEGER</td>\n    </tr>\n    <tr>\n      <th>EMPLOYEE_KEY</th>\n      <td>INTEGER</td>\n    </tr>\n    <tr>\n      <th>EXPENSE_TYPE_KEY</th>\n      <td>INTEGER</td>\n    </tr>\n    <tr>\n      <th>ACCOUNT_KEY</th>\n      <td>INTEGER</td>\n    </tr>\n    <tr>\n      <th>EXPENSE_UNIT_QUANTITY</th>\n      <td>DOUBLE</td>\n    </tr>\n    <tr>\n      <th>EXPENSE_TOTAL</th>\n      <td>DECIMAL</td>\n    </tr>\n  </tbody>\n</table>\n</div>", 
                        "text/plain": "                      TYPENAME\nDAY_KEY                INTEGER\nORGANIZATION_KEY       INTEGER\nPOSITION_KEY           INTEGER\nEMPLOYEE_KEY           INTEGER\nEXPENSE_TYPE_KEY       INTEGER\nACCOUNT_KEY            INTEGER\nEXPENSE_UNIT_QUANTITY   DOUBLE\nEXPENSE_TOTAL          DECIMAL"
                    }
                }
            ]
        }, 
        {
            "cell_type": "markdown", 
            "source": "You can very easily explore the data in the IdaDataFrame by using built in functions.\n\nUse IdaDataFrame.head to get the first n records of your data set (default 5):", 
            "metadata": {}
        }, 
        {
            "cell_type": "code", 
            "execution_count": 11, 
            "metadata": {}, 
            "source": "idadf.head()", 
            "outputs": [
                {
                    "output_type": "execute_result", 
                    "execution_count": 11, 
                    "metadata": {}, 
                    "data": {
                        "text/html": "<div>\n<table border=\"1\" class=\"dataframe\">\n  <thead>\n    <tr style=\"text-align: right;\">\n      <th></th>\n      <th>DAY_KEY</th>\n      <th>ORGANIZATION_KEY</th>\n      <th>POSITION_KEY</th>\n      <th>EMPLOYEE_KEY</th>\n      <th>EXPENSE_TYPE_KEY</th>\n      <th>ACCOUNT_KEY</th>\n      <th>EXPENSE_UNIT_QUANTITY</th>\n      <th>EXPENSE_TOTAL</th>\n    </tr>\n  </thead>\n  <tbody>\n    <tr>\n      <th>0</th>\n      <td>20100131</td>\n      <td>11199</td>\n      <td>43611</td>\n      <td>4499</td>\n      <td>2131</td>\n      <td>8049</td>\n      <td>112.50</td>\n      <td>2163.46</td>\n    </tr>\n    <tr>\n      <th>1</th>\n      <td>20100131</td>\n      <td>11199</td>\n      <td>43611</td>\n      <td>4499</td>\n      <td>2104</td>\n      <td>8050</td>\n      <td>52.50</td>\n      <td>1009.62</td>\n    </tr>\n    <tr>\n      <th>2</th>\n      <td>20100131</td>\n      <td>11199</td>\n      <td>43611</td>\n      <td>4499</td>\n      <td>2120</td>\n      <td>8052</td>\n      <td>0.08</td>\n      <td>253.85</td>\n    </tr>\n    <tr>\n      <th>3</th>\n      <td>20100131</td>\n      <td>11199</td>\n      <td>43611</td>\n      <td>4499</td>\n      <td>2122</td>\n      <td>8054</td>\n      <td>0.11</td>\n      <td>349.04</td>\n    </tr>\n    <tr>\n      <th>4</th>\n      <td>20100131</td>\n      <td>11199</td>\n      <td>43611</td>\n      <td>4499</td>\n      <td>2124</td>\n      <td>8056</td>\n      <td>0.03</td>\n      <td>95.19</td>\n    </tr>\n  </tbody>\n</table>\n</div>", 
                        "text/plain": "    DAY_KEY  ORGANIZATION_KEY  POSITION_KEY  EMPLOYEE_KEY  EXPENSE_TYPE_KEY  \\\n0  20100131             11199         43611          4499              2131   \n1  20100131             11199         43611          4499              2104   \n2  20100131             11199         43611          4499              2120   \n3  20100131             11199         43611          4499              2122   \n4  20100131             11199         43611          4499              2124   \n\n   ACCOUNT_KEY  EXPENSE_UNIT_QUANTITY  EXPENSE_TOTAL  \n0         8049                 112.50        2163.46  \n1         8050                  52.50        1009.62  \n2         8052                   0.08         253.85  \n3         8054                   0.11         349.04  \n4         8056                   0.03          95.19  "
                    }
                }
            ]
        }, 
        {
            "cell_type": "markdown", 
            "source": "Use IdaDataFrame.tail to get the last n records of your data set (default 5) -- try running this multiple times:", 
            "metadata": {}
        }, 
        {
            "cell_type": "code", 
            "execution_count": 12, 
            "metadata": {
                "scrolled": true
            }, 
            "source": "idadf.tail(10)", 
            "outputs": [
                {
                    "output_type": "execute_result", 
                    "execution_count": 12, 
                    "metadata": {}, 
                    "data": {
                        "text/html": "<div>\n<table border=\"1\" class=\"dataframe\">\n  <thead>\n    <tr style=\"text-align: right;\">\n      <th></th>\n      <th>DAY_KEY</th>\n      <th>ORGANIZATION_KEY</th>\n      <th>POSITION_KEY</th>\n      <th>EMPLOYEE_KEY</th>\n      <th>EXPENSE_TYPE_KEY</th>\n      <th>ACCOUNT_KEY</th>\n      <th>EXPENSE_UNIT_QUANTITY</th>\n      <th>EXPENSE_TOTAL</th>\n    </tr>\n  </thead>\n  <tbody>\n    <tr>\n      <th>127974</th>\n      <td>20130731</td>\n      <td>11182</td>\n      <td>43632</td>\n      <td>4650</td>\n      <td>2120</td>\n      <td>8052</td>\n      <td>0.08</td>\n      <td>316.41</td>\n    </tr>\n    <tr>\n      <th>127975</th>\n      <td>20130731</td>\n      <td>11182</td>\n      <td>43632</td>\n      <td>4650</td>\n      <td>2122</td>\n      <td>8054</td>\n      <td>0.11</td>\n      <td>435.06</td>\n    </tr>\n    <tr>\n      <th>127976</th>\n      <td>20130731</td>\n      <td>11182</td>\n      <td>43632</td>\n      <td>4650</td>\n      <td>2124</td>\n      <td>8056</td>\n      <td>0.03</td>\n      <td>118.65</td>\n    </tr>\n    <tr>\n      <th>127977</th>\n      <td>20130731</td>\n      <td>11182</td>\n      <td>43632</td>\n      <td>4650</td>\n      <td>2131</td>\n      <td>8049</td>\n      <td>127.50</td>\n      <td>3056.23</td>\n    </tr>\n    <tr>\n      <th>127978</th>\n      <td>20130731</td>\n      <td>11143</td>\n      <td>43604</td>\n      <td>4934</td>\n      <td>2104</td>\n      <td>8050</td>\n      <td>30.00</td>\n      <td>2335.66</td>\n    </tr>\n    <tr>\n      <th>127979</th>\n      <td>20130731</td>\n      <td>11143</td>\n      <td>43604</td>\n      <td>4934</td>\n      <td>2120</td>\n      <td>8052</td>\n      <td>0.08</td>\n      <td>1027.69</td>\n    </tr>\n    <tr>\n      <th>127980</th>\n      <td>20130731</td>\n      <td>11143</td>\n      <td>43604</td>\n      <td>4934</td>\n      <td>2122</td>\n      <td>8054</td>\n      <td>0.11</td>\n      <td>1413.08</td>\n    </tr>\n    <tr>\n      <th>127981</th>\n      <td>20130731</td>\n      <td>11143</td>\n      <td>43604</td>\n      <td>4934</td>\n      <td>2124</td>\n      <td>8056</td>\n      <td>0.03</td>\n      <td>385.38</td>\n    </tr>\n    <tr>\n      <th>127982</th>\n      <td>20130731</td>\n      <td>11143</td>\n      <td>43604</td>\n      <td>4934</td>\n      <td>2131</td>\n      <td>8049</td>\n      <td>135.00</td>\n      <td>10510.49</td>\n    </tr>\n    <tr>\n      <th>127983</th>\n      <td>20130731</td>\n      <td>11143</td>\n      <td>43604</td>\n      <td>4934</td>\n      <td>2134</td>\n      <td>8050</td>\n      <td>37.50</td>\n      <td>13500.00</td>\n    </tr>\n  </tbody>\n</table>\n</div>", 
                        "text/plain": "         DAY_KEY  ORGANIZATION_KEY  POSITION_KEY  EMPLOYEE_KEY  \\\n127974  20130731             11182         43632          4650   \n127975  20130731             11182         43632          4650   \n127976  20130731             11182         43632          4650   \n127977  20130731             11182         43632          4650   \n127978  20130731             11143         43604          4934   \n127979  20130731             11143         43604          4934   \n127980  20130731             11143         43604          4934   \n127981  20130731             11143         43604          4934   \n127982  20130731             11143         43604          4934   \n127983  20130731             11143         43604          4934   \n\n        EXPENSE_TYPE_KEY  ACCOUNT_KEY  EXPENSE_UNIT_QUANTITY  EXPENSE_TOTAL  \n127974              2120         8052                   0.08         316.41  \n127975              2122         8054                   0.11         435.06  \n127976              2124         8056                   0.03         118.65  \n127977              2131         8049                 127.50        3056.23  \n127978              2104         8050                  30.00        2335.66  \n127979              2120         8052                   0.08        1027.69  \n127980              2122         8054                   0.11        1413.08  \n127981              2124         8056                   0.03         385.38  \n127982              2131         8049                 135.00       10510.49  \n127983              2134         8050                  37.50       13500.00  "
                    }
                }
            ]
        }, 
        {
            "cell_type": "markdown", 
            "source": "__Note__: Because DB2 Warehouse operates on a distributed system, the order of rows using IdaDataFrame.head and IdaDataFrame.tail is not guaranteed unless the table is sorted (using an \u2018ORDER BY\u2019 clause) or a column is declared as index for the IdaDataFrame (parameter/attribute indexer).\n\nIdaDataFrame also implements most attributes that are available in a pandas DataFrame, here is an example of getting the _shape_ of the data frame (rows, columns):", 
            "metadata": {}
        }, 
        {
            "cell_type": "code", 
            "execution_count": 13, 
            "metadata": {}, 
            "source": "idadf.shape", 
            "outputs": [
                {
                    "output_type": "execute_result", 
                    "execution_count": 13, 
                    "metadata": {}, 
                    "data": {
                        "text/plain": "(127984, 8)"
                    }
                }
            ]
        }, 
        {
            "cell_type": "code", 
            "execution_count": 14, 
            "metadata": {}, 
            "source": "idadf.columns", 
            "outputs": [
                {
                    "output_type": "execute_result", 
                    "execution_count": 14, 
                    "metadata": {}, 
                    "data": {
                        "text/plain": "Index(['DAY_KEY', 'ORGANIZATION_KEY', 'POSITION_KEY', 'EMPLOYEE_KEY',\n       'EXPENSE_TYPE_KEY', 'ACCOUNT_KEY', 'EXPENSE_UNIT_QUANTITY',\n       'EXPENSE_TOTAL'],\n      dtype='object')"
                    }
                }
            ]
        }, 
        {
            "cell_type": "markdown", 
            "source": "Several standard statistics functions from the pandas interface are also available for IdaDataFrame.  You can use the __TAB__ key after the `.` to see the methods and attributes available in an object in a pulldown menu. \n\nFor example, let us calculate various summary statistics for the data set by using the `describe()` method for the IdaDataFrame instance:", 
            "metadata": {}
        }, 
        {
            "cell_type": "code", 
            "execution_count": 15, 
            "metadata": {
                "scrolled": true
            }, 
            "source": "idadf.describe()", 
            "outputs": [
                {
                    "output_type": "execute_result", 
                    "execution_count": 15, 
                    "metadata": {}, 
                    "data": {
                        "text/html": "<div>\n<table border=\"1\" class=\"dataframe\">\n  <thead>\n    <tr style=\"text-align: right;\">\n      <th></th>\n      <th>DAY_KEY</th>\n      <th>ORGANIZATION_KEY</th>\n      <th>POSITION_KEY</th>\n      <th>EMPLOYEE_KEY</th>\n      <th>EXPENSE_TYPE_KEY</th>\n      <th>ACCOUNT_KEY</th>\n      <th>EXPENSE_UNIT_QUANTITY</th>\n      <th>EXPENSE_TOTAL</th>\n    </tr>\n  </thead>\n  <tbody>\n    <tr>\n      <th>count</th>\n      <td>1.279840e+05</td>\n      <td>127984.000000</td>\n      <td>127984.000000</td>\n      <td>127984.000000</td>\n      <td>127984.000000</td>\n      <td>127984.000000</td>\n      <td>127984.000000</td>\n      <td>127984.000000</td>\n    </tr>\n    <tr>\n      <th>mean</th>\n      <td>2.011514e+07</td>\n      <td>11157.820524</td>\n      <td>43627.441797</td>\n      <td>4489.672811</td>\n      <td>2120.315289</td>\n      <td>8052.091636</td>\n      <td>31.291244</td>\n      <td>1318.107960</td>\n    </tr>\n    <tr>\n      <th>std</th>\n      <td>1.036554e+04</td>\n      <td>31.272648</td>\n      <td>12.175158</td>\n      <td>298.987628</td>\n      <td>9.386336</td>\n      <td>2.532779</td>\n      <td>57.717638</td>\n      <td>2078.720318</td>\n    </tr>\n    <tr>\n      <th>min</th>\n      <td>2.010013e+07</td>\n      <td>11101.000000</td>\n      <td>43601.000000</td>\n      <td>4001.000000</td>\n      <td>2101.000000</td>\n      <td>8049.000000</td>\n      <td>-15.000000</td>\n      <td>-658.010000</td>\n    </tr>\n    <tr>\n      <th>25%</th>\n      <td>2.011013e+07</td>\n      <td>11131.000000</td>\n      <td>43617.000000</td>\n      <td>4216.000000</td>\n      <td>2120.000000</td>\n      <td>8050.000000</td>\n      <td>0.080000</td>\n      <td>211.280000</td>\n    </tr>\n    <tr>\n      <th>50%</th>\n      <td>2.011123e+07</td>\n      <td>11166.000000</td>\n      <td>43630.000000</td>\n      <td>4480.000000</td>\n      <td>2122.000000</td>\n      <td>8052.000000</td>\n      <td>0.110000</td>\n      <td>438.045000</td>\n    </tr>\n    <tr>\n      <th>75%</th>\n      <td>2.012103e+07</td>\n      <td>11182.000000</td>\n      <td>43637.000000</td>\n      <td>4763.000000</td>\n      <td>2124.000000</td>\n      <td>8054.000000</td>\n      <td>16.250000</td>\n      <td>1598.345000</td>\n    </tr>\n    <tr>\n      <th>max</th>\n      <td>2.013073e+07</td>\n      <td>11204.000000</td>\n      <td>43656.000000</td>\n      <td>4972.000000</td>\n      <td>2137.000000</td>\n      <td>8056.000000</td>\n      <td>172.500000</td>\n      <td>28776.920000</td>\n    </tr>\n  </tbody>\n</table>\n</div>", 
                        "text/plain": "            DAY_KEY  ORGANIZATION_KEY   POSITION_KEY   EMPLOYEE_KEY  \\\ncount  1.279840e+05     127984.000000  127984.000000  127984.000000   \nmean   2.011514e+07      11157.820524   43627.441797    4489.672811   \nstd    1.036554e+04         31.272648      12.175158     298.987628   \nmin    2.010013e+07      11101.000000   43601.000000    4001.000000   \n25%    2.011013e+07      11131.000000   43617.000000    4216.000000   \n50%    2.011123e+07      11166.000000   43630.000000    4480.000000   \n75%    2.012103e+07      11182.000000   43637.000000    4763.000000   \nmax    2.013073e+07      11204.000000   43656.000000    4972.000000   \n\n       EXPENSE_TYPE_KEY    ACCOUNT_KEY  EXPENSE_UNIT_QUANTITY  EXPENSE_TOTAL  \ncount     127984.000000  127984.000000          127984.000000  127984.000000  \nmean        2120.315289    8052.091636              31.291244    1318.107960  \nstd            9.386336       2.532779              57.717638    2078.720318  \nmin         2101.000000    8049.000000             -15.000000    -658.010000  \n25%         2120.000000    8050.000000               0.080000     211.280000  \n50%         2122.000000    8052.000000               0.110000     438.045000  \n75%         2124.000000    8054.000000              16.250000    1598.345000  \nmax         2137.000000    8056.000000             172.500000   28776.920000  "
                    }
                }
            ]
        }, 
        {
            "cell_type": "markdown", 
            "source": "__Note__: It is possible to subset the rows of an IdaDataFrame by accessing the IdaDataFrame with a slice object. You can also use the IdaDataFrame.loc attribute, which contains an ibmdbpy.Loc object. However, the row selection might be inaccurate if the current IdaDataFrame is not sorted or does not contain an indexer. This is due to the fact that DB2 Warehouse stores the data across several nodes if available. Moreover, because DB2 Warehouse is by default a column oriented database, row numbers are undefined:", 
            "metadata": {}
        }, 
        {
            "cell_type": "code", 
            "execution_count": 16, 
            "metadata": {
                "scrolled": true
            }, 
            "source": "idadf_new = idadf[0:9] # Select the first 10 rows\nidadf_new.head(10)", 
            "outputs": [
                {
                    "output_type": "stream", 
                    "text": "/usr/local/src/conda3_runtime.v27/4.1.1/lib/python3.5/site-packages/ibmdbpy/indexing.py:118: UserWarning: Row order is not guaranteed if no indexer was given and the dataset was not sorted\n  \" was given and the dataset was not sorted\")\n", 
                    "name": "stderr"
                }, 
                {
                    "output_type": "execute_result", 
                    "execution_count": 16, 
                    "metadata": {}, 
                    "data": {
                        "text/html": "<div>\n<table border=\"1\" class=\"dataframe\">\n  <thead>\n    <tr style=\"text-align: right;\">\n      <th></th>\n      <th>day_key</th>\n      <th>organization_key</th>\n      <th>position_key</th>\n      <th>employee_key</th>\n      <th>expense_type_key</th>\n      <th>account_key</th>\n      <th>expense_unit_quantity</th>\n      <th>expense_total</th>\n    </tr>\n  </thead>\n  <tbody>\n    <tr>\n      <th>0</th>\n      <td>20100331</td>\n      <td>11107</td>\n      <td>43637</td>\n      <td>4146</td>\n      <td>2130</td>\n      <td>8050</td>\n      <td>0.005</td>\n      <td>310.23</td>\n    </tr>\n    <tr>\n      <th>1</th>\n      <td>20100331</td>\n      <td>11107</td>\n      <td>43637</td>\n      <td>4146</td>\n      <td>2131</td>\n      <td>8049</td>\n      <td>157.500</td>\n      <td>2253.35</td>\n    </tr>\n    <tr>\n      <th>2</th>\n      <td>20100430</td>\n      <td>11107</td>\n      <td>43637</td>\n      <td>4146</td>\n      <td>2120</td>\n      <td>8052</td>\n      <td>0.080</td>\n      <td>197.44</td>\n    </tr>\n    <tr>\n      <th>3</th>\n      <td>20100430</td>\n      <td>11107</td>\n      <td>43637</td>\n      <td>4146</td>\n      <td>2131</td>\n      <td>8049</td>\n      <td>165.000</td>\n      <td>2467.95</td>\n    </tr>\n    <tr>\n      <th>4</th>\n      <td>20100430</td>\n      <td>11107</td>\n      <td>43637</td>\n      <td>4146</td>\n      <td>2124</td>\n      <td>8056</td>\n      <td>0.030</td>\n      <td>74.04</td>\n    </tr>\n    <tr>\n      <th>5</th>\n      <td>20100430</td>\n      <td>11107</td>\n      <td>43637</td>\n      <td>4146</td>\n      <td>2122</td>\n      <td>8054</td>\n      <td>0.110</td>\n      <td>271.47</td>\n    </tr>\n    <tr>\n      <th>6</th>\n      <td>20100531</td>\n      <td>11107</td>\n      <td>43637</td>\n      <td>4146</td>\n      <td>2120</td>\n      <td>8052</td>\n      <td>0.080</td>\n      <td>25.83</td>\n    </tr>\n    <tr>\n      <th>7</th>\n      <td>20100531</td>\n      <td>11107</td>\n      <td>43637</td>\n      <td>4146</td>\n      <td>2130</td>\n      <td>8050</td>\n      <td>0.005</td>\n      <td>205.36</td>\n    </tr>\n    <tr>\n      <th>8</th>\n      <td>20100531</td>\n      <td>11107</td>\n      <td>43637</td>\n      <td>4146</td>\n      <td>2124</td>\n      <td>8056</td>\n      <td>0.030</td>\n      <td>9.69</td>\n    </tr>\n    <tr>\n      <th>9</th>\n      <td>20100531</td>\n      <td>11107</td>\n      <td>43637</td>\n      <td>4146</td>\n      <td>2122</td>\n      <td>8054</td>\n      <td>0.110</td>\n      <td>35.52</td>\n    </tr>\n  </tbody>\n</table>\n</div>", 
                        "text/plain": "    day_key  organization_key  position_key  employee_key  expense_type_key  \\\n0  20100331             11107         43637          4146              2130   \n1  20100331             11107         43637          4146              2131   \n2  20100430             11107         43637          4146              2120   \n3  20100430             11107         43637          4146              2131   \n4  20100430             11107         43637          4146              2124   \n5  20100430             11107         43637          4146              2122   \n6  20100531             11107         43637          4146              2120   \n7  20100531             11107         43637          4146              2130   \n8  20100531             11107         43637          4146              2124   \n9  20100531             11107         43637          4146              2122   \n\n   account_key  expense_unit_quantity  expense_total  \n0         8050                  0.005         310.23  \n1         8049                157.500        2253.35  \n2         8052                  0.080         197.44  \n3         8049                165.000        2467.95  \n4         8056                  0.030          74.04  \n5         8054                  0.110         271.47  \n6         8052                  0.080          25.83  \n7         8050                  0.005         205.36  \n8         8056                  0.030           9.69  \n9         8054                  0.110          35.52  "
                    }
                }
            ]
        }, 
        {
            "cell_type": "markdown", 
            "source": "<a id=\"Use-SQL\"></a>\n## Use SQL\nWe can also use SQL to get the top 10.", 
            "metadata": {}
        }, 
        {
            "cell_type": "code", 
            "execution_count": 17, 
            "metadata": {}, 
            "source": "top_10_df = idadb.ida_query('SELECT * FROM GOSALESDW.EMP_EXPENSE_FACT LIMIT 10')\ntop_10_df", 
            "outputs": [
                {
                    "output_type": "execute_result", 
                    "execution_count": 17, 
                    "metadata": {}, 
                    "data": {
                        "text/html": "<div>\n<table border=\"1\" class=\"dataframe\">\n  <thead>\n    <tr style=\"text-align: right;\">\n      <th></th>\n      <th>day_key</th>\n      <th>organization_key</th>\n      <th>position_key</th>\n      <th>employee_key</th>\n      <th>expense_type_key</th>\n      <th>account_key</th>\n      <th>expense_unit_quantity</th>\n      <th>expense_total</th>\n    </tr>\n  </thead>\n  <tbody>\n    <tr>\n      <th>0</th>\n      <td>20100731</td>\n      <td>11167</td>\n      <td>43636</td>\n      <td>4191</td>\n      <td>2137</td>\n      <td>8050</td>\n      <td>7.50</td>\n      <td>500.00</td>\n    </tr>\n    <tr>\n      <th>1</th>\n      <td>20100831</td>\n      <td>11167</td>\n      <td>43636</td>\n      <td>4191</td>\n      <td>2104</td>\n      <td>8050</td>\n      <td>7.50</td>\n      <td>229.17</td>\n    </tr>\n    <tr>\n      <th>2</th>\n      <td>20100831</td>\n      <td>11167</td>\n      <td>43636</td>\n      <td>4191</td>\n      <td>2120</td>\n      <td>8052</td>\n      <td>0.08</td>\n      <td>403.33</td>\n    </tr>\n    <tr>\n      <th>3</th>\n      <td>20100831</td>\n      <td>11167</td>\n      <td>43636</td>\n      <td>4191</td>\n      <td>2122</td>\n      <td>8054</td>\n      <td>0.11</td>\n      <td>554.58</td>\n    </tr>\n    <tr>\n      <th>4</th>\n      <td>20100831</td>\n      <td>11167</td>\n      <td>43636</td>\n      <td>4191</td>\n      <td>2124</td>\n      <td>8056</td>\n      <td>0.03</td>\n      <td>151.25</td>\n    </tr>\n    <tr>\n      <th>5</th>\n      <td>20100831</td>\n      <td>11167</td>\n      <td>43636</td>\n      <td>4191</td>\n      <td>2131</td>\n      <td>8049</td>\n      <td>157.50</td>\n      <td>4812.50</td>\n    </tr>\n    <tr>\n      <th>6</th>\n      <td>20100930</td>\n      <td>11167</td>\n      <td>43636</td>\n      <td>4191</td>\n      <td>2104</td>\n      <td>8050</td>\n      <td>7.50</td>\n      <td>229.17</td>\n    </tr>\n    <tr>\n      <th>7</th>\n      <td>20100930</td>\n      <td>11167</td>\n      <td>43636</td>\n      <td>4191</td>\n      <td>2120</td>\n      <td>8052</td>\n      <td>0.08</td>\n      <td>403.33</td>\n    </tr>\n    <tr>\n      <th>8</th>\n      <td>20100930</td>\n      <td>11167</td>\n      <td>43636</td>\n      <td>4191</td>\n      <td>2122</td>\n      <td>8054</td>\n      <td>0.11</td>\n      <td>554.58</td>\n    </tr>\n    <tr>\n      <th>9</th>\n      <td>20100930</td>\n      <td>11167</td>\n      <td>43636</td>\n      <td>4191</td>\n      <td>2124</td>\n      <td>8056</td>\n      <td>0.03</td>\n      <td>151.25</td>\n    </tr>\n  </tbody>\n</table>\n</div>", 
                        "text/plain": "    day_key  organization_key  position_key  employee_key  expense_type_key  \\\n0  20100731             11167         43636          4191              2137   \n1  20100831             11167         43636          4191              2104   \n2  20100831             11167         43636          4191              2120   \n3  20100831             11167         43636          4191              2122   \n4  20100831             11167         43636          4191              2124   \n5  20100831             11167         43636          4191              2131   \n6  20100930             11167         43636          4191              2104   \n7  20100930             11167         43636          4191              2120   \n8  20100930             11167         43636          4191              2122   \n9  20100930             11167         43636          4191              2124   \n\n   account_key  expense_unit_quantity  expense_total  \n0         8050                   7.50         500.00  \n1         8050                   7.50         229.17  \n2         8052                   0.08         403.33  \n3         8054                   0.11         554.58  \n4         8056                   0.03         151.25  \n5         8049                 157.50        4812.50  \n6         8050                   7.50         229.17  \n7         8052                   0.08         403.33  \n8         8054                   0.11         554.58  \n9         8056                   0.03         151.25  "
                    }
                }
            ]
        }, 
        {
            "cell_type": "markdown", 
            "source": "Find the top 10 employees (by id) by the number of transactions in the `GOSALESDW.EMP_EXPENSE_FACT` table.", 
            "metadata": {}
        }, 
        {
            "cell_type": "code", 
            "execution_count": 18, 
            "metadata": {}, 
            "source": "idadb.ida_query('SELECT EMPLOYEE_KEY, COUNT(*) AS COUNT FROM GOSALESDW.EMP_EXPENSE_FACT GROUP BY EMPLOYEE_KEY ORDER BY COUNT DESC LIMIT 10')", 
            "outputs": [
                {
                    "output_type": "execute_result", 
                    "execution_count": 18, 
                    "metadata": {}, 
                    "data": {
                        "text/html": "<div>\n<table border=\"1\" class=\"dataframe\">\n  <thead>\n    <tr style=\"text-align: right;\">\n      <th></th>\n      <th>employee_key</th>\n      <th>count</th>\n    </tr>\n  </thead>\n  <tbody>\n    <tr>\n      <th>0</th>\n      <td>4112</td>\n      <td>263.0</td>\n    </tr>\n    <tr>\n      <th>1</th>\n      <td>4134</td>\n      <td>263.0</td>\n    </tr>\n    <tr>\n      <th>2</th>\n      <td>4135</td>\n      <td>261.0</td>\n    </tr>\n    <tr>\n      <th>3</th>\n      <td>4019</td>\n      <td>260.0</td>\n    </tr>\n    <tr>\n      <th>4</th>\n      <td>4368</td>\n      <td>260.0</td>\n    </tr>\n    <tr>\n      <th>5</th>\n      <td>4053</td>\n      <td>260.0</td>\n    </tr>\n    <tr>\n      <th>6</th>\n      <td>4016</td>\n      <td>260.0</td>\n    </tr>\n    <tr>\n      <th>7</th>\n      <td>4480</td>\n      <td>259.0</td>\n    </tr>\n    <tr>\n      <th>8</th>\n      <td>4129</td>\n      <td>259.0</td>\n    </tr>\n    <tr>\n      <th>9</th>\n      <td>4157</td>\n      <td>258.0</td>\n    </tr>\n  </tbody>\n</table>\n</div>", 
                        "text/plain": "   employee_key  count\n0          4112  263.0\n1          4134  263.0\n2          4135  261.0\n3          4019  260.0\n4          4368  260.0\n5          4053  260.0\n6          4016  260.0\n7          4480  259.0\n8          4129  259.0\n9          4157  258.0"
                    }
                }
            ]
        }, 
        {
            "cell_type": "markdown", 
            "source": "<a id=\"Explore-the-trafficking-data\"></a>\n## Explore the trafficking data\n__Time to apply what you've learned!__\n\nComplete the tasks that are commented in the code blocks.  If you get stuck, check out the hints.  If you're still stuck, read the solution.  If you have any questions, feel free to ask.", 
            "metadata": {}
        }, 
        {
            "cell_type": "markdown", 
            "source": "### Create an ibmdbpy dataframe called `trafficking_df` and set it to the name of the trafficking table in your DB2 Warehouse <br>\n\n<div class=\"panel-group\" id=\"accordion-2\">\n  <div class=\"panel panel-default\">\n    <div class=\"panel-heading\">\n      <h4 class=\"panel-title\"><a data-toggle=\"collapse\" data-parent=\"#accordion-2\" href=\"#collapse2-1\">Hint 1</a></h4>\n    </div>\n    <div id=\"collapse2-1\" class=\"panel-collapse collapse\">\n      <div class=\"panel-body\">     \nUse the Connections table to insert the dataframe.   Be sure to name the result trafficking_df!\n      </div>\n    </div>\n  </div>\n  <div class=\"panel panel-default\">\n    <div class=\"panel-heading\">\n      <h4 class=\"panel-title\"><a data-toggle=\"collapse\" data-parent=\"#accordion-2\" href=\"#collapse2-2\">Solution</a></h4>\n    </div>\n    <div id=\"collapse2-2\" class=\"panel-collapse collapse\">\n      <div class=\"panel-body\">     \nSelect the data cell you wish the code to be added to<br>\nSelect the Find and Add Data icon<br>\nSelect Connections<br>\nSelect Insert to Code for the connection you wish to use (there should only be one)<br>\nSelect Insert ibmdbpy IdaDataframe<br>\nSelect the Schema you used to load the data (this schema should start with DASH)<br>\nSelect the Table (there should only be one)<br>\nSelect Insert Code<br>\nRename the result to trafficking_df\n      </div>\n    </div>\n  </div>\n</div>", 
            "metadata": {}
        }, 
        {
            "cell_type": "code", 
            "execution_count": 19, 
            "metadata": {}, 
            "source": "# The code was removed by DSX for sharing.", 
            "outputs": [
                {
                    "output_type": "execute_result", 
                    "execution_count": 19, 
                    "metadata": {}, 
                    "data": {
                        "text/html": "<div>\n<table border=\"1\" class=\"dataframe\">\n  <thead>\n    <tr style=\"text-align: right;\">\n      <th></th>\n      <th>INTERNAL_ID</th>\n      <th>VETTING_LEVEL</th>\n      <th>DESCRIPTION</th>\n      <th>VETTING_LEVEL_PREDICTION</th>\n      <th>ALGORITHM_NAME</th>\n      <th>NAME</th>\n      <th>GENDER</th>\n      <th>BIRTH_DATE</th>\n      <th>BIRTH_COUNTRY</th>\n      <th>BIRTH_COUNTRY_CODE</th>\n      <th>...</th>\n      <th>ARRIVAL_AIRPORT_COUNTRY_CODE</th>\n      <th>ARRIVAL_AIRPORT_IATA</th>\n      <th>ARRIVAL_AIRPORT_MUNICIPALITY</th>\n      <th>ARRIVAL_AIRPORT_REGION</th>\n      <th>DEPARTURE_AIRPORT_COUNTRY_CODE</th>\n      <th>DEPARTURE_AIRPORT_IATA</th>\n      <th>DEPARTURE_AIRPORT_MUNICIPALITY</th>\n      <th>DEPARTURE_AIRPORT_REGION</th>\n      <th>UUID</th>\n      <th>AGE</th>\n    </tr>\n  </thead>\n  <tbody>\n    <tr>\n      <th>0</th>\n      <td>1</td>\n      <td>100</td>\n      <td>NA</td>\n      <td>30</td>\n      <td>DECISION_TREE</td>\n      <td>Kathleen Bailey</td>\n      <td>F</td>\n      <td>1985-11-27</td>\n      <td>Ghana</td>\n      <td>GH</td>\n      <td>...</td>\n      <td>US</td>\n      <td>BMI</td>\n      <td>Bloomington/Normal</td>\n      <td>US-IL</td>\n      <td>AE</td>\n      <td>AUH</td>\n      <td>Abu Dhabi</td>\n      <td>AE-AZ</td>\n      <td>81d28245-a6d4-40e3-bac0-df61cc6625ce</td>\n      <td>31</td>\n    </tr>\n    <tr>\n      <th>1</th>\n      <td>2</td>\n      <td>30</td>\n      <td>NA</td>\n      <td>30</td>\n      <td>DECISION_TREE</td>\n      <td>Kelly Robbins</td>\n      <td>F</td>\n      <td>1971-01-17</td>\n      <td>Pakistan</td>\n      <td>PK</td>\n      <td>...</td>\n      <td>US</td>\n      <td>CLE</td>\n      <td>Cleveland</td>\n      <td>US-OH</td>\n      <td>UA</td>\n      <td>KBP</td>\n      <td>Kiev</td>\n      <td>UA-32</td>\n      <td>b4d817b3-2154-4351-b0e3-bcd736a76bf5</td>\n      <td>46</td>\n    </tr>\n    <tr>\n      <th>2</th>\n      <td>3</td>\n      <td>100</td>\n      <td>NA</td>\n      <td>30</td>\n      <td>DECISION_TREE</td>\n      <td>Linda Stewart</td>\n      <td>F</td>\n      <td>1997-04-15</td>\n      <td>Ghana</td>\n      <td>GH</td>\n      <td>...</td>\n      <td>US</td>\n      <td>TPA</td>\n      <td>Tampa</td>\n      <td>US-FL</td>\n      <td>RU</td>\n      <td>KJA</td>\n      <td>Krasnoyarsk</td>\n      <td>RU-KYA</td>\n      <td>a52a6477-1f5e-4b09-a5e3-f76333a7eb10</td>\n      <td>19</td>\n    </tr>\n    <tr>\n      <th>3</th>\n      <td>4</td>\n      <td>100</td>\n      <td>NA</td>\n      <td>30</td>\n      <td>DECISION_TREE</td>\n      <td>Stacey Courtney Gonzalez</td>\n      <td>F</td>\n      <td>1984-03-27</td>\n      <td>Ghana</td>\n      <td>GH</td>\n      <td>...</td>\n      <td>US</td>\n      <td>TOL</td>\n      <td>Toledo</td>\n      <td>US-OH</td>\n      <td>RU</td>\n      <td>AER</td>\n      <td>Sochi</td>\n      <td>RU-KDA</td>\n      <td>5fcbbf15-8268-4306-ac26-406c2faae251</td>\n      <td>32</td>\n    </tr>\n    <tr>\n      <th>4</th>\n      <td>5</td>\n      <td>30</td>\n      <td>NA</td>\n      <td>30</td>\n      <td>DECISION_TREE</td>\n      <td>Erika Patie Fowler</td>\n      <td>F</td>\n      <td>1998-06-18</td>\n      <td>Ghana</td>\n      <td>GH</td>\n      <td>...</td>\n      <td>US</td>\n      <td>FWA</td>\n      <td>Fort Wayne</td>\n      <td>US-IN</td>\n      <td>IE</td>\n      <td>ORK</td>\n      <td>Cork</td>\n      <td>IE-C</td>\n      <td>6d1fe59a-6828-4bc5-9ded-2194aa238461</td>\n      <td>18</td>\n    </tr>\n  </tbody>\n</table>\n<p>5 rows \u00d7 28 columns</p>\n</div>", 
                        "text/plain": "   INTERNAL_ID  VETTING_LEVEL DESCRIPTION  VETTING_LEVEL_PREDICTION  \\\n0            1            100          NA                        30   \n1            2             30          NA                        30   \n2            3            100          NA                        30   \n3            4            100          NA                        30   \n4            5             30          NA                        30   \n\n  ALGORITHM_NAME                      NAME GENDER  BIRTH_DATE BIRTH_COUNTRY  \\\n0  DECISION_TREE           Kathleen Bailey      F  1985-11-27         Ghana   \n1  DECISION_TREE             Kelly Robbins      F  1971-01-17      Pakistan   \n2  DECISION_TREE             Linda Stewart      F  1997-04-15         Ghana   \n3  DECISION_TREE  Stacey Courtney Gonzalez      F  1984-03-27         Ghana   \n4  DECISION_TREE        Erika Patie Fowler      F  1998-06-18         Ghana   \n\n  BIRTH_COUNTRY_CODE ... ARRIVAL_AIRPORT_COUNTRY_CODE ARRIVAL_AIRPORT_IATA  \\\n0                 GH ...                           US                  BMI   \n1                 PK ...                           US                  CLE   \n2                 GH ...                           US                  TPA   \n3                 GH ...                           US                  TOL   \n4                 GH ...                           US                  FWA   \n\n  ARRIVAL_AIRPORT_MUNICIPALITY  ARRIVAL_AIRPORT_REGION  \\\n0           Bloomington/Normal                   US-IL   \n1                    Cleveland                   US-OH   \n2                        Tampa                   US-FL   \n3                       Toledo                   US-OH   \n4                   Fort Wayne                   US-IN   \n\n  DEPARTURE_AIRPORT_COUNTRY_CODE DEPARTURE_AIRPORT_IATA  \\\n0                             AE                    AUH   \n1                             UA                    KBP   \n2                             RU                    KJA   \n3                             RU                    AER   \n4                             IE                    ORK   \n\n  DEPARTURE_AIRPORT_MUNICIPALITY  DEPARTURE_AIRPORT_REGION  \\\n0                      Abu Dhabi                     AE-AZ   \n1                           Kiev                     UA-32   \n2                    Krasnoyarsk                    RU-KYA   \n3                          Sochi                    RU-KDA   \n4                           Cork                      IE-C   \n\n                                   UUID AGE  \n0  81d28245-a6d4-40e3-bac0-df61cc6625ce  31  \n1  b4d817b3-2154-4351-b0e3-bcd736a76bf5  46  \n2  a52a6477-1f5e-4b09-a5e3-f76333a7eb10  19  \n3  5fcbbf15-8268-4306-ac26-406c2faae251  32  \n4  6d1fe59a-6828-4bc5-9ded-2194aa238461  18  \n\n[5 rows x 28 columns]"
                    }
                }
            ]
        }, 
        {
            "cell_type": "code", 
            "execution_count": 20, 
            "metadata": {}, 
            "source": "idadb.exists_table_or_view(trafficking_df.name)\n\n# The output of this block should be:\n# True", 
            "outputs": [
                {
                    "output_type": "execute_result", 
                    "execution_count": 20, 
                    "metadata": {}, 
                    "data": {
                        "text/plain": "True"
                    }
                }
            ]
        }, 
        {
            "cell_type": "code", 
            "execution_count": 21, 
            "metadata": {}, 
            "source": "print(trafficking_df.shape)\ntrafficking_df.dtypes", 
            "outputs": [
                {
                    "output_type": "stream", 
                    "text": "(1085, 28)\n", 
                    "name": "stdout"
                }, 
                {
                    "output_type": "execute_result", 
                    "execution_count": 21, 
                    "metadata": {}, 
                    "data": {
                        "text/html": "<div>\n<table border=\"1\" class=\"dataframe\">\n  <thead>\n    <tr style=\"text-align: right;\">\n      <th></th>\n      <th>TYPENAME</th>\n    </tr>\n  </thead>\n  <tbody>\n    <tr>\n      <th>INTERNAL_ID</th>\n      <td>SMALLINT</td>\n    </tr>\n    <tr>\n      <th>VETTING_LEVEL</th>\n      <td>SMALLINT</td>\n    </tr>\n    <tr>\n      <th>DESCRIPTION</th>\n      <td>VARCHAR</td>\n    </tr>\n    <tr>\n      <th>VETTING_LEVEL_PREDICTION</th>\n      <td>SMALLINT</td>\n    </tr>\n    <tr>\n      <th>ALGORITHM_NAME</th>\n      <td>VARCHAR</td>\n    </tr>\n    <tr>\n      <th>NAME</th>\n      <td>VARCHAR</td>\n    </tr>\n    <tr>\n      <th>GENDER</th>\n      <td>VARCHAR</td>\n    </tr>\n    <tr>\n      <th>BIRTH_DATE</th>\n      <td>DATE</td>\n    </tr>\n    <tr>\n      <th>BIRTH_COUNTRY</th>\n      <td>VARCHAR</td>\n    </tr>\n    <tr>\n      <th>BIRTH_COUNTRY_CODE</th>\n      <td>VARCHAR</td>\n    </tr>\n    <tr>\n      <th>OCCUPATION</th>\n      <td>VARCHAR</td>\n    </tr>\n    <tr>\n      <th>ADDRESS</th>\n      <td>VARCHAR</td>\n    </tr>\n    <tr>\n      <th>SSN</th>\n      <td>VARCHAR</td>\n    </tr>\n    <tr>\n      <th>PASSPORT_NUMBER</th>\n      <td>INTEGER</td>\n    </tr>\n    <tr>\n      <th>PASSPORT_COUNTRY</th>\n      <td>VARCHAR</td>\n    </tr>\n    <tr>\n      <th>PASSPORT_COUNTRY_CODE</th>\n      <td>VARCHAR</td>\n    </tr>\n    <tr>\n      <th>COUNTRIES_VISITED</th>\n      <td>VARCHAR</td>\n    </tr>\n    <tr>\n      <th>COUNTRIES_VISITED_COUNT</th>\n      <td>SMALLINT</td>\n    </tr>\n    <tr>\n      <th>ARRIVAL_AIRPORT_COUNTRY_CODE</th>\n      <td>VARCHAR</td>\n    </tr>\n    <tr>\n      <th>ARRIVAL_AIRPORT_IATA</th>\n      <td>VARCHAR</td>\n    </tr>\n    <tr>\n      <th>ARRIVAL_AIRPORT_MUNICIPALITY</th>\n      <td>VARCHAR</td>\n    </tr>\n    <tr>\n      <th>ARRIVAL_AIRPORT_REGION</th>\n      <td>VARCHAR</td>\n    </tr>\n    <tr>\n      <th>DEPARTURE_AIRPORT_COUNTRY_CODE</th>\n      <td>VARCHAR</td>\n    </tr>\n    <tr>\n      <th>DEPARTURE_AIRPORT_IATA</th>\n      <td>VARCHAR</td>\n    </tr>\n    <tr>\n      <th>DEPARTURE_AIRPORT_MUNICIPALITY</th>\n      <td>VARCHAR</td>\n    </tr>\n    <tr>\n      <th>DEPARTURE_AIRPORT_REGION</th>\n      <td>VARCHAR</td>\n    </tr>\n    <tr>\n      <th>UUID</th>\n      <td>VARCHAR</td>\n    </tr>\n    <tr>\n      <th>AGE</th>\n      <td>SMALLINT</td>\n    </tr>\n  </tbody>\n</table>\n</div>", 
                        "text/plain": "                                TYPENAME\nINTERNAL_ID                     SMALLINT\nVETTING_LEVEL                   SMALLINT\nDESCRIPTION                      VARCHAR\nVETTING_LEVEL_PREDICTION        SMALLINT\nALGORITHM_NAME                   VARCHAR\nNAME                             VARCHAR\nGENDER                           VARCHAR\nBIRTH_DATE                          DATE\nBIRTH_COUNTRY                    VARCHAR\nBIRTH_COUNTRY_CODE               VARCHAR\nOCCUPATION                       VARCHAR\nADDRESS                          VARCHAR\nSSN                              VARCHAR\nPASSPORT_NUMBER                  INTEGER\nPASSPORT_COUNTRY                 VARCHAR\nPASSPORT_COUNTRY_CODE            VARCHAR\nCOUNTRIES_VISITED                VARCHAR\nCOUNTRIES_VISITED_COUNT         SMALLINT\nARRIVAL_AIRPORT_COUNTRY_CODE     VARCHAR\nARRIVAL_AIRPORT_IATA             VARCHAR\nARRIVAL_AIRPORT_MUNICIPALITY     VARCHAR\nARRIVAL_AIRPORT_REGION           VARCHAR\nDEPARTURE_AIRPORT_COUNTRY_CODE   VARCHAR\nDEPARTURE_AIRPORT_IATA           VARCHAR\nDEPARTURE_AIRPORT_MUNICIPALITY   VARCHAR\nDEPARTURE_AIRPORT_REGION         VARCHAR\nUUID                             VARCHAR\nAGE                             SMALLINT"
                    }
                }
            ]
        }, 
        {
            "cell_type": "markdown", 
            "source": "### Show the top 5 records from the table using a method of the IdaDataFrame <br>\n<div class=\"panel-group\" id=\"accordion-12\">\n  <div class=\"panel panel-default\">\n    <div class=\"panel-heading\">\n      <h4 class=\"panel-title\"><a data-toggle=\"collapse\" data-parent=\"#accordion-12\" href=\"#collapse1-12\">Hint 1</a></h4>\n    </div>\n    <div id=\"collapse1-12\" class=\"panel-collapse collapse\">\n      <div class=\"panel-body\">\n      \nHeads or tails?\n      \n      </div>\n    </div>\n  </div>\n  <div class=\"panel panel-default\">\n    <div class=\"panel-heading\">\n      <h4 class=\"panel-title\"><a data-toggle=\"collapse\" data-parent=\"#accordion-12\" href=\"#collapse2-12\">Solution</a></h4>\n    </div>\n    <div id=\"collapse2-12\" class=\"panel-collapse collapse\">\n      <div class=\"panel-body\">\n      Heads!<br>\n<pre>\ntrafficking_df.head()\n</pre> \n      </div>\n    </div>\n  </div>\n</div>\n", 
            "metadata": {}
        }, 
        {
            "cell_type": "code", 
            "execution_count": 23, 
            "metadata": {}, 
            "source": "# enter answer here\ntrafficking_df.head()", 
            "outputs": [
                {
                    "output_type": "execute_result", 
                    "execution_count": 23, 
                    "metadata": {}, 
                    "data": {
                        "text/html": "<div>\n<table border=\"1\" class=\"dataframe\">\n  <thead>\n    <tr style=\"text-align: right;\">\n      <th></th>\n      <th>INTERNAL_ID</th>\n      <th>VETTING_LEVEL</th>\n      <th>DESCRIPTION</th>\n      <th>VETTING_LEVEL_PREDICTION</th>\n      <th>ALGORITHM_NAME</th>\n      <th>NAME</th>\n      <th>GENDER</th>\n      <th>BIRTH_DATE</th>\n      <th>BIRTH_COUNTRY</th>\n      <th>BIRTH_COUNTRY_CODE</th>\n      <th>...</th>\n      <th>ARRIVAL_AIRPORT_COUNTRY_CODE</th>\n      <th>ARRIVAL_AIRPORT_IATA</th>\n      <th>ARRIVAL_AIRPORT_MUNICIPALITY</th>\n      <th>ARRIVAL_AIRPORT_REGION</th>\n      <th>DEPARTURE_AIRPORT_COUNTRY_CODE</th>\n      <th>DEPARTURE_AIRPORT_IATA</th>\n      <th>DEPARTURE_AIRPORT_MUNICIPALITY</th>\n      <th>DEPARTURE_AIRPORT_REGION</th>\n      <th>UUID</th>\n      <th>AGE</th>\n    </tr>\n  </thead>\n  <tbody>\n    <tr>\n      <th>0</th>\n      <td>1</td>\n      <td>100</td>\n      <td>NA</td>\n      <td>30</td>\n      <td>DECISION_TREE</td>\n      <td>Kathleen Bailey</td>\n      <td>F</td>\n      <td>1985-11-27</td>\n      <td>Ghana</td>\n      <td>GH</td>\n      <td>...</td>\n      <td>US</td>\n      <td>BMI</td>\n      <td>Bloomington/Normal</td>\n      <td>US-IL</td>\n      <td>AE</td>\n      <td>AUH</td>\n      <td>Abu Dhabi</td>\n      <td>AE-AZ</td>\n      <td>81d28245-a6d4-40e3-bac0-df61cc6625ce</td>\n      <td>31</td>\n    </tr>\n    <tr>\n      <th>1</th>\n      <td>2</td>\n      <td>30</td>\n      <td>NA</td>\n      <td>30</td>\n      <td>DECISION_TREE</td>\n      <td>Kelly Robbins</td>\n      <td>F</td>\n      <td>1971-01-17</td>\n      <td>Pakistan</td>\n      <td>PK</td>\n      <td>...</td>\n      <td>US</td>\n      <td>CLE</td>\n      <td>Cleveland</td>\n      <td>US-OH</td>\n      <td>UA</td>\n      <td>KBP</td>\n      <td>Kiev</td>\n      <td>UA-32</td>\n      <td>b4d817b3-2154-4351-b0e3-bcd736a76bf5</td>\n      <td>46</td>\n    </tr>\n    <tr>\n      <th>2</th>\n      <td>3</td>\n      <td>100</td>\n      <td>NA</td>\n      <td>30</td>\n      <td>DECISION_TREE</td>\n      <td>Linda Stewart</td>\n      <td>F</td>\n      <td>1997-04-15</td>\n      <td>Ghana</td>\n      <td>GH</td>\n      <td>...</td>\n      <td>US</td>\n      <td>TPA</td>\n      <td>Tampa</td>\n      <td>US-FL</td>\n      <td>RU</td>\n      <td>KJA</td>\n      <td>Krasnoyarsk</td>\n      <td>RU-KYA</td>\n      <td>a52a6477-1f5e-4b09-a5e3-f76333a7eb10</td>\n      <td>19</td>\n    </tr>\n    <tr>\n      <th>3</th>\n      <td>4</td>\n      <td>100</td>\n      <td>NA</td>\n      <td>30</td>\n      <td>DECISION_TREE</td>\n      <td>Stacey Courtney Gonzalez</td>\n      <td>F</td>\n      <td>1984-03-27</td>\n      <td>Ghana</td>\n      <td>GH</td>\n      <td>...</td>\n      <td>US</td>\n      <td>TOL</td>\n      <td>Toledo</td>\n      <td>US-OH</td>\n      <td>RU</td>\n      <td>AER</td>\n      <td>Sochi</td>\n      <td>RU-KDA</td>\n      <td>5fcbbf15-8268-4306-ac26-406c2faae251</td>\n      <td>32</td>\n    </tr>\n    <tr>\n      <th>4</th>\n      <td>5</td>\n      <td>30</td>\n      <td>NA</td>\n      <td>30</td>\n      <td>DECISION_TREE</td>\n      <td>Erika Patie Fowler</td>\n      <td>F</td>\n      <td>1998-06-18</td>\n      <td>Ghana</td>\n      <td>GH</td>\n      <td>...</td>\n      <td>US</td>\n      <td>FWA</td>\n      <td>Fort Wayne</td>\n      <td>US-IN</td>\n      <td>IE</td>\n      <td>ORK</td>\n      <td>Cork</td>\n      <td>IE-C</td>\n      <td>6d1fe59a-6828-4bc5-9ded-2194aa238461</td>\n      <td>18</td>\n    </tr>\n  </tbody>\n</table>\n<p>5 rows \u00d7 28 columns</p>\n</div>", 
                        "text/plain": "   INTERNAL_ID  VETTING_LEVEL DESCRIPTION  VETTING_LEVEL_PREDICTION  \\\n0            1            100          NA                        30   \n1            2             30          NA                        30   \n2            3            100          NA                        30   \n3            4            100          NA                        30   \n4            5             30          NA                        30   \n\n  ALGORITHM_NAME                      NAME GENDER  BIRTH_DATE BIRTH_COUNTRY  \\\n0  DECISION_TREE           Kathleen Bailey      F  1985-11-27         Ghana   \n1  DECISION_TREE             Kelly Robbins      F  1971-01-17      Pakistan   \n2  DECISION_TREE             Linda Stewart      F  1997-04-15         Ghana   \n3  DECISION_TREE  Stacey Courtney Gonzalez      F  1984-03-27         Ghana   \n4  DECISION_TREE        Erika Patie Fowler      F  1998-06-18         Ghana   \n\n  BIRTH_COUNTRY_CODE ... ARRIVAL_AIRPORT_COUNTRY_CODE ARRIVAL_AIRPORT_IATA  \\\n0                 GH ...                           US                  BMI   \n1                 PK ...                           US                  CLE   \n2                 GH ...                           US                  TPA   \n3                 GH ...                           US                  TOL   \n4                 GH ...                           US                  FWA   \n\n  ARRIVAL_AIRPORT_MUNICIPALITY  ARRIVAL_AIRPORT_REGION  \\\n0           Bloomington/Normal                   US-IL   \n1                    Cleveland                   US-OH   \n2                        Tampa                   US-FL   \n3                       Toledo                   US-OH   \n4                   Fort Wayne                   US-IN   \n\n  DEPARTURE_AIRPORT_COUNTRY_CODE DEPARTURE_AIRPORT_IATA  \\\n0                             AE                    AUH   \n1                             UA                    KBP   \n2                             RU                    KJA   \n3                             RU                    AER   \n4                             IE                    ORK   \n\n  DEPARTURE_AIRPORT_MUNICIPALITY  DEPARTURE_AIRPORT_REGION  \\\n0                      Abu Dhabi                     AE-AZ   \n1                           Kiev                     UA-32   \n2                    Krasnoyarsk                    RU-KYA   \n3                          Sochi                    RU-KDA   \n4                           Cork                      IE-C   \n\n                                   UUID AGE  \n0  81d28245-a6d4-40e3-bac0-df61cc6625ce  31  \n1  b4d817b3-2154-4351-b0e3-bcd736a76bf5  46  \n2  a52a6477-1f5e-4b09-a5e3-f76333a7eb10  19  \n3  5fcbbf15-8268-4306-ac26-406c2faae251  32  \n4  6d1fe59a-6828-4bc5-9ded-2194aa238461  18  \n\n[5 rows x 28 columns]"
                    }
                }
            ]
        }, 
        {
            "cell_type": "markdown", 
            "source": "### Query the trafficking table so that we get the vetting_level and the number of times that vetting_level appears in the trafficking table, ordered by the vetting_level<br>\n<div class=\"panel-group\" id=\"accordion-13\">\n  <div class=\"panel panel-default\">\n    <div class=\"panel-heading\">\n      <h4 class=\"panel-title\"><a data-toggle=\"collapse\" data-parent=\"#accordion-13\" href=\"#collapse1-13\">Hint 1</a></h4>\n    </div>\n    <div id=\"collapse1-13\" class=\"panel-collapse collapse\">\n      <div class=\"panel-body\">\n      \nIt is similar to:\n\n<pre>\n<resource>.ida_query('SELECT EMPLOYEE_KEY, COUNT(&#42;) AS COUNT FROM GOSALESDW.EMP_EXPENSE_FACT GROUP BY EMPLOYEE_KEY ORDER BY COUNT DESC LIMIT 10')\n</pre>\n      \n      </div>\n    </div>\n  </div>\n  <div class=\"panel panel-default\">\n    <div class=\"panel-heading\">\n      <h4 class=\"panel-title\"><a data-toggle=\"collapse\" data-parent=\"#accordion-13\" href=\"#collapse2-13\">Hint 2</a></h4>\n    </div>\n    <div id=\"collapse2-13\" class=\"panel-collapse collapse\">\n      <div class=\"panel-body\">\n      \nThe SQL query is:\n\n<pre>\n'SELECT VETTING_LEVEL, COUNT(&#42;) AS COUNT FROM ' + trafficking_table + ' GROUP BY VETTING_LEVEL ORDER BY VETTING_LEVEL'\n</pre>\n      \n      </div>\n    </div>\n  </div>\n  <div class=\"panel panel-default\">\n    <div class=\"panel-heading\">\n      <h4 class=\"panel-title\"><a data-toggle=\"collapse\" data-parent=\"#accordion-13\" href=\"#collapse3-13\">Solution 1</a></h4>\n    </div>\n    <div id=\"collapse3-13\" class=\"panel-collapse collapse\">\n      <div class=\"panel-body\">\n      \n<pre>\nidadb.ida_query('SELECT VETTING_LEVEL, COUNT(&#42;) AS COUNT FROM ' + trafficking_df.name + ' GROUP BY VETTING_LEVEL ORDER BY VETTING_LEVEL')\n</pre>\n\n      </div>\n    </div>\n  </div>\n    <div class=\"panel panel-default\">\n    <div class=\"panel-heading\">\n      <h4 class=\"panel-title\"><a data-toggle=\"collapse\" data-parent=\"#accordion-13\" href=\"#collapse3-14\">Solution 2</a></h4>\n    </div>\n    <div id=\"collapse3-14\" class=\"panel-collapse collapse\">\n      <div class=\"panel-body\">\n      \n<pre>\ntrafficking_df.ida_query('SELECT VETTING_LEVEL, COUNT(&#42;) AS COUNT FROM ' + trafficking_df.name + ' GROUP BY VETTING_LEVEL ORDER BY VETTING_LEVEL')\n</pre>\n\n      </div>\n    </div>\n  </div>\n</div>\n", 
            "metadata": {}
        }, 
        {
            "cell_type": "code", 
            "execution_count": 24, 
            "metadata": {}, 
            "source": "# Enter query here\ntrafficking_df.ida_query('SELECT VETTING_LEVEL, COUNT(*) AS COUNT FROM ' + trafficking_df.name + ' GROUP BY VETTING_LEVEL ORDER BY VETTING_LEVEL')", 
            "outputs": [
                {
                    "output_type": "execute_result", 
                    "execution_count": 24, 
                    "metadata": {}, 
                    "data": {
                        "text/html": "<div>\n<table border=\"1\" class=\"dataframe\">\n  <thead>\n    <tr style=\"text-align: right;\">\n      <th></th>\n      <th>vetting_level</th>\n      <th>count</th>\n    </tr>\n  </thead>\n  <tbody>\n    <tr>\n      <th>0</th>\n      <td>10</td>\n      <td>42.0</td>\n    </tr>\n    <tr>\n      <th>1</th>\n      <td>20</td>\n      <td>40.0</td>\n    </tr>\n    <tr>\n      <th>2</th>\n      <td>30</td>\n      <td>96.0</td>\n    </tr>\n    <tr>\n      <th>3</th>\n      <td>100</td>\n      <td>907.0</td>\n    </tr>\n  </tbody>\n</table>\n</div>", 
                        "text/plain": "   vetting_level  count\n0             10   42.0\n1             20   40.0\n2             30   96.0\n3            100  907.0"
                    }
                }
            ]
        }, 
        {
            "cell_type": "markdown", 
            "source": "<a id=\"Close-the-database-connection\"></a>\n## Close the database connection\n\nTo ensure expected behaviors, IdaDataBase instances need to be closed.\n\n__Note__: Closing the *IdaDataBase* is equivalent to closing the connection: once the connection is closed, it is no longer possible to use the *IdaDataBase* instance and any *IdaDataFrame* instances that were opened on this connection.", 
            "metadata": {}
        }, 
        {
            "cell_type": "code", 
            "execution_count": 25, 
            "metadata": {}, 
            "source": "idadb.close()", 
            "outputs": [
                {
                    "output_type": "stream", 
                    "text": "Connection closed.\n", 
                    "name": "stdout"
                }
            ]
        }, 
        {
            "cell_type": "markdown", 
            "source": "<a id=\"Share\"></a>\n## Share the notebook\nYou can share a notebook by selecting the Share icon.<br>\n<img alt=\"IBM Bluemix.Get started now\" src=\"https://raw.githubusercontent.com/jpatter/DSX/master/Lab-1/images/share-button.png\" ><br>\nThis displays a Share Notebook popup which gives the user a link which can can be sent to other users.   Anyone with the link will see the most recent version of the notebook.   The user can determine what level of notebook information will be shared.\n<img alt=\"IBM Bluemix.Get started now\" src=\"https://raw.githubusercontent.com/jpatter/DSX/master/Lab-1/images/Share-Window.PNG\" ><br>", 
            "metadata": {}
        }, 
        {
            "cell_type": "markdown", 
            "source": "<a id=\"GitHub\"></a>\n## Publish the notebook to gist/GitHub\n\nSelect the Github/Gist integration icon from the command bar (it looks like an open box with an arrow pointing up).<br>\n<img alt=\"IBM Bluemix.Get started now\" src=\"https://raw.githubusercontent.com/jpatter/DSX/master/Lab-1/images/github-button.png\" ><br>\n\nIf you wish to publish to a gist, nothing more is needed.   However, if you want to publish to github, you will need a security token.\n\nSelect Publish on GitHub<br>\n<img alt=\"IBM Bluemix.Get started now\" src=\"https://raw.githubusercontent.com/jpatter/DSX/master/Lab-1/images/NoGitHub.PNG\" ><br>\nYou will get a popup stating that you need to set a token in your account settings.   This can be reached by selecting the account settings link in the popup or by selecting your personal icon (upper right hand corner) and selecting settings.\n\n<img alt=\"IBM Bluemix.Get started now\" src=\"https://raw.githubusercontent.com/jpatter/DSX/master/Lab-1/images/Profile.PNG\" ><br>\nIn the Profile settings page select Integrations and paste your github token there.   \n\n<img alt=\"IBM Bluemix.Get started now\" src=\"https://raw.githubusercontent.com/jpatter/DSX/master/Lab-1/images/Integrations.PNG\" ><br>\nI have provided one for you should you wish to try this which uses the account at http://github.com/dsxspare3/DSX-Demo\n\nI broke it into two pieces because otherwise github will delete it when publishing to github because it is a valid token.   Paste them together when putting in the github token in DSX.\n\nPart 1: 8e8ff3b15d92438fc4  Part 2: a2a0aad611310d2562d8b5\n\nFinally, you need to add the URL for the GitHub in the Settings section of your project.\n\n<img alt=\"IBM Bluemix.Get started now\" src=\"https://raw.githubusercontent.com/jpatter/DSX/master/Lab-1/images/ProjectSettings.PNG\" ><br>\n\n<img alt=\"IBM Bluemix.Get started now\" src=\"https://raw.githubusercontent.com/jpatter/DSX/master/Lab-1/images/GitHubURL.PNG\" ><br>\n\nYou should now be able to publish to GitHub for this project.   When publishing, you are asked for the path to save.   Since all users will be using the same GitHub I suggest publishing to a folder with your username.", 
            "metadata": {}
        }, 
        {
            "cell_type": "markdown", 
            "source": "<a id=\"Help\"></a>\n## Get Help\n\nSelect the icon in the lower right corner \n<img alt=\"IBM Bluemix.Get started now\" src=\"https://raw.githubusercontent.com/jpatter/DSX/master/Lab-1/images/Help-Icon.PNG\"/>\nto display a help window connecting to IBM DSX Support.\n<img alt=\"IBM Bluemix.Get started now\" src=\"https://raw.githubusercontent.com/jpatter/DSX/master/Lab-1/images/Help-Window.PNG\"/>", 
            "metadata": {}
        }, 
        {
            "cell_type": "markdown", 
            "source": "<a id=\"Summary\"></a>\n## Summary\n\nThis notebook demonstrated how to establish a JDBC connection to a DB2 Warehouse (or DB2) database from Python, work with data frames and explore the data using SQL and data frame object attributes and methods.", 
            "metadata": {}
        }, 
        {
            "cell_type": "markdown", 
            "source": "## Take it farther\n### Free courses on <a href=\"https://cognitiveclass.ai/courses/?utm_source=tutorial-dashdb-python&utm_medium=github&utm_campaign=bdu/\" rel=\"noopener noreferrer\" target=\"_blank\">Cognitive Class.ai</a>: <a href=\"https://bigdatauniversity.com/courses/?utm_source=tutorial-dashdb-python&utm_medium=github&utm_campaign=bdu\" rel=\"noopener noreferrer\" target=\"_blank\"><img src = \"https://ibm.box.com/shared/static/xomeu7dacwufkoawbg3owc8wzuezltn6.png\" width=600px> </a>", 
            "metadata": {}
        }, 
        {
            "cell_type": "code", 
            "execution_count": null, 
            "metadata": {}, 
            "source": "", 
            "outputs": []
        }
    ], 
    "nbformat": 4, 
    "nbformat_minor": 1, 
    "metadata": {
        "kernelspec": {
            "language": "python", 
            "display_name": "Python 3.5 (Experimental) with Spark 2.1", 
            "name": "python3-spark21"
        }, 
        "language_info": {
            "pygments_lexer": "ipython3", 
            "mimetype": "text/x-python", 
            "nbconvert_exporter": "python", 
            "name": "python", 
            "file_extension": ".py", 
            "version": "3.5.2", 
            "codemirror_mode": {
                "version": 3, 
                "name": "ipython"
            }
        }
    }
}