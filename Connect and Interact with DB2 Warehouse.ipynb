{
    "metadata": {
        "language_info": {
            "codemirror_mode": {
                "version": 3, 
                "name": "ipython"
            }, 
            "file_extension": ".py", 
            "nbconvert_exporter": "python", 
            "mimetype": "text/x-python", 
            "pygments_lexer": "ipython3", 
            "name": "python", 
            "version": "3.5.2"
        }, 
        "kernelspec": {
            "display_name": "Python 3.5 (Experimental) with Spark 2.1", 
            "language": "python", 
            "name": "python3-spark21"
        }
    }, 
    "nbformat": 4, 
    "cells": [
        {
            "metadata": {}, 
            "cell_type": "markdown", 
            "source": "\n# Access DB2 Warehouse on Cloud and explore the data with Python\n\nThis notebook shows how to access a DB2 data warehouse or DB2 database when using Python. The examples use a DB2 warehouse, but the instructions apply to both DB2 Warehouse and DB2.\n\n\n\n## Table of contents\n\n1. [Info](#Info)\n1. [Create Version](#Version)\n1. [Setup](#Setup) \n1. [Import the *ibmdbpy* Python library](#Import-the-ibmdbpy-Python-library)\n1. [Insert the database connection credentials](#Insert-the-database-connection-credentials)\n1. [Create the database connection](#Create-the-database-connection)\n1. [Use dataframe to read and manipulate tables](#Use-dataframe-to-read-and-manipulate-tables)\n1. [Use SQL](#Use-SQL)\n1. [Explore the trafficking data](#Explore-the-trafficking-data)\n1. [Close the database connection](#Close-the-database-connection)\n1. [Share the notebook](#Share)\n1. [Save to GitHub](#GitHub)\n1. [Help](#Help)\n1. [Summary](#Summary)\n\n<a id=\"Info\"></a>\n## Info\nSelect the Info icon to display general information about the notebook. <br>\n<img alt=\"IBM Bluemix.Get started now\" src=\"https://raw.githubusercontent.com/jpatter/DSX/master/Lab-1/images/info-button.png\" ><br>\nYou can change the notebook name or add a description here.  \n<img alt=\"IBM Bluemix.Get started now\" src=\"https://raw.githubusercontent.com/bleonardb3/DSX/master/Lab-1/images/Lab1Information.png\" >\n\n<a id=\"Version\"></a>\n## Create Version \n\nSave a version of the notebook by selecting File > Save Version \n<img alt=\"IBM Bluemix.Get started now\" src=\"https://raw.githubusercontent.com/jpatter/DSX/master/Lab-1/images/FileOptions.PNG\" > or by selecting the Versions icon. <img alt=\"IBM Bluemix.Get started now\" src=\"https://raw.githubusercontent.com/jpatter/DSX/master/Lab-1/images/versions-button.png\" ><br>\nYou can have up to ten (10) versions of a notebook.   Notebook versions are saved in a FIFO manner.\n\n<a id=\"Setup\"></a>\n## Setup\n\nBefore beginning you will need a *DB2 Warehouse on Cloud* instance. DB2 Warehouse is a fully managed cloud data warehouse, purpose-built for analytics. It offers massively parallel processing (MPP) scale and compatibility with a wide range of business intelligence (BI) tools.  \n\n1. __RIGHT-CLICK__ [this link](https://github.com/bleonardb3/DSX/raw/master/Lab-1/data/Female-human-trafficking.csv) and select __Save Link As...__ to save the `Female-human-trafficking.csv` file to your desktop.\n1. Download the [DB2 Warehouse setup instructions](https://github.com/bleonardb3/DSX/blob/master/Lab-1/DB2Warehouse_DSXPOT.pdf).  You need to download the PDF in order for the links to work.\n1. Open up the PDF file that you've just downloaded in the previous step and follow the instructions there to setup DB2 Warehouse, load the human trafficking data and create a DSX data connection.\n1. Click on the icon below to navigate to the DB2 Warehouse provisioning screen. \n\n<a class=\"ibm-tooltip\" href=\"https://console.ng.bluemix.net/catalog/services/dashdb\" target=\"_blank\" title=\"\" id=\"ibm-tooltip-0\">\n<img alt=\"IBM Bluemix.Get started now\" src=\"https://raw.githubusercontent.com/jpatter/DSX/master/Lab-1/images/DB2Warehouse.png\" >\n</a>\n\n<a id=\"Import-the-ibmdbpy-Python-library\"></a>\n## Import the *ibmdbpy* Python library\n\nPython support for DB Warehouse and DB2 is provided by the [ibmdbpy Python library](https://pypi.python.org/pypi/ibmdbpy). Connecting to DB2 Warehouse or DB2 is also enabled by a DB2 driver, libdb2.so.  The ibmdbpy project provides a Python interface for data manipulation and access to in-database algorithms in IBM DB2 Warehouse and IBM DB2. It accelerates Python analytics by seamlessly pushing operations written in Python into the underlying database for execution, thereby benefitting from in-database performance-enhancing features, such as columnar storage and parallel processing.\n\n### Setup a *JDBC* connection\nThe JDBC Connection is based on a Java virtual machine. From the ibmdbpy library you can use JDBC to connect to a remote DB2 Warehouse/DB2 instance. To be able to use JDBC to connect, we need to import the *JayDeBeApi* package and we need to add the DB2 Warehouse/DB2 data connector jar file to the java class path.\n\nTo run a cell, click on the cell and click the run button in the toolbar or press __SHIFT-ENTER__.\n\nRun the following commands to install and load the `JayDeBeApi` package and the `ibmdbpy` library into your notebook:"
        }, 
        {
            "metadata": {}, 
            "outputs": [], 
            "cell_type": "code", 
            "execution_count": 6, 
            "source": "import jaydebeapi\nfrom ibmdbpy import IdaDataBase\nfrom ibmdbpy import IdaDataFrame"
        }, 
        {
            "metadata": {}, 
            "outputs": [], 
            "cell_type": "code", 
            "execution_count": 7, 
            "source": "import pixiedust"
        }, 
        {
            "metadata": {}, 
            "outputs": [
                {
                    "output_type": "stream", 
                    "text": "Package already installed: file:///usr/local/src/data-connectors-1.4.1/db2jcc4-10.5.0.6.jar\n", 
                    "name": "stdout"
                }, 
                {
                    "metadata": {}, 
                    "output_type": "execute_result", 
                    "execution_count": 9, 
                    "data": {
                        "text/plain": "<pixiedust.packageManager.package.Package at 0x7efc7c9b5b70>"
                    }
                }
            ], 
            "cell_type": "code", 
            "execution_count": 9, 
            "source": "# connection jar for DB2 Warehouse on Cloud -- you may have to restart the kernel and re-run cells.   If you do, a warning will appear.\n\npixiedust.installPackage(\"file:///usr/local/src/data-connectors-1.4.1/db2jcc4-10.5.0.6.jar\")"
        }, 
        {
            "metadata": {}, 
            "cell_type": "markdown", 
            "source": "# @hidden_cell\n# The following code contains the credentials for a file in your IBM Cloud Object Storage.\n# You might want to remove those credentials before you share your notebook.\ncredentials_2 = {\n    'IBM_API_KEY_ID': 'u6PqCrHsrK32WSyOrXWgZyLX3DhtSgeToPZLat7ajC53',\n    'IAM_SERVICE_ID': 'iam-ServiceId-db5c3ffc-eef6-4cfc-a41b-c93b0382e8cd',\n    'ENDPOINT': 'https://s3-api.us-geo.objectstorage.service.networklayer.com',\n    'IBM_AUTH_ENDPOINT': 'https://iam.ng.bluemix.net/oidc/token',\n    'BUCKET': 'dsxlabs2bb36949eb3140ac9e3cbb1a26190518',\n    'FILE': 'Female-human-trafficking.csv'\n}\n<a id=\"Insert-the-database-connection-credentials\"></a>\n## Insert the database connection credentials\n\nClick on the cell below, then on the notebook toolbar, click the box of 1's and 0's, find your database connection and click the __Insert to code__ link under the connection name to have a `credential\n# @hidden_cell\ncredentials_2 = {\n  'database':'BLUDB',\n  'password':\"\"\"532da0445039\"\"\",\n  'sg_service_url':'https://sgmanager.ng.bluemix.net',\n  'host':'dashdb-entry-yp-dal09-07.services.dal.bluemix.net',\n  'username':'dash13303'\n}\ns_1` dictionary added to the notebook.\n\n<img alt=\"IBM Bluemix.Get started now\" src=\"https://raw.githubusercontent.com/jpatter/DSX/master/Lab-1/images/connections-button.png\" >\n\n__Note__: When this dictionary is inserted, it might have a different name than `credentials_1`.  If so change the dictionary name to `credentials_1` so that the rest of the notebook will work.\n\nConnecting to DB2 Warehouse requires the following information which are provided by the credentials dictionary inserted:\n* Database name \n* Host DNS name or IP address \n* Host port\n* Connection protocol\n* User ID\n* User password\n\nThe information `credentials_1` will be used to build a connection string in a subsequent step."
        }, 
        {
            "metadata": {}, 
            "outputs": [], 
            "cell_type": "code", 
            "execution_count": 17, 
            "source": "# insert connection here\ncredentials_1 = {\n  'database':'BLUDB',\n  'password':\"\"\"532da0445039\"\"\",\n  'sg_service_url':'https://sgmanager.ng.bluemix.net',\n  'host':'dashdb-entry-yp-dal09-07.services.dal.bluemix.net',\n  'username':'dash13303'\n}"
        }, 
        {
            "metadata": {}, 
            "cell_type": "markdown", 
            "source": "<a id=\"Create-the-database-connection\"></a>\n## Create the database connection\n\nThe following code snippet creates a connection string `connection_string`\nand uses the `connection_string` to create a database connection object:\n"
        }, 
        {
            "metadata": {}, 
            "outputs": [], 
            "cell_type": "code", 
            "execution_count": 18, 
            "source": "connection_string='DASHDB;Database={database};Hostname={host};Port=50000;PROTOCOL=TCPIP;UID={username};PWD={password}'.format(**credentials_1)\nidadb = IdaDataBase(dsn=connection_string)"
        }, 
        {
            "metadata": {}, 
            "cell_type": "markdown", 
            "source": "<a id=\"Use-dataframe-to-read-and-manipulate-tables\"></a>\n## Use a dataframe to read and manipulate tables\n\nYou can now use the connection object `idadb` to query the database:"
        }, 
        {
            "metadata": {}, 
            "outputs": [
                {
                    "metadata": {}, 
                    "output_type": "execute_result", 
                    "execution_count": 19, 
                    "data": {
                        "text/plain": "  TABSCHEMA           TABNAME     OWNER TYPE\n0   GOSALES            BRANCH  DB2INST1    T\n1   GOSALES   CONVERSION_RATE  DB2INST1    T\n2   GOSALES           COUNTRY  DB2INST1    T\n3   GOSALES   CURRENCY_LOOKUP  DB2INST1    T\n4   GOSALES   EURO_CONVERSION  DB2INST1    T\n5   GOSALES  INVENTORY_LEVELS  DB2INST1    T\n6   GOSALES     ORDER_DETAILS  DB2INST1    T\n7   GOSALES      ORDER_HEADER  DB2INST1    T\n8   GOSALES      ORDER_METHOD  DB2INST1    T\n9   GOSALES           PRODUCT  DB2INST1    T", 
                        "text/html": "<div>\n<table border=\"1\" class=\"dataframe\">\n  <thead>\n    <tr style=\"text-align: right;\">\n      <th></th>\n      <th>TABSCHEMA</th>\n      <th>TABNAME</th>\n      <th>OWNER</th>\n      <th>TYPE</th>\n    </tr>\n  </thead>\n  <tbody>\n    <tr>\n      <th>0</th>\n      <td>GOSALES</td>\n      <td>BRANCH</td>\n      <td>DB2INST1</td>\n      <td>T</td>\n    </tr>\n    <tr>\n      <th>1</th>\n      <td>GOSALES</td>\n      <td>CONVERSION_RATE</td>\n      <td>DB2INST1</td>\n      <td>T</td>\n    </tr>\n    <tr>\n      <th>2</th>\n      <td>GOSALES</td>\n      <td>COUNTRY</td>\n      <td>DB2INST1</td>\n      <td>T</td>\n    </tr>\n    <tr>\n      <th>3</th>\n      <td>GOSALES</td>\n      <td>CURRENCY_LOOKUP</td>\n      <td>DB2INST1</td>\n      <td>T</td>\n    </tr>\n    <tr>\n      <th>4</th>\n      <td>GOSALES</td>\n      <td>EURO_CONVERSION</td>\n      <td>DB2INST1</td>\n      <td>T</td>\n    </tr>\n    <tr>\n      <th>5</th>\n      <td>GOSALES</td>\n      <td>INVENTORY_LEVELS</td>\n      <td>DB2INST1</td>\n      <td>T</td>\n    </tr>\n    <tr>\n      <th>6</th>\n      <td>GOSALES</td>\n      <td>ORDER_DETAILS</td>\n      <td>DB2INST1</td>\n      <td>T</td>\n    </tr>\n    <tr>\n      <th>7</th>\n      <td>GOSALES</td>\n      <td>ORDER_HEADER</td>\n      <td>DB2INST1</td>\n      <td>T</td>\n    </tr>\n    <tr>\n      <th>8</th>\n      <td>GOSALES</td>\n      <td>ORDER_METHOD</td>\n      <td>DB2INST1</td>\n      <td>T</td>\n    </tr>\n    <tr>\n      <th>9</th>\n      <td>GOSALES</td>\n      <td>PRODUCT</td>\n      <td>DB2INST1</td>\n      <td>T</td>\n    </tr>\n  </tbody>\n</table>\n</div>"
                    }
                }
            ], 
            "cell_type": "code", 
            "execution_count": 19, 
            "source": "df = idadb.show_tables(show_all = True)\ndf.head(10)"
        }, 
        {
            "metadata": {}, 
            "outputs": [
                {
                    "metadata": {}, 
                    "output_type": "execute_result", 
                    "execution_count": 20, 
                    "data": {
                        "text/plain": "True"
                    }
                }
            ], 
            "cell_type": "code", 
            "execution_count": 20, 
            "source": "idadb.exists_table_or_view('GOSALESDW.EMP_EXPENSE_FACT')"
        }, 
        {
            "metadata": {}, 
            "cell_type": "markdown", 
            "source": "Using our previously opened IdaDataBase instance named \u2018idadb\u2019, we can open one or several IdaDataFrame objects. They behave like pointers to remote tables.\n\nLet us open the *EMP_EXPENSE_FACT* data set, assuming it is stored in the database under the name \u2018GOSALESDW.EMP_EXPENSE_FACT\u2019. The following cell assigns the dataset to a IdaDataFrame.   IdaDataFrame copies the Pandas interface for DataFrame objects to ensure intuitive interaction for end-users.\n\nThe [Pandas data analysis library](http://pandas.pydata.org/) provides high-performance, easy-to-use data structures and data analysis tools for the Python programming language. Pandas allows easy processing and manipulation of tabular data, so it is a perfect fit for data extracted from relational databases.\n"
        }, 
        {
            "metadata": {}, 
            "outputs": [
                {
                    "metadata": {}, 
                    "output_type": "execute_result", 
                    "execution_count": 26, 
                    "data": {
                        "text/plain": "    DAY_KEY  ORGANIZATION_KEY  POSITION_KEY  EMPLOYEE_KEY  EXPENSE_TYPE_KEY  \\\n0  20100131             11106         43638          4011              2131   \n1  20100131             11106         43638          4011              2122   \n2  20100131             11106         43638          4011              2120   \n3  20100131             11106         43638          4011              2130   \n4  20100131             11106         43638          4011              2124   \n\n   ACCOUNT_KEY  EXPENSE_UNIT_QUANTITY  EXPENSE_TOTAL  \n0         8049                165.000        3378.21  \n1         8054                  0.110         554.72  \n2         8052                  0.080         403.44  \n3         8050                  0.005        1664.70  \n4         8056                  0.030         151.29  ", 
                        "text/html": "<div>\n<table border=\"1\" class=\"dataframe\">\n  <thead>\n    <tr style=\"text-align: right;\">\n      <th></th>\n      <th>DAY_KEY</th>\n      <th>ORGANIZATION_KEY</th>\n      <th>POSITION_KEY</th>\n      <th>EMPLOYEE_KEY</th>\n      <th>EXPENSE_TYPE_KEY</th>\n      <th>ACCOUNT_KEY</th>\n      <th>EXPENSE_UNIT_QUANTITY</th>\n      <th>EXPENSE_TOTAL</th>\n    </tr>\n  </thead>\n  <tbody>\n    <tr>\n      <th>0</th>\n      <td>20100131</td>\n      <td>11106</td>\n      <td>43638</td>\n      <td>4011</td>\n      <td>2131</td>\n      <td>8049</td>\n      <td>165.000</td>\n      <td>3378.21</td>\n    </tr>\n    <tr>\n      <th>1</th>\n      <td>20100131</td>\n      <td>11106</td>\n      <td>43638</td>\n      <td>4011</td>\n      <td>2122</td>\n      <td>8054</td>\n      <td>0.110</td>\n      <td>554.72</td>\n    </tr>\n    <tr>\n      <th>2</th>\n      <td>20100131</td>\n      <td>11106</td>\n      <td>43638</td>\n      <td>4011</td>\n      <td>2120</td>\n      <td>8052</td>\n      <td>0.080</td>\n      <td>403.44</td>\n    </tr>\n    <tr>\n      <th>3</th>\n      <td>20100131</td>\n      <td>11106</td>\n      <td>43638</td>\n      <td>4011</td>\n      <td>2130</td>\n      <td>8050</td>\n      <td>0.005</td>\n      <td>1664.70</td>\n    </tr>\n    <tr>\n      <th>4</th>\n      <td>20100131</td>\n      <td>11106</td>\n      <td>43638</td>\n      <td>4011</td>\n      <td>2124</td>\n      <td>8056</td>\n      <td>0.030</td>\n      <td>151.29</td>\n    </tr>\n  </tbody>\n</table>\n</div>"
                    }
                }
            ], 
            "cell_type": "code", 
            "execution_count": 26, 
            "source": "idadf1 = IdaDataFrame(idadb, 'GOSALESDW.EMP_EXPENSE_FACT')\nidadf1.head()"
        }, 
        {
            "metadata": {}, 
            "cell_type": "markdown", 
            "source": "\nfrom ibmdbpy import IdaDataBase, IdaDataFrame\n\n# @hidden_cell\n# This connection object is used to access your data and contains your credentials.\n# You might want to remove those credentials before you share your notebook.\nidadb_bcbe474539bb440b98ee4167bc6494cc = IdaDataBase(dsn='DASHDB;Database=BLUDB;Hostname=dashdb-entry-yp-dal09-07.services.dal.bluemix.net;Port=50000;PROTOCOL=TCPIP;UID=dash13303;PWD=532da0445039')\n\nida_df_1 = IdaDataFrame(idadb_bcbe474539bb440b98ee4167bc6494cc, 'GOSALESDW.EMP_EXPENSE_FACT')\nida_df_1.head()\n\n# You can close the database connection with the following code. Please keep the comment line with the @hidden_cell tag,\n# because the close function displays parts of the credentials.\n# @hidden_cell\n# idadb_bcbe474539bb440b98ee4167bc6494cc.close()\n# To learn more about the ibmdby package, please read the documentation: http://pythonhosted.org/ibmdbpy/\n### Automatic creation of dataframes for tables<br>\n<div class=\"panel-group\" id=\"accordion-1\">\n  <div class=\"panel panel-default\">\n    <div class=\"panel-heading\">\n      <h4 class=\"panel-title\"><a data-toggle=\"collapse\" data-parent=\"#accordion-1\" href=\"#collapse1-1\">Optional Advanced:</a></h4>\n    </div>\n    <div id=\"collapse1-1\" class=\"panel-collapse collapse\">\n      <div class=\"panel-body\">\nTry adding the IdaDataFrame for the table in question from the Connections view -- do all the following commands still work?<br><br>\nTo add the dataframe, select the \"Find and Add Data\" icon (the one with 0 and 1s), select Connections, then \"Insert to code\" for the dataframe.    You will have to select the schema and table to use.\n\n      </div>\n    </div>\n  </div>\n</div>"
        }, 
        {
            "metadata": {}, 
            "outputs": [
                {
                    "metadata": {}, 
                    "output_type": "execute_result", 
                    "execution_count": 27, 
                    "data": {
                        "text/plain": "    DAY_KEY  ORGANIZATION_KEY  POSITION_KEY  EMPLOYEE_KEY  EXPENSE_TYPE_KEY  \\\n0  20100131             11106         43638          4011              2131   \n1  20100131             11106         43638          4011              2122   \n2  20100131             11106         43638          4011              2120   \n3  20100131             11106         43638          4011              2130   \n4  20100131             11106         43638          4011              2124   \n\n   ACCOUNT_KEY  EXPENSE_UNIT_QUANTITY  EXPENSE_TOTAL  \n0         8049                165.000        3378.21  \n1         8054                  0.110         554.72  \n2         8052                  0.080         403.44  \n3         8050                  0.005        1664.70  \n4         8056                  0.030         151.29  ", 
                        "text/html": "<div>\n<table border=\"1\" class=\"dataframe\">\n  <thead>\n    <tr style=\"text-align: right;\">\n      <th></th>\n      <th>DAY_KEY</th>\n      <th>ORGANIZATION_KEY</th>\n      <th>POSITION_KEY</th>\n      <th>EMPLOYEE_KEY</th>\n      <th>EXPENSE_TYPE_KEY</th>\n      <th>ACCOUNT_KEY</th>\n      <th>EXPENSE_UNIT_QUANTITY</th>\n      <th>EXPENSE_TOTAL</th>\n    </tr>\n  </thead>\n  <tbody>\n    <tr>\n      <th>0</th>\n      <td>20100131</td>\n      <td>11106</td>\n      <td>43638</td>\n      <td>4011</td>\n      <td>2131</td>\n      <td>8049</td>\n      <td>165.000</td>\n      <td>3378.21</td>\n    </tr>\n    <tr>\n      <th>1</th>\n      <td>20100131</td>\n      <td>11106</td>\n      <td>43638</td>\n      <td>4011</td>\n      <td>2122</td>\n      <td>8054</td>\n      <td>0.110</td>\n      <td>554.72</td>\n    </tr>\n    <tr>\n      <th>2</th>\n      <td>20100131</td>\n      <td>11106</td>\n      <td>43638</td>\n      <td>4011</td>\n      <td>2120</td>\n      <td>8052</td>\n      <td>0.080</td>\n      <td>403.44</td>\n    </tr>\n    <tr>\n      <th>3</th>\n      <td>20100131</td>\n      <td>11106</td>\n      <td>43638</td>\n      <td>4011</td>\n      <td>2130</td>\n      <td>8050</td>\n      <td>0.005</td>\n      <td>1664.70</td>\n    </tr>\n    <tr>\n      <th>4</th>\n      <td>20100131</td>\n      <td>11106</td>\n      <td>43638</td>\n      <td>4011</td>\n      <td>2124</td>\n      <td>8056</td>\n      <td>0.030</td>\n      <td>151.29</td>\n    </tr>\n  </tbody>\n</table>\n</div>"
                    }
                }
            ], 
            "cell_type": "code", 
            "execution_count": 27, 
            "source": "# Try adding the dataframe here -- be sure to rename it to idadf so the following cells will still work\n#insert to code on connections tab then create IdaDataFrame\nfrom ibmdbpy import IdaDataBase, IdaDataFrame\nidadb_bcbe474539bb440b98ee4167bc6494cc = IdaDataBase(dsn='DASHDB;Database=BLUDB;Hostname=dashdb-entry-yp-dal09-07.services.dal.bluemix.net;Port=50000;PROTOCOL=TCPIP;UID=dash13303;PWD=532da0445039')\n\nidadf = IdaDataFrame(idadb_bcbe474539bb440b98ee4167bc6494cc, 'GOSALESDW.EMP_EXPENSE_FACT')\nidadf.head()"
        }, 
        {
            "metadata": {}, 
            "outputs": [
                {
                    "metadata": {}, 
                    "output_type": "execute_result", 
                    "execution_count": 31, 
                    "data": {
                        "text/plain": "                      TYPENAME\nDAY_KEY                INTEGER\nORGANIZATION_KEY       INTEGER\nPOSITION_KEY           INTEGER\nEMPLOYEE_KEY           INTEGER\nEXPENSE_TYPE_KEY       INTEGER\nACCOUNT_KEY            INTEGER\nEXPENSE_UNIT_QUANTITY   DOUBLE\nEXPENSE_TOTAL          DECIMAL", 
                        "text/html": "<div>\n<table border=\"1\" class=\"dataframe\">\n  <thead>\n    <tr style=\"text-align: right;\">\n      <th></th>\n      <th>TYPENAME</th>\n    </tr>\n  </thead>\n  <tbody>\n    <tr>\n      <th>DAY_KEY</th>\n      <td>INTEGER</td>\n    </tr>\n    <tr>\n      <th>ORGANIZATION_KEY</th>\n      <td>INTEGER</td>\n    </tr>\n    <tr>\n      <th>POSITION_KEY</th>\n      <td>INTEGER</td>\n    </tr>\n    <tr>\n      <th>EMPLOYEE_KEY</th>\n      <td>INTEGER</td>\n    </tr>\n    <tr>\n      <th>EXPENSE_TYPE_KEY</th>\n      <td>INTEGER</td>\n    </tr>\n    <tr>\n      <th>ACCOUNT_KEY</th>\n      <td>INTEGER</td>\n    </tr>\n    <tr>\n      <th>EXPENSE_UNIT_QUANTITY</th>\n      <td>DOUBLE</td>\n    </tr>\n    <tr>\n      <th>EXPENSE_TOTAL</th>\n      <td>DECIMAL</td>\n    </tr>\n  </tbody>\n</table>\n</div>"
                    }
                }
            ], 
            "cell_type": "code", 
            "execution_count": 31, 
            "source": "idadf.dtypes"
        }, 
        {
            "metadata": {}, 
            "cell_type": "markdown", 
            "source": "You can very easily explore the data in the IdaDataFrame by using built in functions.\n\nUse IdaDataFrame.head to get the first n records of your data set (default 5):"
        }, 
        {
            "metadata": {}, 
            "outputs": [
                {
                    "metadata": {}, 
                    "output_type": "execute_result", 
                    "execution_count": 32, 
                    "data": {
                        "text/plain": "    DAY_KEY  ORGANIZATION_KEY  POSITION_KEY  EMPLOYEE_KEY  EXPENSE_TYPE_KEY  \\\n0  20100131             11142         43611          4809              2120   \n1  20100131             11143         43625          4563              2120   \n2  20100131             11143         43625          4563              2104   \n3  20100131             11142         43611          4809              2104   \n4  20100131             11143         43625          4563              2122   \n\n   ACCOUNT_KEY  EXPENSE_UNIT_QUANTITY  EXPENSE_TOTAL  \n0         8052                   0.08         233.33  \n1         8052                   0.08         168.67  \n2         8050                  30.00         383.33  \n3         8050                  15.00         265.15  \n4         8054                   0.11         231.92  ", 
                        "text/html": "<div>\n<table border=\"1\" class=\"dataframe\">\n  <thead>\n    <tr style=\"text-align: right;\">\n      <th></th>\n      <th>DAY_KEY</th>\n      <th>ORGANIZATION_KEY</th>\n      <th>POSITION_KEY</th>\n      <th>EMPLOYEE_KEY</th>\n      <th>EXPENSE_TYPE_KEY</th>\n      <th>ACCOUNT_KEY</th>\n      <th>EXPENSE_UNIT_QUANTITY</th>\n      <th>EXPENSE_TOTAL</th>\n    </tr>\n  </thead>\n  <tbody>\n    <tr>\n      <th>0</th>\n      <td>20100131</td>\n      <td>11142</td>\n      <td>43611</td>\n      <td>4809</td>\n      <td>2120</td>\n      <td>8052</td>\n      <td>0.08</td>\n      <td>233.33</td>\n    </tr>\n    <tr>\n      <th>1</th>\n      <td>20100131</td>\n      <td>11143</td>\n      <td>43625</td>\n      <td>4563</td>\n      <td>2120</td>\n      <td>8052</td>\n      <td>0.08</td>\n      <td>168.67</td>\n    </tr>\n    <tr>\n      <th>2</th>\n      <td>20100131</td>\n      <td>11143</td>\n      <td>43625</td>\n      <td>4563</td>\n      <td>2104</td>\n      <td>8050</td>\n      <td>30.00</td>\n      <td>383.33</td>\n    </tr>\n    <tr>\n      <th>3</th>\n      <td>20100131</td>\n      <td>11142</td>\n      <td>43611</td>\n      <td>4809</td>\n      <td>2104</td>\n      <td>8050</td>\n      <td>15.00</td>\n      <td>265.15</td>\n    </tr>\n    <tr>\n      <th>4</th>\n      <td>20100131</td>\n      <td>11143</td>\n      <td>43625</td>\n      <td>4563</td>\n      <td>2122</td>\n      <td>8054</td>\n      <td>0.11</td>\n      <td>231.92</td>\n    </tr>\n  </tbody>\n</table>\n</div>"
                    }
                }
            ], 
            "cell_type": "code", 
            "execution_count": 32, 
            "source": "idadf.head()"
        }, 
        {
            "metadata": {}, 
            "cell_type": "markdown", 
            "source": "Use IdaDataFrame.tail to get the last n records of your data set (default 5) -- try running this multiple times:"
        }, 
        {
            "metadata": {
                "scrolled": true
            }, 
            "outputs": [
                {
                    "metadata": {}, 
                    "output_type": "execute_result", 
                    "execution_count": 33, 
                    "data": {
                        "text/plain": "         DAY_KEY  ORGANIZATION_KEY  POSITION_KEY  EMPLOYEE_KEY  \\\n127974  20130731             11169         43638          4125   \n127975  20130731             11169         43638          4125   \n127976  20130731             11169         43638          4125   \n127977  20130731             11169         43638          4125   \n127978  20130731             11169         43638          4125   \n127979  20130731             11168         43639          4127   \n127980  20130731             11168         43639          4127   \n127981  20130731             11168         43639          4127   \n127982  20130731             11168         43639          4127   \n127983  20130731             11168         43639          4127   \n\n        EXPENSE_TYPE_KEY  ACCOUNT_KEY  EXPENSE_UNIT_QUANTITY  EXPENSE_TOTAL  \n127974              2120         8052                  0.080         791.68  \n127975              2122         8054                  0.110        1088.56  \n127976              2124         8056                  0.030         296.88  \n127977              2130         8050                  0.005        6057.97  \n127978              2131         8049                157.500        3664.39  \n127979              2120         8052                  0.080         492.11  \n127980              2122         8054                  0.110         676.65  \n127981              2124         8056                  0.030         184.54  \n127982              2130         8050                  0.005        1795.57  \n127983              2131         8049                165.000        4355.77  ", 
                        "text/html": "<div>\n<table border=\"1\" class=\"dataframe\">\n  <thead>\n    <tr style=\"text-align: right;\">\n      <th></th>\n      <th>DAY_KEY</th>\n      <th>ORGANIZATION_KEY</th>\n      <th>POSITION_KEY</th>\n      <th>EMPLOYEE_KEY</th>\n      <th>EXPENSE_TYPE_KEY</th>\n      <th>ACCOUNT_KEY</th>\n      <th>EXPENSE_UNIT_QUANTITY</th>\n      <th>EXPENSE_TOTAL</th>\n    </tr>\n  </thead>\n  <tbody>\n    <tr>\n      <th>127974</th>\n      <td>20130731</td>\n      <td>11169</td>\n      <td>43638</td>\n      <td>4125</td>\n      <td>2120</td>\n      <td>8052</td>\n      <td>0.080</td>\n      <td>791.68</td>\n    </tr>\n    <tr>\n      <th>127975</th>\n      <td>20130731</td>\n      <td>11169</td>\n      <td>43638</td>\n      <td>4125</td>\n      <td>2122</td>\n      <td>8054</td>\n      <td>0.110</td>\n      <td>1088.56</td>\n    </tr>\n    <tr>\n      <th>127976</th>\n      <td>20130731</td>\n      <td>11169</td>\n      <td>43638</td>\n      <td>4125</td>\n      <td>2124</td>\n      <td>8056</td>\n      <td>0.030</td>\n      <td>296.88</td>\n    </tr>\n    <tr>\n      <th>127977</th>\n      <td>20130731</td>\n      <td>11169</td>\n      <td>43638</td>\n      <td>4125</td>\n      <td>2130</td>\n      <td>8050</td>\n      <td>0.005</td>\n      <td>6057.97</td>\n    </tr>\n    <tr>\n      <th>127978</th>\n      <td>20130731</td>\n      <td>11169</td>\n      <td>43638</td>\n      <td>4125</td>\n      <td>2131</td>\n      <td>8049</td>\n      <td>157.500</td>\n      <td>3664.39</td>\n    </tr>\n    <tr>\n      <th>127979</th>\n      <td>20130731</td>\n      <td>11168</td>\n      <td>43639</td>\n      <td>4127</td>\n      <td>2120</td>\n      <td>8052</td>\n      <td>0.080</td>\n      <td>492.11</td>\n    </tr>\n    <tr>\n      <th>127980</th>\n      <td>20130731</td>\n      <td>11168</td>\n      <td>43639</td>\n      <td>4127</td>\n      <td>2122</td>\n      <td>8054</td>\n      <td>0.110</td>\n      <td>676.65</td>\n    </tr>\n    <tr>\n      <th>127981</th>\n      <td>20130731</td>\n      <td>11168</td>\n      <td>43639</td>\n      <td>4127</td>\n      <td>2124</td>\n      <td>8056</td>\n      <td>0.030</td>\n      <td>184.54</td>\n    </tr>\n    <tr>\n      <th>127982</th>\n      <td>20130731</td>\n      <td>11168</td>\n      <td>43639</td>\n      <td>4127</td>\n      <td>2130</td>\n      <td>8050</td>\n      <td>0.005</td>\n      <td>1795.57</td>\n    </tr>\n    <tr>\n      <th>127983</th>\n      <td>20130731</td>\n      <td>11168</td>\n      <td>43639</td>\n      <td>4127</td>\n      <td>2131</td>\n      <td>8049</td>\n      <td>165.000</td>\n      <td>4355.77</td>\n    </tr>\n  </tbody>\n</table>\n</div>"
                    }
                }
            ], 
            "cell_type": "code", 
            "execution_count": 33, 
            "source": "idadf.tail(10)"
        }, 
        {
            "metadata": {}, 
            "cell_type": "markdown", 
            "source": "__Note__: Because DB2 Warehouse operates on a distributed system, the order of rows using IdaDataFrame.head and IdaDataFrame.tail is not guaranteed unless the table is sorted (using an \u2018ORDER BY\u2019 clause) or a column is declared as index for the IdaDataFrame (parameter/attribute indexer).\n\nIdaDataFrame also implements most attributes that are available in a pandas DataFrame, here is an example of getting the _shape_ of the data frame (rows, columns):"
        }, 
        {
            "metadata": {}, 
            "outputs": [
                {
                    "metadata": {}, 
                    "output_type": "execute_result", 
                    "execution_count": 34, 
                    "data": {
                        "text/plain": "(127984, 8)"
                    }
                }
            ], 
            "cell_type": "code", 
            "execution_count": 34, 
            "source": "idadf.shape"
        }, 
        {
            "metadata": {}, 
            "outputs": [
                {
                    "metadata": {}, 
                    "output_type": "execute_result", 
                    "execution_count": 35, 
                    "data": {
                        "text/plain": "Index(['DAY_KEY', 'ORGANIZATION_KEY', 'POSITION_KEY', 'EMPLOYEE_KEY',\n       'EXPENSE_TYPE_KEY', 'ACCOUNT_KEY', 'EXPENSE_UNIT_QUANTITY',\n       'EXPENSE_TOTAL'],\n      dtype='object')"
                    }
                }
            ], 
            "cell_type": "code", 
            "execution_count": 35, 
            "source": "idadf.columns"
        }, 
        {
            "metadata": {}, 
            "cell_type": "markdown", 
            "source": "Several standard statistics functions from the pandas interface are also available for IdaDataFrame.  You can use the __TAB__ key after the `.` to see the methods and attributes available in an object in a pulldown menu. \n\nFor example, let us calculate various summary statistics for the data set by using the `describe()` method for the IdaDataFrame instance:"
        }, 
        {
            "metadata": {
                "scrolled": true
            }, 
            "outputs": [
                {
                    "metadata": {}, 
                    "output_type": "execute_result", 
                    "execution_count": 37, 
                    "data": {
                        "text/plain": "            DAY_KEY  ORGANIZATION_KEY   POSITION_KEY   EMPLOYEE_KEY  \\\ncount  1.279840e+05     127984.000000  127984.000000  127984.000000   \nmean   2.011514e+07      11157.820524   43627.441797    4489.672811   \nstd    1.036554e+04         31.272648      12.175158     298.987628   \nmin    2.010013e+07      11101.000000   43601.000000    4001.000000   \n25%    2.011013e+07      11131.000000   43617.000000    4216.000000   \n50%    2.011123e+07      11166.000000   43630.000000    4480.000000   \n75%    2.012103e+07      11182.000000   43637.000000    4763.000000   \nmax    2.013073e+07      11204.000000   43656.000000    4972.000000   \n\n       EXPENSE_TYPE_KEY    ACCOUNT_KEY  EXPENSE_UNIT_QUANTITY  EXPENSE_TOTAL  \ncount     127984.000000  127984.000000          127984.000000  127984.000000  \nmean        2120.315289    8052.091636              31.291244    1318.107960  \nstd            9.386336       2.532779              57.717638    2078.720318  \nmin         2101.000000    8049.000000             -15.000000    -658.010000  \n25%         2120.000000    8050.000000               0.080000     211.280000  \n50%         2122.000000    8052.000000               0.110000     438.045000  \n75%         2124.000000    8054.000000              16.250000    1598.345000  \nmax         2137.000000    8056.000000             172.500000   28776.920000  ", 
                        "text/html": "<div>\n<table border=\"1\" class=\"dataframe\">\n  <thead>\n    <tr style=\"text-align: right;\">\n      <th></th>\n      <th>DAY_KEY</th>\n      <th>ORGANIZATION_KEY</th>\n      <th>POSITION_KEY</th>\n      <th>EMPLOYEE_KEY</th>\n      <th>EXPENSE_TYPE_KEY</th>\n      <th>ACCOUNT_KEY</th>\n      <th>EXPENSE_UNIT_QUANTITY</th>\n      <th>EXPENSE_TOTAL</th>\n    </tr>\n  </thead>\n  <tbody>\n    <tr>\n      <th>count</th>\n      <td>1.279840e+05</td>\n      <td>127984.000000</td>\n      <td>127984.000000</td>\n      <td>127984.000000</td>\n      <td>127984.000000</td>\n      <td>127984.000000</td>\n      <td>127984.000000</td>\n      <td>127984.000000</td>\n    </tr>\n    <tr>\n      <th>mean</th>\n      <td>2.011514e+07</td>\n      <td>11157.820524</td>\n      <td>43627.441797</td>\n      <td>4489.672811</td>\n      <td>2120.315289</td>\n      <td>8052.091636</td>\n      <td>31.291244</td>\n      <td>1318.107960</td>\n    </tr>\n    <tr>\n      <th>std</th>\n      <td>1.036554e+04</td>\n      <td>31.272648</td>\n      <td>12.175158</td>\n      <td>298.987628</td>\n      <td>9.386336</td>\n      <td>2.532779</td>\n      <td>57.717638</td>\n      <td>2078.720318</td>\n    </tr>\n    <tr>\n      <th>min</th>\n      <td>2.010013e+07</td>\n      <td>11101.000000</td>\n      <td>43601.000000</td>\n      <td>4001.000000</td>\n      <td>2101.000000</td>\n      <td>8049.000000</td>\n      <td>-15.000000</td>\n      <td>-658.010000</td>\n    </tr>\n    <tr>\n      <th>25%</th>\n      <td>2.011013e+07</td>\n      <td>11131.000000</td>\n      <td>43617.000000</td>\n      <td>4216.000000</td>\n      <td>2120.000000</td>\n      <td>8050.000000</td>\n      <td>0.080000</td>\n      <td>211.280000</td>\n    </tr>\n    <tr>\n      <th>50%</th>\n      <td>2.011123e+07</td>\n      <td>11166.000000</td>\n      <td>43630.000000</td>\n      <td>4480.000000</td>\n      <td>2122.000000</td>\n      <td>8052.000000</td>\n      <td>0.110000</td>\n      <td>438.045000</td>\n    </tr>\n    <tr>\n      <th>75%</th>\n      <td>2.012103e+07</td>\n      <td>11182.000000</td>\n      <td>43637.000000</td>\n      <td>4763.000000</td>\n      <td>2124.000000</td>\n      <td>8054.000000</td>\n      <td>16.250000</td>\n      <td>1598.345000</td>\n    </tr>\n    <tr>\n      <th>max</th>\n      <td>2.013073e+07</td>\n      <td>11204.000000</td>\n      <td>43656.000000</td>\n      <td>4972.000000</td>\n      <td>2137.000000</td>\n      <td>8056.000000</td>\n      <td>172.500000</td>\n      <td>28776.920000</td>\n    </tr>\n  </tbody>\n</table>\n</div>"
                    }
                }
            ], 
            "cell_type": "code", 
            "execution_count": 37, 
            "source": "idadf.describe()"
        }, 
        {
            "metadata": {}, 
            "cell_type": "markdown", 
            "source": "__Note__: It is possible to subset the rows of an IdaDataFrame by accessing the IdaDataFrame with a slice object. You can also use the IdaDataFrame.loc attribute, which contains an ibmdbpy.Loc object. However, the row selection might be inaccurate if the current IdaDataFrame is not sorted or does not contain an indexer. This is due to the fact that DB2 Warehouse stores the data across several nodes if available. Moreover, because DB2 Warehouse is by default a column oriented database, row numbers are undefined:"
        }, 
        {
            "metadata": {
                "scrolled": true
            }, 
            "outputs": [
                {
                    "output_type": "stream", 
                    "text": "/usr/local/src/conda3_runtime.v27/4.1.1/lib/python3.5/site-packages/ibmdbpy/indexing.py:118: UserWarning: Row order is not guaranteed if no indexer was given and the dataset was not sorted\n  \" was given and the dataset was not sorted\")\n", 
                    "name": "stderr"
                }, 
                {
                    "metadata": {}, 
                    "output_type": "execute_result", 
                    "execution_count": 38, 
                    "data": {
                        "text/plain": "    day_key  organization_key  position_key  employee_key  expense_type_key  \\\n0  20100531             11191         43650          4959              2122   \n1  20100531             11191         43650          4959              2131   \n2  20100531             11191         43650          4959              2124   \n3  20100630             11191         43650          4959              2120   \n4  20100630             11191         43650          4959              2131   \n5  20100630             11191         43650          4959              2124   \n6  20100630             11191         43650          4959              2122   \n7  20100731             11191         43650          4959              2120   \n8  20100731             11191         43650          4959              2124   \n9  20100731             11191         43650          4959              2122   \n\n   account_key  expense_unit_quantity  expense_total  \n0         8054                   0.11        1159.23  \n1         8049                 157.50       10538.46  \n2         8056                   0.03         316.15  \n3         8052                   0.08         843.08  \n4         8049                 165.00       10538.46  \n5         8056                   0.03         316.15  \n6         8054                   0.11        1159.23  \n7         8052                   0.08         843.08  \n8         8056                   0.03         316.15  \n9         8054                   0.11        1159.23  ", 
                        "text/html": "<div>\n<table border=\"1\" class=\"dataframe\">\n  <thead>\n    <tr style=\"text-align: right;\">\n      <th></th>\n      <th>day_key</th>\n      <th>organization_key</th>\n      <th>position_key</th>\n      <th>employee_key</th>\n      <th>expense_type_key</th>\n      <th>account_key</th>\n      <th>expense_unit_quantity</th>\n      <th>expense_total</th>\n    </tr>\n  </thead>\n  <tbody>\n    <tr>\n      <th>0</th>\n      <td>20100531</td>\n      <td>11191</td>\n      <td>43650</td>\n      <td>4959</td>\n      <td>2122</td>\n      <td>8054</td>\n      <td>0.11</td>\n      <td>1159.23</td>\n    </tr>\n    <tr>\n      <th>1</th>\n      <td>20100531</td>\n      <td>11191</td>\n      <td>43650</td>\n      <td>4959</td>\n      <td>2131</td>\n      <td>8049</td>\n      <td>157.50</td>\n      <td>10538.46</td>\n    </tr>\n    <tr>\n      <th>2</th>\n      <td>20100531</td>\n      <td>11191</td>\n      <td>43650</td>\n      <td>4959</td>\n      <td>2124</td>\n      <td>8056</td>\n      <td>0.03</td>\n      <td>316.15</td>\n    </tr>\n    <tr>\n      <th>3</th>\n      <td>20100630</td>\n      <td>11191</td>\n      <td>43650</td>\n      <td>4959</td>\n      <td>2120</td>\n      <td>8052</td>\n      <td>0.08</td>\n      <td>843.08</td>\n    </tr>\n    <tr>\n      <th>4</th>\n      <td>20100630</td>\n      <td>11191</td>\n      <td>43650</td>\n      <td>4959</td>\n      <td>2131</td>\n      <td>8049</td>\n      <td>165.00</td>\n      <td>10538.46</td>\n    </tr>\n    <tr>\n      <th>5</th>\n      <td>20100630</td>\n      <td>11191</td>\n      <td>43650</td>\n      <td>4959</td>\n      <td>2124</td>\n      <td>8056</td>\n      <td>0.03</td>\n      <td>316.15</td>\n    </tr>\n    <tr>\n      <th>6</th>\n      <td>20100630</td>\n      <td>11191</td>\n      <td>43650</td>\n      <td>4959</td>\n      <td>2122</td>\n      <td>8054</td>\n      <td>0.11</td>\n      <td>1159.23</td>\n    </tr>\n    <tr>\n      <th>7</th>\n      <td>20100731</td>\n      <td>11191</td>\n      <td>43650</td>\n      <td>4959</td>\n      <td>2120</td>\n      <td>8052</td>\n      <td>0.08</td>\n      <td>843.08</td>\n    </tr>\n    <tr>\n      <th>8</th>\n      <td>20100731</td>\n      <td>11191</td>\n      <td>43650</td>\n      <td>4959</td>\n      <td>2124</td>\n      <td>8056</td>\n      <td>0.03</td>\n      <td>316.15</td>\n    </tr>\n    <tr>\n      <th>9</th>\n      <td>20100731</td>\n      <td>11191</td>\n      <td>43650</td>\n      <td>4959</td>\n      <td>2122</td>\n      <td>8054</td>\n      <td>0.11</td>\n      <td>1159.23</td>\n    </tr>\n  </tbody>\n</table>\n</div>"
                    }
                }
            ], 
            "cell_type": "code", 
            "execution_count": 38, 
            "source": "idadf_new = idadf[0:9] # Select the first 10 rows\nidadf_new.head(10)"
        }, 
        {
            "metadata": {}, 
            "cell_type": "markdown", 
            "source": "<a id=\"Use-SQL\"></a>\n## Use SQL\nWe can also use SQL to get the top 10."
        }, 
        {
            "metadata": {}, 
            "outputs": [
                {
                    "metadata": {}, 
                    "output_type": "execute_result", 
                    "execution_count": 39, 
                    "data": {
                        "text/plain": "    day_key  organization_key  position_key  employee_key  expense_type_key  \\\n0  20120731             11167         43636          4192              2122   \n1  20120731             11167         43636          4192              2124   \n2  20120731             11167         43636          4192              2131   \n3  20120831             11167         43636          4192              2120   \n4  20120831             11167         43636          4192              2122   \n5  20120831             11167         43636          4192              2124   \n6  20120831             11167         43636          4192              2131   \n7  20120930             11167         43636          4192              2120   \n8  20120930             11167         43636          4192              2122   \n9  20120930             11167         43636          4192              2124   \n\n   account_key  expense_unit_quantity  expense_total  \n0         8054                   0.11         620.16  \n1         8056                   0.03         169.13  \n2         8049                 157.50        5637.82  \n3         8052                   0.08         451.03  \n4         8054                   0.11         620.16  \n5         8056                   0.03         169.13  \n6         8049                 172.50        5637.82  \n7         8052                   0.08         451.03  \n8         8054                   0.11         620.16  \n9         8056                   0.03         169.13  ", 
                        "text/html": "<div>\n<table border=\"1\" class=\"dataframe\">\n  <thead>\n    <tr style=\"text-align: right;\">\n      <th></th>\n      <th>day_key</th>\n      <th>organization_key</th>\n      <th>position_key</th>\n      <th>employee_key</th>\n      <th>expense_type_key</th>\n      <th>account_key</th>\n      <th>expense_unit_quantity</th>\n      <th>expense_total</th>\n    </tr>\n  </thead>\n  <tbody>\n    <tr>\n      <th>0</th>\n      <td>20120731</td>\n      <td>11167</td>\n      <td>43636</td>\n      <td>4192</td>\n      <td>2122</td>\n      <td>8054</td>\n      <td>0.11</td>\n      <td>620.16</td>\n    </tr>\n    <tr>\n      <th>1</th>\n      <td>20120731</td>\n      <td>11167</td>\n      <td>43636</td>\n      <td>4192</td>\n      <td>2124</td>\n      <td>8056</td>\n      <td>0.03</td>\n      <td>169.13</td>\n    </tr>\n    <tr>\n      <th>2</th>\n      <td>20120731</td>\n      <td>11167</td>\n      <td>43636</td>\n      <td>4192</td>\n      <td>2131</td>\n      <td>8049</td>\n      <td>157.50</td>\n      <td>5637.82</td>\n    </tr>\n    <tr>\n      <th>3</th>\n      <td>20120831</td>\n      <td>11167</td>\n      <td>43636</td>\n      <td>4192</td>\n      <td>2120</td>\n      <td>8052</td>\n      <td>0.08</td>\n      <td>451.03</td>\n    </tr>\n    <tr>\n      <th>4</th>\n      <td>20120831</td>\n      <td>11167</td>\n      <td>43636</td>\n      <td>4192</td>\n      <td>2122</td>\n      <td>8054</td>\n      <td>0.11</td>\n      <td>620.16</td>\n    </tr>\n    <tr>\n      <th>5</th>\n      <td>20120831</td>\n      <td>11167</td>\n      <td>43636</td>\n      <td>4192</td>\n      <td>2124</td>\n      <td>8056</td>\n      <td>0.03</td>\n      <td>169.13</td>\n    </tr>\n    <tr>\n      <th>6</th>\n      <td>20120831</td>\n      <td>11167</td>\n      <td>43636</td>\n      <td>4192</td>\n      <td>2131</td>\n      <td>8049</td>\n      <td>172.50</td>\n      <td>5637.82</td>\n    </tr>\n    <tr>\n      <th>7</th>\n      <td>20120930</td>\n      <td>11167</td>\n      <td>43636</td>\n      <td>4192</td>\n      <td>2120</td>\n      <td>8052</td>\n      <td>0.08</td>\n      <td>451.03</td>\n    </tr>\n    <tr>\n      <th>8</th>\n      <td>20120930</td>\n      <td>11167</td>\n      <td>43636</td>\n      <td>4192</td>\n      <td>2122</td>\n      <td>8054</td>\n      <td>0.11</td>\n      <td>620.16</td>\n    </tr>\n    <tr>\n      <th>9</th>\n      <td>20120930</td>\n      <td>11167</td>\n      <td>43636</td>\n      <td>4192</td>\n      <td>2124</td>\n      <td>8056</td>\n      <td>0.03</td>\n      <td>169.13</td>\n    </tr>\n  </tbody>\n</table>\n</div>"
                    }
                }
            ], 
            "cell_type": "code", 
            "execution_count": 39, 
            "source": "top_10_df = idadb.ida_query('SELECT * FROM GOSALESDW.EMP_EXPENSE_FACT LIMIT 10')\ntop_10_df"
        }, 
        {
            "metadata": {}, 
            "cell_type": "markdown", 
            "source": "Find the top 10 employees (by id) by the number of transactions in the `GOSALESDW.EMP_EXPENSE_FACT` table."
        }, 
        {
            "metadata": {}, 
            "outputs": [
                {
                    "metadata": {}, 
                    "output_type": "execute_result", 
                    "execution_count": 42, 
                    "data": {
                        "text/plain": "   employee_key  count\n0          4112  263.0\n1          4134  263.0\n2          4135  261.0\n3          4019  260.0\n4          4368  260.0\n5          4053  260.0\n6          4016  260.0\n7          4129  259.0\n8          4480  259.0\n9          4020  258.0", 
                        "text/html": "<div>\n<table border=\"1\" class=\"dataframe\">\n  <thead>\n    <tr style=\"text-align: right;\">\n      <th></th>\n      <th>employee_key</th>\n      <th>count</th>\n    </tr>\n  </thead>\n  <tbody>\n    <tr>\n      <th>0</th>\n      <td>4112</td>\n      <td>263.0</td>\n    </tr>\n    <tr>\n      <th>1</th>\n      <td>4134</td>\n      <td>263.0</td>\n    </tr>\n    <tr>\n      <th>2</th>\n      <td>4135</td>\n      <td>261.0</td>\n    </tr>\n    <tr>\n      <th>3</th>\n      <td>4019</td>\n      <td>260.0</td>\n    </tr>\n    <tr>\n      <th>4</th>\n      <td>4368</td>\n      <td>260.0</td>\n    </tr>\n    <tr>\n      <th>5</th>\n      <td>4053</td>\n      <td>260.0</td>\n    </tr>\n    <tr>\n      <th>6</th>\n      <td>4016</td>\n      <td>260.0</td>\n    </tr>\n    <tr>\n      <th>7</th>\n      <td>4129</td>\n      <td>259.0</td>\n    </tr>\n    <tr>\n      <th>8</th>\n      <td>4480</td>\n      <td>259.0</td>\n    </tr>\n    <tr>\n      <th>9</th>\n      <td>4020</td>\n      <td>258.0</td>\n    </tr>\n  </tbody>\n</table>\n</div>"
                    }
                }
            ], 
            "cell_type": "code", 
            "execution_count": 42, 
            "source": "idadb.ida_query('SELECT EMPLOYEE_KEY, COUNT(*) AS COUNT FROM GOSALESDW.EMP_EXPENSE_FACT GROUP BY EMPLOYEE_KEY ORDER BY COUNT DESC LIMIT 10')"
        }, 
        {
            "metadata": {}, 
            "cell_type": "markdown", 
            "source": "<a id=\"Explore-the-trafficking-data\"></a>\n## Explore the trafficking data\n__Time to apply what you've learned!__\n\nComplete the tasks that are commented in the code blocks.  If you get stuck, check out the hints.  If you're still stuck, read the solution.  If you have any questions, feel free to ask."
        }, 
        {
            "metadata": {}, 
            "cell_type": "markdown", 
            "source": "### Create an ibmdbpy dataframe called `trafficking_df` and set it to the name of the trafficking table in your DB2 Warehouse <br>\n\n<div class=\"panel-group\" id=\"accordion-2\">\n  <div class=\"panel panel-default\">\n    <div class=\"panel-heading\">\n      <h4 class=\"panel-title\"><a data-toggle=\"collapse\" data-parent=\"#accordion-2\" href=\"#collapse2-1\">Hint 1</a></h4>\n    </div>\n    <div id=\"collapse2-1\" class=\"panel-collapse collapse\">\n      <div class=\"panel-body\">     \nUse the Connections table to insert the dataframe.   Be sure to name the result trafficking_df!\n      </div>\n    </div>\n  </div>\n  <div class=\"panel panel-default\">\n    <div class=\"panel-heading\">\n      <h4 class=\"panel-title\"><a data-toggle=\"collapse\" data-parent=\"#accordion-2\" href=\"#collapse2-2\">Solution</a></h4>\n    </div>\n    <div id=\"collapse2-2\" class=\"panel-collapse collapse\">\n      <div class=\"panel-body\">     \nSelect the data cell you wish the code to be added to<br>\nSelect the Find and Add Data icon<br>\nSelect Connections<br>\nSelect Insert to Code for the connection you wish to use (there should only be one)<br>\nSelect Insert ibmdbpy IdaDataframe<br>\nSelect the Schema you used to load the data (this schema should start with DASH)<br>\nSelect the Table (there should only be one)<br>\nSelect Insert Code<br>\nRename the result to trafficking_df\n      </div>\n    </div>\n  </div>\n</div>"
        }, 
        {
            "metadata": {}, 
            "outputs": [
                {
                    "metadata": {}, 
                    "output_type": "execute_result", 
                    "execution_count": 53, 
                    "data": {
                        "text/plain": "   INTERNAL_ID  VETTING_LEVEL DESCRIPTION  VETTING_LEVEL_PREDICTION  \\\n0            1            100          NA                        30   \n1            2             30          NA                        30   \n2            3            100          NA                        30   \n3            4            100          NA                        30   \n4            5             30          NA                        30   \n\n  ALGORITHM_NAME                      NAME GENDER  BIRTH_DATE BIRTH_COUNTRY  \\\n0  DECISION_TREE           Kathleen Bailey      F  1985-11-27         Ghana   \n1  DECISION_TREE             Kelly Robbins      F  1971-01-17      Pakistan   \n2  DECISION_TREE             Linda Stewart      F  1997-04-15         Ghana   \n3  DECISION_TREE  Stacey Courtney Gonzalez      F  1984-03-27         Ghana   \n4  DECISION_TREE        Erika Patie Fowler      F  1998-06-18         Ghana   \n\n  BIRTH_COUNTRY_CODE ... ARRIVAL_AIRPORT_COUNTRY_CODE ARRIVAL_AIRPORT_IATA  \\\n0                 GH ...                           US                  BMI   \n1                 PK ...                           US                  CLE   \n2                 GH ...                           US                  TPA   \n3                 GH ...                           US                  TOL   \n4                 GH ...                           US                  FWA   \n\n  ARRIVAL_AIRPORT_MUNICIPALITY  ARRIVAL_AIRPORT_REGION  \\\n0           Bloomington/Normal                   US-IL   \n1                    Cleveland                   US-OH   \n2                        Tampa                   US-FL   \n3                       Toledo                   US-OH   \n4                   Fort Wayne                   US-IN   \n\n  DEPARTURE_AIRPORT_COUNTRY_CODE DEPARTURE_AIRPORT_IATA  \\\n0                             AE                    AUH   \n1                             UA                    KBP   \n2                             RU                    KJA   \n3                             RU                    AER   \n4                             IE                    ORK   \n\n  DEPARTURE_AIRPORT_MUNICIPALITY  DEPARTURE_AIRPORT_REGION  \\\n0                      Abu Dhabi                     AE-AZ   \n1                           Kiev                     UA-32   \n2                    Krasnoyarsk                    RU-KYA   \n3                          Sochi                    RU-KDA   \n4                           Cork                      IE-C   \n\n                                   UUID AGE  \n0  81d28245-a6d4-40e3-bac0-df61cc6625ce  31  \n1  b4d817b3-2154-4351-b0e3-bcd736a76bf5  46  \n2  a52a6477-1f5e-4b09-a5e3-f76333a7eb10  19  \n3  5fcbbf15-8268-4306-ac26-406c2faae251  32  \n4  6d1fe59a-6828-4bc5-9ded-2194aa238461  18  \n\n[5 rows x 28 columns]", 
                        "text/html": "<div>\n<table border=\"1\" class=\"dataframe\">\n  <thead>\n    <tr style=\"text-align: right;\">\n      <th></th>\n      <th>INTERNAL_ID</th>\n      <th>VETTING_LEVEL</th>\n      <th>DESCRIPTION</th>\n      <th>VETTING_LEVEL_PREDICTION</th>\n      <th>ALGORITHM_NAME</th>\n      <th>NAME</th>\n      <th>GENDER</th>\n      <th>BIRTH_DATE</th>\n      <th>BIRTH_COUNTRY</th>\n      <th>BIRTH_COUNTRY_CODE</th>\n      <th>...</th>\n      <th>ARRIVAL_AIRPORT_COUNTRY_CODE</th>\n      <th>ARRIVAL_AIRPORT_IATA</th>\n      <th>ARRIVAL_AIRPORT_MUNICIPALITY</th>\n      <th>ARRIVAL_AIRPORT_REGION</th>\n      <th>DEPARTURE_AIRPORT_COUNTRY_CODE</th>\n      <th>DEPARTURE_AIRPORT_IATA</th>\n      <th>DEPARTURE_AIRPORT_MUNICIPALITY</th>\n      <th>DEPARTURE_AIRPORT_REGION</th>\n      <th>UUID</th>\n      <th>AGE</th>\n    </tr>\n  </thead>\n  <tbody>\n    <tr>\n      <th>0</th>\n      <td>1</td>\n      <td>100</td>\n      <td>NA</td>\n      <td>30</td>\n      <td>DECISION_TREE</td>\n      <td>Kathleen Bailey</td>\n      <td>F</td>\n      <td>1985-11-27</td>\n      <td>Ghana</td>\n      <td>GH</td>\n      <td>...</td>\n      <td>US</td>\n      <td>BMI</td>\n      <td>Bloomington/Normal</td>\n      <td>US-IL</td>\n      <td>AE</td>\n      <td>AUH</td>\n      <td>Abu Dhabi</td>\n      <td>AE-AZ</td>\n      <td>81d28245-a6d4-40e3-bac0-df61cc6625ce</td>\n      <td>31</td>\n    </tr>\n    <tr>\n      <th>1</th>\n      <td>2</td>\n      <td>30</td>\n      <td>NA</td>\n      <td>30</td>\n      <td>DECISION_TREE</td>\n      <td>Kelly Robbins</td>\n      <td>F</td>\n      <td>1971-01-17</td>\n      <td>Pakistan</td>\n      <td>PK</td>\n      <td>...</td>\n      <td>US</td>\n      <td>CLE</td>\n      <td>Cleveland</td>\n      <td>US-OH</td>\n      <td>UA</td>\n      <td>KBP</td>\n      <td>Kiev</td>\n      <td>UA-32</td>\n      <td>b4d817b3-2154-4351-b0e3-bcd736a76bf5</td>\n      <td>46</td>\n    </tr>\n    <tr>\n      <th>2</th>\n      <td>3</td>\n      <td>100</td>\n      <td>NA</td>\n      <td>30</td>\n      <td>DECISION_TREE</td>\n      <td>Linda Stewart</td>\n      <td>F</td>\n      <td>1997-04-15</td>\n      <td>Ghana</td>\n      <td>GH</td>\n      <td>...</td>\n      <td>US</td>\n      <td>TPA</td>\n      <td>Tampa</td>\n      <td>US-FL</td>\n      <td>RU</td>\n      <td>KJA</td>\n      <td>Krasnoyarsk</td>\n      <td>RU-KYA</td>\n      <td>a52a6477-1f5e-4b09-a5e3-f76333a7eb10</td>\n      <td>19</td>\n    </tr>\n    <tr>\n      <th>3</th>\n      <td>4</td>\n      <td>100</td>\n      <td>NA</td>\n      <td>30</td>\n      <td>DECISION_TREE</td>\n      <td>Stacey Courtney Gonzalez</td>\n      <td>F</td>\n      <td>1984-03-27</td>\n      <td>Ghana</td>\n      <td>GH</td>\n      <td>...</td>\n      <td>US</td>\n      <td>TOL</td>\n      <td>Toledo</td>\n      <td>US-OH</td>\n      <td>RU</td>\n      <td>AER</td>\n      <td>Sochi</td>\n      <td>RU-KDA</td>\n      <td>5fcbbf15-8268-4306-ac26-406c2faae251</td>\n      <td>32</td>\n    </tr>\n    <tr>\n      <th>4</th>\n      <td>5</td>\n      <td>30</td>\n      <td>NA</td>\n      <td>30</td>\n      <td>DECISION_TREE</td>\n      <td>Erika Patie Fowler</td>\n      <td>F</td>\n      <td>1998-06-18</td>\n      <td>Ghana</td>\n      <td>GH</td>\n      <td>...</td>\n      <td>US</td>\n      <td>FWA</td>\n      <td>Fort Wayne</td>\n      <td>US-IN</td>\n      <td>IE</td>\n      <td>ORK</td>\n      <td>Cork</td>\n      <td>IE-C</td>\n      <td>6d1fe59a-6828-4bc5-9ded-2194aa238461</td>\n      <td>18</td>\n    </tr>\n  </tbody>\n</table>\n<p>5 rows \u00d7 28 columns</p>\n</div>"
                    }
                }
            ], 
            "cell_type": "code", 
            "execution_count": 53, 
            "source": "# The code was removed by DSX for sharing."
        }, 
        {
            "metadata": {}, 
            "outputs": [
                {
                    "metadata": {}, 
                    "output_type": "execute_result", 
                    "execution_count": 54, 
                    "data": {
                        "text/plain": "True"
                    }
                }
            ], 
            "cell_type": "code", 
            "execution_count": 54, 
            "source": "idadb_bcbe474539bb440b98ee4167bc6494cc.exists_table_or_view(trafficking_df.name)\n\n# The output of this block should be:\n# True"
        }, 
        {
            "metadata": {}, 
            "outputs": [
                {
                    "output_type": "stream", 
                    "text": "(1085, 28)\n", 
                    "name": "stdout"
                }, 
                {
                    "metadata": {}, 
                    "output_type": "execute_result", 
                    "execution_count": 55, 
                    "data": {
                        "text/plain": "                                TYPENAME\nINTERNAL_ID                     SMALLINT\nVETTING_LEVEL                   SMALLINT\nDESCRIPTION                      VARCHAR\nVETTING_LEVEL_PREDICTION        SMALLINT\nALGORITHM_NAME                   VARCHAR\nNAME                             VARCHAR\nGENDER                           VARCHAR\nBIRTH_DATE                          DATE\nBIRTH_COUNTRY                    VARCHAR\nBIRTH_COUNTRY_CODE               VARCHAR\nOCCUPATION                       VARCHAR\nADDRESS                          VARCHAR\nSSN                              VARCHAR\nPASSPORT_NUMBER                  INTEGER\nPASSPORT_COUNTRY                 VARCHAR\nPASSPORT_COUNTRY_CODE            VARCHAR\nCOUNTRIES_VISITED                VARCHAR\nCOUNTRIES_VISITED_COUNT         SMALLINT\nARRIVAL_AIRPORT_COUNTRY_CODE     VARCHAR\nARRIVAL_AIRPORT_IATA             VARCHAR\nARRIVAL_AIRPORT_MUNICIPALITY     VARCHAR\nARRIVAL_AIRPORT_REGION           VARCHAR\nDEPARTURE_AIRPORT_COUNTRY_CODE   VARCHAR\nDEPARTURE_AIRPORT_IATA           VARCHAR\nDEPARTURE_AIRPORT_MUNICIPALITY   VARCHAR\nDEPARTURE_AIRPORT_REGION         VARCHAR\nUUID                             VARCHAR\nAGE                             SMALLINT", 
                        "text/html": "<div>\n<table border=\"1\" class=\"dataframe\">\n  <thead>\n    <tr style=\"text-align: right;\">\n      <th></th>\n      <th>TYPENAME</th>\n    </tr>\n  </thead>\n  <tbody>\n    <tr>\n      <th>INTERNAL_ID</th>\n      <td>SMALLINT</td>\n    </tr>\n    <tr>\n      <th>VETTING_LEVEL</th>\n      <td>SMALLINT</td>\n    </tr>\n    <tr>\n      <th>DESCRIPTION</th>\n      <td>VARCHAR</td>\n    </tr>\n    <tr>\n      <th>VETTING_LEVEL_PREDICTION</th>\n      <td>SMALLINT</td>\n    </tr>\n    <tr>\n      <th>ALGORITHM_NAME</th>\n      <td>VARCHAR</td>\n    </tr>\n    <tr>\n      <th>NAME</th>\n      <td>VARCHAR</td>\n    </tr>\n    <tr>\n      <th>GENDER</th>\n      <td>VARCHAR</td>\n    </tr>\n    <tr>\n      <th>BIRTH_DATE</th>\n      <td>DATE</td>\n    </tr>\n    <tr>\n      <th>BIRTH_COUNTRY</th>\n      <td>VARCHAR</td>\n    </tr>\n    <tr>\n      <th>BIRTH_COUNTRY_CODE</th>\n      <td>VARCHAR</td>\n    </tr>\n    <tr>\n      <th>OCCUPATION</th>\n      <td>VARCHAR</td>\n    </tr>\n    <tr>\n      <th>ADDRESS</th>\n      <td>VARCHAR</td>\n    </tr>\n    <tr>\n      <th>SSN</th>\n      <td>VARCHAR</td>\n    </tr>\n    <tr>\n      <th>PASSPORT_NUMBER</th>\n      <td>INTEGER</td>\n    </tr>\n    <tr>\n      <th>PASSPORT_COUNTRY</th>\n      <td>VARCHAR</td>\n    </tr>\n    <tr>\n      <th>PASSPORT_COUNTRY_CODE</th>\n      <td>VARCHAR</td>\n    </tr>\n    <tr>\n      <th>COUNTRIES_VISITED</th>\n      <td>VARCHAR</td>\n    </tr>\n    <tr>\n      <th>COUNTRIES_VISITED_COUNT</th>\n      <td>SMALLINT</td>\n    </tr>\n    <tr>\n      <th>ARRIVAL_AIRPORT_COUNTRY_CODE</th>\n      <td>VARCHAR</td>\n    </tr>\n    <tr>\n      <th>ARRIVAL_AIRPORT_IATA</th>\n      <td>VARCHAR</td>\n    </tr>\n    <tr>\n      <th>ARRIVAL_AIRPORT_MUNICIPALITY</th>\n      <td>VARCHAR</td>\n    </tr>\n    <tr>\n      <th>ARRIVAL_AIRPORT_REGION</th>\n      <td>VARCHAR</td>\n    </tr>\n    <tr>\n      <th>DEPARTURE_AIRPORT_COUNTRY_CODE</th>\n      <td>VARCHAR</td>\n    </tr>\n    <tr>\n      <th>DEPARTURE_AIRPORT_IATA</th>\n      <td>VARCHAR</td>\n    </tr>\n    <tr>\n      <th>DEPARTURE_AIRPORT_MUNICIPALITY</th>\n      <td>VARCHAR</td>\n    </tr>\n    <tr>\n      <th>DEPARTURE_AIRPORT_REGION</th>\n      <td>VARCHAR</td>\n    </tr>\n    <tr>\n      <th>UUID</th>\n      <td>VARCHAR</td>\n    </tr>\n    <tr>\n      <th>AGE</th>\n      <td>SMALLINT</td>\n    </tr>\n  </tbody>\n</table>\n</div>"
                    }
                }
            ], 
            "cell_type": "code", 
            "execution_count": 55, 
            "source": "print(trafficking_df.shape)\ntrafficking_df.dtypes"
        }, 
        {
            "metadata": {}, 
            "cell_type": "markdown", 
            "source": "### Show the top 5 records from the table using a method of the IdaDataFrame <br>\n<div class=\"panel-group\" id=\"accordion-12\">\n  <div class=\"panel panel-default\">\n    <div class=\"panel-heading\">\n      <h4 class=\"panel-title\"><a data-toggle=\"collapse\" data-parent=\"#accordion-12\" href=\"#collapse1-12\">Hint 1</a></h4>\n    </div>\n    <div id=\"collapse1-12\" class=\"panel-collapse collapse\">\n      <div class=\"panel-body\">\n      \nHeads or tails?\n      \n      </div>\n    </div>\n  </div>\n  <div class=\"panel panel-default\">\n    <div class=\"panel-heading\">\n      <h4 class=\"panel-title\"><a data-toggle=\"collapse\" data-parent=\"#accordion-12\" href=\"#collapse2-12\">Solution</a></h4>\n    </div>\n    <div id=\"collapse2-12\" class=\"panel-collapse collapse\">\n      <div class=\"panel-body\">\n      Heads!<br>\n<pre>\ntrafficking_df.head()\n</pre> \n      </div>\n    </div>\n  </div>\n</div>\n"
        }, 
        {
            "metadata": {}, 
            "outputs": [
                {
                    "metadata": {}, 
                    "output_type": "execute_result", 
                    "execution_count": 57, 
                    "data": {
                        "text/plain": "   INTERNAL_ID  VETTING_LEVEL DESCRIPTION  VETTING_LEVEL_PREDICTION  \\\n0            1            100          NA                        30   \n1            2             30          NA                        30   \n2            3            100          NA                        30   \n3            4            100          NA                        30   \n4            5             30          NA                        30   \n\n  ALGORITHM_NAME                      NAME GENDER  BIRTH_DATE BIRTH_COUNTRY  \\\n0  DECISION_TREE           Kathleen Bailey      F  1985-11-27         Ghana   \n1  DECISION_TREE             Kelly Robbins      F  1971-01-17      Pakistan   \n2  DECISION_TREE             Linda Stewart      F  1997-04-15         Ghana   \n3  DECISION_TREE  Stacey Courtney Gonzalez      F  1984-03-27         Ghana   \n4  DECISION_TREE        Erika Patie Fowler      F  1998-06-18         Ghana   \n\n  BIRTH_COUNTRY_CODE ... ARRIVAL_AIRPORT_COUNTRY_CODE ARRIVAL_AIRPORT_IATA  \\\n0                 GH ...                           US                  BMI   \n1                 PK ...                           US                  CLE   \n2                 GH ...                           US                  TPA   \n3                 GH ...                           US                  TOL   \n4                 GH ...                           US                  FWA   \n\n  ARRIVAL_AIRPORT_MUNICIPALITY  ARRIVAL_AIRPORT_REGION  \\\n0           Bloomington/Normal                   US-IL   \n1                    Cleveland                   US-OH   \n2                        Tampa                   US-FL   \n3                       Toledo                   US-OH   \n4                   Fort Wayne                   US-IN   \n\n  DEPARTURE_AIRPORT_COUNTRY_CODE DEPARTURE_AIRPORT_IATA  \\\n0                             AE                    AUH   \n1                             UA                    KBP   \n2                             RU                    KJA   \n3                             RU                    AER   \n4                             IE                    ORK   \n\n  DEPARTURE_AIRPORT_MUNICIPALITY  DEPARTURE_AIRPORT_REGION  \\\n0                      Abu Dhabi                     AE-AZ   \n1                           Kiev                     UA-32   \n2                    Krasnoyarsk                    RU-KYA   \n3                          Sochi                    RU-KDA   \n4                           Cork                      IE-C   \n\n                                   UUID AGE  \n0  81d28245-a6d4-40e3-bac0-df61cc6625ce  31  \n1  b4d817b3-2154-4351-b0e3-bcd736a76bf5  46  \n2  a52a6477-1f5e-4b09-a5e3-f76333a7eb10  19  \n3  5fcbbf15-8268-4306-ac26-406c2faae251  32  \n4  6d1fe59a-6828-4bc5-9ded-2194aa238461  18  \n\n[5 rows x 28 columns]", 
                        "text/html": "<div>\n<table border=\"1\" class=\"dataframe\">\n  <thead>\n    <tr style=\"text-align: right;\">\n      <th></th>\n      <th>INTERNAL_ID</th>\n      <th>VETTING_LEVEL</th>\n      <th>DESCRIPTION</th>\n      <th>VETTING_LEVEL_PREDICTION</th>\n      <th>ALGORITHM_NAME</th>\n      <th>NAME</th>\n      <th>GENDER</th>\n      <th>BIRTH_DATE</th>\n      <th>BIRTH_COUNTRY</th>\n      <th>BIRTH_COUNTRY_CODE</th>\n      <th>...</th>\n      <th>ARRIVAL_AIRPORT_COUNTRY_CODE</th>\n      <th>ARRIVAL_AIRPORT_IATA</th>\n      <th>ARRIVAL_AIRPORT_MUNICIPALITY</th>\n      <th>ARRIVAL_AIRPORT_REGION</th>\n      <th>DEPARTURE_AIRPORT_COUNTRY_CODE</th>\n      <th>DEPARTURE_AIRPORT_IATA</th>\n      <th>DEPARTURE_AIRPORT_MUNICIPALITY</th>\n      <th>DEPARTURE_AIRPORT_REGION</th>\n      <th>UUID</th>\n      <th>AGE</th>\n    </tr>\n  </thead>\n  <tbody>\n    <tr>\n      <th>0</th>\n      <td>1</td>\n      <td>100</td>\n      <td>NA</td>\n      <td>30</td>\n      <td>DECISION_TREE</td>\n      <td>Kathleen Bailey</td>\n      <td>F</td>\n      <td>1985-11-27</td>\n      <td>Ghana</td>\n      <td>GH</td>\n      <td>...</td>\n      <td>US</td>\n      <td>BMI</td>\n      <td>Bloomington/Normal</td>\n      <td>US-IL</td>\n      <td>AE</td>\n      <td>AUH</td>\n      <td>Abu Dhabi</td>\n      <td>AE-AZ</td>\n      <td>81d28245-a6d4-40e3-bac0-df61cc6625ce</td>\n      <td>31</td>\n    </tr>\n    <tr>\n      <th>1</th>\n      <td>2</td>\n      <td>30</td>\n      <td>NA</td>\n      <td>30</td>\n      <td>DECISION_TREE</td>\n      <td>Kelly Robbins</td>\n      <td>F</td>\n      <td>1971-01-17</td>\n      <td>Pakistan</td>\n      <td>PK</td>\n      <td>...</td>\n      <td>US</td>\n      <td>CLE</td>\n      <td>Cleveland</td>\n      <td>US-OH</td>\n      <td>UA</td>\n      <td>KBP</td>\n      <td>Kiev</td>\n      <td>UA-32</td>\n      <td>b4d817b3-2154-4351-b0e3-bcd736a76bf5</td>\n      <td>46</td>\n    </tr>\n    <tr>\n      <th>2</th>\n      <td>3</td>\n      <td>100</td>\n      <td>NA</td>\n      <td>30</td>\n      <td>DECISION_TREE</td>\n      <td>Linda Stewart</td>\n      <td>F</td>\n      <td>1997-04-15</td>\n      <td>Ghana</td>\n      <td>GH</td>\n      <td>...</td>\n      <td>US</td>\n      <td>TPA</td>\n      <td>Tampa</td>\n      <td>US-FL</td>\n      <td>RU</td>\n      <td>KJA</td>\n      <td>Krasnoyarsk</td>\n      <td>RU-KYA</td>\n      <td>a52a6477-1f5e-4b09-a5e3-f76333a7eb10</td>\n      <td>19</td>\n    </tr>\n    <tr>\n      <th>3</th>\n      <td>4</td>\n      <td>100</td>\n      <td>NA</td>\n      <td>30</td>\n      <td>DECISION_TREE</td>\n      <td>Stacey Courtney Gonzalez</td>\n      <td>F</td>\n      <td>1984-03-27</td>\n      <td>Ghana</td>\n      <td>GH</td>\n      <td>...</td>\n      <td>US</td>\n      <td>TOL</td>\n      <td>Toledo</td>\n      <td>US-OH</td>\n      <td>RU</td>\n      <td>AER</td>\n      <td>Sochi</td>\n      <td>RU-KDA</td>\n      <td>5fcbbf15-8268-4306-ac26-406c2faae251</td>\n      <td>32</td>\n    </tr>\n    <tr>\n      <th>4</th>\n      <td>5</td>\n      <td>30</td>\n      <td>NA</td>\n      <td>30</td>\n      <td>DECISION_TREE</td>\n      <td>Erika Patie Fowler</td>\n      <td>F</td>\n      <td>1998-06-18</td>\n      <td>Ghana</td>\n      <td>GH</td>\n      <td>...</td>\n      <td>US</td>\n      <td>FWA</td>\n      <td>Fort Wayne</td>\n      <td>US-IN</td>\n      <td>IE</td>\n      <td>ORK</td>\n      <td>Cork</td>\n      <td>IE-C</td>\n      <td>6d1fe59a-6828-4bc5-9ded-2194aa238461</td>\n      <td>18</td>\n    </tr>\n  </tbody>\n</table>\n<p>5 rows \u00d7 28 columns</p>\n</div>"
                    }
                }
            ], 
            "cell_type": "code", 
            "execution_count": 57, 
            "source": "# enter answer here\ntrafficking_df.head(5)"
        }, 
        {
            "metadata": {}, 
            "cell_type": "markdown", 
            "source": "### Query the trafficking table so that we get the vetting_level and the number of times that vetting_level appears in the trafficking table, ordered by the vetting_level<br>\n<div class=\"panel-group\" id=\"accordion-13\">\n  <div class=\"panel panel-default\">\n    <div class=\"panel-heading\">\n      <h4 class=\"panel-title\"><a data-toggle=\"collapse\" data-parent=\"#accordion-13\" href=\"#collapse1-13\">Hint 1</a></h4>\n    </div>\n    <div id=\"collapse1-13\" class=\"panel-collapse collapse\">\n      <div class=\"panel-body\">\n      \nIt is similar to:\n\n<pre>\n<resource>.ida_query('SELECT EMPLOYEE_KEY, COUNT(&#42;) AS COUNT FROM GOSALESDW.EMP_EXPENSE_FACT GROUP BY EMPLOYEE_KEY ORDER BY COUNT DESC LIMIT 10')\n</pre>\n      \n      </div>\n    </div>\n  </div>\n  <div class=\"panel panel-default\">\n    <div class=\"panel-heading\">\n      <h4 class=\"panel-title\"><a data-toggle=\"collapse\" data-parent=\"#accordion-13\" href=\"#collapse2-13\">Hint 2</a></h4>\n    </div>\n    <div id=\"collapse2-13\" class=\"panel-collapse collapse\">\n      <div class=\"panel-body\">\n      \nThe SQL query is:\n\n<pre>\n'SELECT VETTING_LEVEL, COUNT(&#42;) AS COUNT FROM ' + trafficking_table + ' GROUP BY VETTING_LEVEL ORDER BY VETTING_LEVEL'\n</pre>\n      \n      </div>\n    </div>\n  </div>\n  <div class=\"panel panel-default\">\n    <div class=\"panel-heading\">\n      <h4 class=\"panel-title\"><a data-toggle=\"collapse\" data-parent=\"#accordion-13\" href=\"#collapse3-13\">Solution 1</a></h4>\n    </div>\n    <div id=\"collapse3-13\" class=\"panel-collapse collapse\">\n      <div class=\"panel-body\">\n      \n<pre>\nidadb.ida_query('SELECT VETTING_LEVEL, COUNT(&#42;) AS COUNT FROM ' + trafficking_df.name + ' GROUP BY VETTING_LEVEL ORDER BY VETTING_LEVEL')\n</pre>\n\n      </div>\n    </div>\n  </div>\n    <div class=\"panel panel-default\">\n    <div class=\"panel-heading\">\n      <h4 class=\"panel-title\"><a data-toggle=\"collapse\" data-parent=\"#accordion-13\" href=\"#collapse3-14\">Solution 2</a></h4>\n    </div>\n    <div id=\"collapse3-14\" class=\"panel-collapse collapse\">\n      <div class=\"panel-body\">\n      \n<pre>\ntrafficking_df.ida_query('SELECT VETTING_LEVEL, COUNT(&#42;) AS COUNT FROM ' + trafficking_df.name + ' GROUP BY VETTING_LEVEL ORDER BY VETTING_LEVEL')\n</pre>\n\n      </div>\n    </div>\n  </div>\n</div>\n"
        }, 
        {
            "metadata": {}, 
            "outputs": [
                {
                    "metadata": {}, 
                    "output_type": "execute_result", 
                    "execution_count": 62, 
                    "data": {
                        "text/plain": "   vetting_level  count\n0             10   42.0\n1             20   40.0\n2             30   96.0\n3            100  907.0", 
                        "text/html": "<div>\n<table border=\"1\" class=\"dataframe\">\n  <thead>\n    <tr style=\"text-align: right;\">\n      <th></th>\n      <th>vetting_level</th>\n      <th>count</th>\n    </tr>\n  </thead>\n  <tbody>\n    <tr>\n      <th>0</th>\n      <td>10</td>\n      <td>42.0</td>\n    </tr>\n    <tr>\n      <th>1</th>\n      <td>20</td>\n      <td>40.0</td>\n    </tr>\n    <tr>\n      <th>2</th>\n      <td>30</td>\n      <td>96.0</td>\n    </tr>\n    <tr>\n      <th>3</th>\n      <td>100</td>\n      <td>907.0</td>\n    </tr>\n  </tbody>\n</table>\n</div>"
                    }
                }
            ], 
            "cell_type": "code", 
            "execution_count": 62, 
            "source": "# Enter query here\ndb.ida_query('SELECT VETTING_LEVEL, COUNT(*) AS COUNT FROM FEMALE_HUMAN_TRAFFICKING GROUP BY VETTING_LEVEL ORDER BY VETTING_LEVEL')"
        }, 
        {
            "metadata": {}, 
            "cell_type": "markdown", 
            "source": "<a id=\"Close-the-database-connection\"></a>\n## Close the database connection\n\nTo ensure expected behaviors, IdaDataBase instances need to be closed.\n\n__Note__: Closing the *IdaDataBase* is equivalent to closing the connection: once the connection is closed, it is no longer possible to use the *IdaDataBase* instance and any *IdaDataFrame* instances that were opened on this connection."
        }, 
        {
            "metadata": {}, 
            "outputs": [
                {
                    "output_type": "stream", 
                    "text": "Connection closed.\n", 
                    "name": "stdout"
                }
            ], 
            "cell_type": "code", 
            "execution_count": 63, 
            "source": "idadb.close()"
        }, 
        {
            "metadata": {}, 
            "cell_type": "markdown", 
            "source": "<a id=\"Share\"></a>\n## Share the notebook\nYou can share a notebook by selecting the Share icon.<br>\n<img alt=\"IBM Bluemix.Get started now\" src=\"https://raw.githubusercontent.com/jpatter/DSX/master/Lab-1/images/share-button.png\" ><br>\nThis displays a Share Notebook popup which gives the user a link which can can be sent to other users.   Anyone with the link will see the most recent version of the notebook.   The user can determine what level of notebook information will be shared.\n<img alt=\"IBM Bluemix.Get started now\" src=\"https://raw.githubusercontent.com/jpatter/DSX/master/Lab-1/images/Share-Window.PNG\" ><br>"
        }, 
        {
            "metadata": {}, 
            "cell_type": "markdown", 
            "source": "<a id=\"GitHub\"></a>\n## Publish the notebook to gist/GitHub\n\nSelect the Github/Gist integration icon from the command bar (it looks like an open box with an arrow pointing up).<br>\n<img alt=\"IBM Bluemix.Get started now\" src=\"https://raw.githubusercontent.com/jpatter/DSX/master/Lab-1/images/github-button.png\" ><br>\n\nIf you wish to publish to a gist, nothing more is needed.   However, if you want to publish to github, you will need a security token.\n\nSelect Publish on GitHub<br>\n<img alt=\"IBM Bluemix.Get started now\" src=\"https://raw.githubusercontent.com/jpatter/DSX/master/Lab-1/images/NoGitHub.PNG\" ><br>\nYou will get a popup stating that you need to set a token in your account settings.   This can be reached by selecting the account settings link in the popup or by selecting your personal icon (upper right hand corner) and selecting settings.\n\n<img alt=\"IBM Bluemix.Get started now\" src=\"https://raw.githubusercontent.com/jpatter/DSX/master/Lab-1/images/Profile.PNG\" ><br>\nIn the Profile settings page select Integrations and paste your github token there.   \n\n<img alt=\"IBM Bluemix.Get started now\" src=\"https://raw.githubusercontent.com/jpatter/DSX/master/Lab-1/images/Integrations.PNG\" ><br>\nI have provided one for you should you wish to try this which uses the account at http://github.com/dsxspare3/DSX-Demo\n\nI broke it into two pieces because otherwise github will delete it when publishing to github because it is a valid token.   Paste them together when putting in the github token in DSX.\n\nPart 1: 8e8ff3b15d92438fc4  Part 2: a2a0aad611310d2562d8b5\n\nFinally, you need to add the URL for the GitHub in the Settings section of your project.\n\n<img alt=\"IBM Bluemix.Get started now\" src=\"https://raw.githubusercontent.com/jpatter/DSX/master/Lab-1/images/ProjectSettings.PNG\" ><br>\n\n<img alt=\"IBM Bluemix.Get started now\" src=\"https://raw.githubusercontent.com/jpatter/DSX/master/Lab-1/images/GitHubURL.PNG\" ><br>\n\nYou should now be able to publish to GitHub for this project.   When publishing, you are asked for the path to save.   Since all users will be using the same GitHub I suggest publishing to a folder with your username."
        }, 
        {
            "metadata": {}, 
            "cell_type": "markdown", 
            "source": "<a id=\"Help\"></a>\n## Get Help\n\nSelect the icon in the lower right corner \n<img alt=\"IBM Bluemix.Get started now\" src=\"https://raw.githubusercontent.com/jpatter/DSX/master/Lab-1/images/Help-Icon.PNG\"/>\nto display a help window connecting to IBM DSX Support.\n<img alt=\"IBM Bluemix.Get started now\" src=\"https://raw.githubusercontent.com/jpatter/DSX/master/Lab-1/images/Help-Window.PNG\"/>"
        }, 
        {
            "metadata": {}, 
            "cell_type": "markdown", 
            "source": "<a id=\"Summary\"></a>\n## Summary\n\nThis notebook demonstrated how to establish a JDBC connection to a DB2 Warehouse (or DB2) database from Python, work with data frames and explore the data using SQL and data frame object attributes and methods."
        }, 
        {
            "metadata": {}, 
            "cell_type": "markdown", 
            "source": "## Take it farther\n### Free courses on <a href=\"https://cognitiveclass.ai/courses/?utm_source=tutorial-dashdb-python&utm_medium=github&utm_campaign=bdu/\" rel=\"noopener noreferrer\" target=\"_blank\">Cognitive Class.ai</a>: <a href=\"https://bigdatauniversity.com/courses/?utm_source=tutorial-dashdb-python&utm_medium=github&utm_campaign=bdu\" rel=\"noopener noreferrer\" target=\"_blank\"><img src = \"https://ibm.box.com/shared/static/xomeu7dacwufkoawbg3owc8wzuezltn6.png\" width=600px> </a>"
        }, 
        {
            "metadata": {}, 
            "outputs": [], 
            "cell_type": "code", 
            "execution_count": null, 
            "source": ""
        }
    ], 
    "nbformat_minor": 1
}